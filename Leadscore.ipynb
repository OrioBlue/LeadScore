{
 "cells": [
  {
   "cell_type": "markdown",
   "metadata": {},
   "source": [
    "## <font color = blue> Lead Score Case Study </font>\n",
    "\n",
    "**- Aditi Jain And Abhishek Gupta**\n",
    "\n",
    "#### Problem Statement\n",
    "An Education company wishes to identify the most promising leads, i.e. the leads that are most likely to convert into paying customers.\n",
    "Although company gets a lot of leads, its lead conversion rate is very poor.\n",
    "We have leads dataset from the past with around 9000 data points. This consists of various attributes such as Lead Source, Total Time Spent on Website, Total Visits, Last Activity, etc.The target variable is ‘Converted’ which tells whether a past lead was converted or not"
   ]
  },
  {
   "cell_type": "markdown",
   "metadata": {},
   "source": [
    "### Step 1: Importing Data"
   ]
  },
  {
   "cell_type": "code",
   "execution_count": 1,
   "metadata": {},
   "outputs": [],
   "source": [
    "# Suppress Warnings\n",
    "\n",
    "import warnings\n",
    "warnings.filterwarnings('ignore')\n",
    "\n",
    "import pandas as pd, numpy as np, matplotlib.pyplot as plt, seaborn as sns\n",
    "\n",
    "from sklearn.model_selection import train_test_split\n",
    "from sklearn.preprocessing import StandardScaler\n",
    "from sklearn.linear_model import LogisticRegression\n",
    "from sklearn.feature_selection import RFE\n",
    "from sklearn.metrics import precision_score, recall_score\n",
    "from sklearn.metrics import precision_recall_curve\n",
    "from statsmodels.stats.outliers_influence import variance_inflation_factor\n",
    "from sklearn.metrics import confusion_matrix\n",
    "import statsmodels.api as sm\n",
    "from sklearn import metrics"
   ]
  },
  {
   "cell_type": "code",
   "execution_count": 2,
   "metadata": {},
   "outputs": [],
   "source": [
    "# Importing dataset\n",
    "\n",
    "leads_data = pd.read_csv(\"Leads.csv\")"
   ]
  },
  {
   "cell_type": "markdown",
   "metadata": {},
   "source": [
    "### Step 2: Inspecting the Dataframe"
   ]
  },
  {
   "cell_type": "code",
   "execution_count": 3,
   "metadata": {},
   "outputs": [
    {
     "data": {
      "text/html": [
       "<div>\n",
       "<style scoped>\n",
       "    .dataframe tbody tr th:only-of-type {\n",
       "        vertical-align: middle;\n",
       "    }\n",
       "\n",
       "    .dataframe tbody tr th {\n",
       "        vertical-align: top;\n",
       "    }\n",
       "\n",
       "    .dataframe thead th {\n",
       "        text-align: right;\n",
       "    }\n",
       "</style>\n",
       "<table border=\"1\" class=\"dataframe\">\n",
       "  <thead>\n",
       "    <tr style=\"text-align: right;\">\n",
       "      <th></th>\n",
       "      <th>Prospect ID</th>\n",
       "      <th>Lead Number</th>\n",
       "      <th>Lead Origin</th>\n",
       "      <th>Lead Source</th>\n",
       "      <th>Do Not Email</th>\n",
       "      <th>Do Not Call</th>\n",
       "      <th>Converted</th>\n",
       "      <th>TotalVisits</th>\n",
       "      <th>Total Time Spent on Website</th>\n",
       "      <th>Page Views Per Visit</th>\n",
       "      <th>...</th>\n",
       "      <th>Get updates on DM Content</th>\n",
       "      <th>Lead Profile</th>\n",
       "      <th>City</th>\n",
       "      <th>Asymmetrique Activity Index</th>\n",
       "      <th>Asymmetrique Profile Index</th>\n",
       "      <th>Asymmetrique Activity Score</th>\n",
       "      <th>Asymmetrique Profile Score</th>\n",
       "      <th>I agree to pay the amount through cheque</th>\n",
       "      <th>A free copy of Mastering The Interview</th>\n",
       "      <th>Last Notable Activity</th>\n",
       "    </tr>\n",
       "  </thead>\n",
       "  <tbody>\n",
       "    <tr>\n",
       "      <th>0</th>\n",
       "      <td>7927b2df-8bba-4d29-b9a2-b6e0beafe620</td>\n",
       "      <td>660737</td>\n",
       "      <td>API</td>\n",
       "      <td>Olark Chat</td>\n",
       "      <td>No</td>\n",
       "      <td>No</td>\n",
       "      <td>0</td>\n",
       "      <td>0.0</td>\n",
       "      <td>0</td>\n",
       "      <td>0.0</td>\n",
       "      <td>...</td>\n",
       "      <td>No</td>\n",
       "      <td>Select</td>\n",
       "      <td>Select</td>\n",
       "      <td>02.Medium</td>\n",
       "      <td>02.Medium</td>\n",
       "      <td>15.0</td>\n",
       "      <td>15.0</td>\n",
       "      <td>No</td>\n",
       "      <td>No</td>\n",
       "      <td>Modified</td>\n",
       "    </tr>\n",
       "    <tr>\n",
       "      <th>1</th>\n",
       "      <td>2a272436-5132-4136-86fa-dcc88c88f482</td>\n",
       "      <td>660728</td>\n",
       "      <td>API</td>\n",
       "      <td>Organic Search</td>\n",
       "      <td>No</td>\n",
       "      <td>No</td>\n",
       "      <td>0</td>\n",
       "      <td>5.0</td>\n",
       "      <td>674</td>\n",
       "      <td>2.5</td>\n",
       "      <td>...</td>\n",
       "      <td>No</td>\n",
       "      <td>Select</td>\n",
       "      <td>Select</td>\n",
       "      <td>02.Medium</td>\n",
       "      <td>02.Medium</td>\n",
       "      <td>15.0</td>\n",
       "      <td>15.0</td>\n",
       "      <td>No</td>\n",
       "      <td>No</td>\n",
       "      <td>Email Opened</td>\n",
       "    </tr>\n",
       "    <tr>\n",
       "      <th>2</th>\n",
       "      <td>8cc8c611-a219-4f35-ad23-fdfd2656bd8a</td>\n",
       "      <td>660727</td>\n",
       "      <td>Landing Page Submission</td>\n",
       "      <td>Direct Traffic</td>\n",
       "      <td>No</td>\n",
       "      <td>No</td>\n",
       "      <td>1</td>\n",
       "      <td>2.0</td>\n",
       "      <td>1532</td>\n",
       "      <td>2.0</td>\n",
       "      <td>...</td>\n",
       "      <td>No</td>\n",
       "      <td>Potential Lead</td>\n",
       "      <td>Mumbai</td>\n",
       "      <td>02.Medium</td>\n",
       "      <td>01.High</td>\n",
       "      <td>14.0</td>\n",
       "      <td>20.0</td>\n",
       "      <td>No</td>\n",
       "      <td>Yes</td>\n",
       "      <td>Email Opened</td>\n",
       "    </tr>\n",
       "    <tr>\n",
       "      <th>3</th>\n",
       "      <td>0cc2df48-7cf4-4e39-9de9-19797f9b38cc</td>\n",
       "      <td>660719</td>\n",
       "      <td>Landing Page Submission</td>\n",
       "      <td>Direct Traffic</td>\n",
       "      <td>No</td>\n",
       "      <td>No</td>\n",
       "      <td>0</td>\n",
       "      <td>1.0</td>\n",
       "      <td>305</td>\n",
       "      <td>1.0</td>\n",
       "      <td>...</td>\n",
       "      <td>No</td>\n",
       "      <td>Select</td>\n",
       "      <td>Mumbai</td>\n",
       "      <td>02.Medium</td>\n",
       "      <td>01.High</td>\n",
       "      <td>13.0</td>\n",
       "      <td>17.0</td>\n",
       "      <td>No</td>\n",
       "      <td>No</td>\n",
       "      <td>Modified</td>\n",
       "    </tr>\n",
       "    <tr>\n",
       "      <th>4</th>\n",
       "      <td>3256f628-e534-4826-9d63-4a8b88782852</td>\n",
       "      <td>660681</td>\n",
       "      <td>Landing Page Submission</td>\n",
       "      <td>Google</td>\n",
       "      <td>No</td>\n",
       "      <td>No</td>\n",
       "      <td>1</td>\n",
       "      <td>2.0</td>\n",
       "      <td>1428</td>\n",
       "      <td>1.0</td>\n",
       "      <td>...</td>\n",
       "      <td>No</td>\n",
       "      <td>Select</td>\n",
       "      <td>Mumbai</td>\n",
       "      <td>02.Medium</td>\n",
       "      <td>01.High</td>\n",
       "      <td>15.0</td>\n",
       "      <td>18.0</td>\n",
       "      <td>No</td>\n",
       "      <td>No</td>\n",
       "      <td>Modified</td>\n",
       "    </tr>\n",
       "  </tbody>\n",
       "</table>\n",
       "<p>5 rows × 37 columns</p>\n",
       "</div>"
      ],
      "text/plain": [
       "                            Prospect ID  Lead Number              Lead Origin  \\\n",
       "0  7927b2df-8bba-4d29-b9a2-b6e0beafe620       660737                      API   \n",
       "1  2a272436-5132-4136-86fa-dcc88c88f482       660728                      API   \n",
       "2  8cc8c611-a219-4f35-ad23-fdfd2656bd8a       660727  Landing Page Submission   \n",
       "3  0cc2df48-7cf4-4e39-9de9-19797f9b38cc       660719  Landing Page Submission   \n",
       "4  3256f628-e534-4826-9d63-4a8b88782852       660681  Landing Page Submission   \n",
       "\n",
       "      Lead Source Do Not Email Do Not Call  Converted  TotalVisits  \\\n",
       "0      Olark Chat           No          No          0          0.0   \n",
       "1  Organic Search           No          No          0          5.0   \n",
       "2  Direct Traffic           No          No          1          2.0   \n",
       "3  Direct Traffic           No          No          0          1.0   \n",
       "4          Google           No          No          1          2.0   \n",
       "\n",
       "   Total Time Spent on Website  Page Views Per Visit  ...  \\\n",
       "0                            0                   0.0  ...   \n",
       "1                          674                   2.5  ...   \n",
       "2                         1532                   2.0  ...   \n",
       "3                          305                   1.0  ...   \n",
       "4                         1428                   1.0  ...   \n",
       "\n",
       "  Get updates on DM Content    Lead Profile    City  \\\n",
       "0                        No          Select  Select   \n",
       "1                        No          Select  Select   \n",
       "2                        No  Potential Lead  Mumbai   \n",
       "3                        No          Select  Mumbai   \n",
       "4                        No          Select  Mumbai   \n",
       "\n",
       "  Asymmetrique Activity Index Asymmetrique Profile Index  \\\n",
       "0                   02.Medium                  02.Medium   \n",
       "1                   02.Medium                  02.Medium   \n",
       "2                   02.Medium                    01.High   \n",
       "3                   02.Medium                    01.High   \n",
       "4                   02.Medium                    01.High   \n",
       "\n",
       "  Asymmetrique Activity Score Asymmetrique Profile Score  \\\n",
       "0                        15.0                       15.0   \n",
       "1                        15.0                       15.0   \n",
       "2                        14.0                       20.0   \n",
       "3                        13.0                       17.0   \n",
       "4                        15.0                       18.0   \n",
       "\n",
       "  I agree to pay the amount through cheque  \\\n",
       "0                                       No   \n",
       "1                                       No   \n",
       "2                                       No   \n",
       "3                                       No   \n",
       "4                                       No   \n",
       "\n",
       "  A free copy of Mastering The Interview Last Notable Activity  \n",
       "0                                     No              Modified  \n",
       "1                                     No          Email Opened  \n",
       "2                                    Yes          Email Opened  \n",
       "3                                     No              Modified  \n",
       "4                                     No              Modified  \n",
       "\n",
       "[5 rows x 37 columns]"
      ]
     },
     "execution_count": 3,
     "metadata": {},
     "output_type": "execute_result"
    }
   ],
   "source": [
    "# Let's see the head of our dataset\n",
    "leads_data.head()"
   ]
  },
  {
   "cell_type": "code",
   "execution_count": 4,
   "metadata": {},
   "outputs": [
    {
     "name": "stdout",
     "output_type": "stream",
     "text": [
      "Shape of the dataset:  (9240, 37)\n"
     ]
    }
   ],
   "source": [
    "# Let's check the dimensions of the dataframe\n",
    "\n",
    "print('Shape of the dataset: ', leads_data.shape)"
   ]
  },
  {
   "cell_type": "code",
   "execution_count": 5,
   "metadata": {},
   "outputs": [
    {
     "data": {
      "text/html": [
       "<div>\n",
       "<style scoped>\n",
       "    .dataframe tbody tr th:only-of-type {\n",
       "        vertical-align: middle;\n",
       "    }\n",
       "\n",
       "    .dataframe tbody tr th {\n",
       "        vertical-align: top;\n",
       "    }\n",
       "\n",
       "    .dataframe thead th {\n",
       "        text-align: right;\n",
       "    }\n",
       "</style>\n",
       "<table border=\"1\" class=\"dataframe\">\n",
       "  <thead>\n",
       "    <tr style=\"text-align: right;\">\n",
       "      <th></th>\n",
       "      <th>Lead Number</th>\n",
       "      <th>Converted</th>\n",
       "      <th>TotalVisits</th>\n",
       "      <th>Total Time Spent on Website</th>\n",
       "      <th>Page Views Per Visit</th>\n",
       "      <th>Asymmetrique Activity Score</th>\n",
       "      <th>Asymmetrique Profile Score</th>\n",
       "    </tr>\n",
       "  </thead>\n",
       "  <tbody>\n",
       "    <tr>\n",
       "      <th>count</th>\n",
       "      <td>9240.000000</td>\n",
       "      <td>9240.000000</td>\n",
       "      <td>9103.000000</td>\n",
       "      <td>9240.000000</td>\n",
       "      <td>9103.000000</td>\n",
       "      <td>5022.000000</td>\n",
       "      <td>5022.000000</td>\n",
       "    </tr>\n",
       "    <tr>\n",
       "      <th>mean</th>\n",
       "      <td>617188.435606</td>\n",
       "      <td>0.385390</td>\n",
       "      <td>3.445238</td>\n",
       "      <td>487.698268</td>\n",
       "      <td>2.362820</td>\n",
       "      <td>14.306252</td>\n",
       "      <td>16.344883</td>\n",
       "    </tr>\n",
       "    <tr>\n",
       "      <th>std</th>\n",
       "      <td>23405.995698</td>\n",
       "      <td>0.486714</td>\n",
       "      <td>4.854853</td>\n",
       "      <td>548.021466</td>\n",
       "      <td>2.161418</td>\n",
       "      <td>1.386694</td>\n",
       "      <td>1.811395</td>\n",
       "    </tr>\n",
       "    <tr>\n",
       "      <th>min</th>\n",
       "      <td>579533.000000</td>\n",
       "      <td>0.000000</td>\n",
       "      <td>0.000000</td>\n",
       "      <td>0.000000</td>\n",
       "      <td>0.000000</td>\n",
       "      <td>7.000000</td>\n",
       "      <td>11.000000</td>\n",
       "    </tr>\n",
       "    <tr>\n",
       "      <th>25%</th>\n",
       "      <td>596484.500000</td>\n",
       "      <td>0.000000</td>\n",
       "      <td>1.000000</td>\n",
       "      <td>12.000000</td>\n",
       "      <td>1.000000</td>\n",
       "      <td>14.000000</td>\n",
       "      <td>15.000000</td>\n",
       "    </tr>\n",
       "    <tr>\n",
       "      <th>50%</th>\n",
       "      <td>615479.000000</td>\n",
       "      <td>0.000000</td>\n",
       "      <td>3.000000</td>\n",
       "      <td>248.000000</td>\n",
       "      <td>2.000000</td>\n",
       "      <td>14.000000</td>\n",
       "      <td>16.000000</td>\n",
       "    </tr>\n",
       "    <tr>\n",
       "      <th>75%</th>\n",
       "      <td>637387.250000</td>\n",
       "      <td>1.000000</td>\n",
       "      <td>5.000000</td>\n",
       "      <td>936.000000</td>\n",
       "      <td>3.000000</td>\n",
       "      <td>15.000000</td>\n",
       "      <td>18.000000</td>\n",
       "    </tr>\n",
       "    <tr>\n",
       "      <th>max</th>\n",
       "      <td>660737.000000</td>\n",
       "      <td>1.000000</td>\n",
       "      <td>251.000000</td>\n",
       "      <td>2272.000000</td>\n",
       "      <td>55.000000</td>\n",
       "      <td>18.000000</td>\n",
       "      <td>20.000000</td>\n",
       "    </tr>\n",
       "  </tbody>\n",
       "</table>\n",
       "</div>"
      ],
      "text/plain": [
       "         Lead Number    Converted  TotalVisits  Total Time Spent on Website  \\\n",
       "count    9240.000000  9240.000000  9103.000000                  9240.000000   \n",
       "mean   617188.435606     0.385390     3.445238                   487.698268   \n",
       "std     23405.995698     0.486714     4.854853                   548.021466   \n",
       "min    579533.000000     0.000000     0.000000                     0.000000   \n",
       "25%    596484.500000     0.000000     1.000000                    12.000000   \n",
       "50%    615479.000000     0.000000     3.000000                   248.000000   \n",
       "75%    637387.250000     1.000000     5.000000                   936.000000   \n",
       "max    660737.000000     1.000000   251.000000                  2272.000000   \n",
       "\n",
       "       Page Views Per Visit  Asymmetrique Activity Score  \\\n",
       "count           9103.000000                  5022.000000   \n",
       "mean               2.362820                    14.306252   \n",
       "std                2.161418                     1.386694   \n",
       "min                0.000000                     7.000000   \n",
       "25%                1.000000                    14.000000   \n",
       "50%                2.000000                    14.000000   \n",
       "75%                3.000000                    15.000000   \n",
       "max               55.000000                    18.000000   \n",
       "\n",
       "       Asymmetrique Profile Score  \n",
       "count                 5022.000000  \n",
       "mean                    16.344883  \n",
       "std                      1.811395  \n",
       "min                     11.000000  \n",
       "25%                     15.000000  \n",
       "50%                     16.000000  \n",
       "75%                     18.000000  \n",
       "max                     20.000000  "
      ]
     },
     "execution_count": 5,
     "metadata": {},
     "output_type": "execute_result"
    }
   ],
   "source": [
    "# Let's look at the statistical aspects of the dataframe\n",
    "\n",
    "leads_data.describe()"
   ]
  },
  {
   "cell_type": "code",
   "execution_count": 6,
   "metadata": {},
   "outputs": [
    {
     "name": "stdout",
     "output_type": "stream",
     "text": [
      "Datatypes of all columns of our Data\n",
      "<class 'pandas.core.frame.DataFrame'>\n",
      "RangeIndex: 9240 entries, 0 to 9239\n",
      "Data columns (total 37 columns):\n",
      " #   Column                                         Non-Null Count  Dtype  \n",
      "---  ------                                         --------------  -----  \n",
      " 0   Prospect ID                                    9240 non-null   object \n",
      " 1   Lead Number                                    9240 non-null   int64  \n",
      " 2   Lead Origin                                    9240 non-null   object \n",
      " 3   Lead Source                                    9204 non-null   object \n",
      " 4   Do Not Email                                   9240 non-null   object \n",
      " 5   Do Not Call                                    9240 non-null   object \n",
      " 6   Converted                                      9240 non-null   int64  \n",
      " 7   TotalVisits                                    9103 non-null   float64\n",
      " 8   Total Time Spent on Website                    9240 non-null   int64  \n",
      " 9   Page Views Per Visit                           9103 non-null   float64\n",
      " 10  Last Activity                                  9137 non-null   object \n",
      " 11  Country                                        6779 non-null   object \n",
      " 12  Specialization                                 7802 non-null   object \n",
      " 13  How did you hear about X Education             7033 non-null   object \n",
      " 14  What is your current occupation                6550 non-null   object \n",
      " 15  What matters most to you in choosing a course  6531 non-null   object \n",
      " 16  Search                                         9240 non-null   object \n",
      " 17  Magazine                                       9240 non-null   object \n",
      " 18  Newspaper Article                              9240 non-null   object \n",
      " 19  X Education Forums                             9240 non-null   object \n",
      " 20  Newspaper                                      9240 non-null   object \n",
      " 21  Digital Advertisement                          9240 non-null   object \n",
      " 22  Through Recommendations                        9240 non-null   object \n",
      " 23  Receive More Updates About Our Courses         9240 non-null   object \n",
      " 24  Tags                                           5887 non-null   object \n",
      " 25  Lead Quality                                   4473 non-null   object \n",
      " 26  Update me on Supply Chain Content              9240 non-null   object \n",
      " 27  Get updates on DM Content                      9240 non-null   object \n",
      " 28  Lead Profile                                   6531 non-null   object \n",
      " 29  City                                           7820 non-null   object \n",
      " 30  Asymmetrique Activity Index                    5022 non-null   object \n",
      " 31  Asymmetrique Profile Index                     5022 non-null   object \n",
      " 32  Asymmetrique Activity Score                    5022 non-null   float64\n",
      " 33  Asymmetrique Profile Score                     5022 non-null   float64\n",
      " 34  I agree to pay the amount through cheque       9240 non-null   object \n",
      " 35  A free copy of Mastering The Interview         9240 non-null   object \n",
      " 36  Last Notable Activity                          9240 non-null   object \n",
      "dtypes: float64(4), int64(3), object(30)\n",
      "memory usage: 2.6+ MB\n"
     ]
    }
   ],
   "source": [
    "# Let's see the type of each column\n",
    "print('Datatypes of all columns of our Data')\n",
    "\n",
    "leads_data.info()"
   ]
  },
  {
   "cell_type": "markdown",
   "metadata": {},
   "source": [
    "### Step 3 : Data Cleaning"
   ]
  },
  {
   "cell_type": "markdown",
   "metadata": {},
   "source": [
    "#### Replace  'Select' with NaN"
   ]
  },
  {
   "cell_type": "code",
   "execution_count": 7,
   "metadata": {},
   "outputs": [
    {
     "data": {
      "text/html": [
       "<div>\n",
       "<style scoped>\n",
       "    .dataframe tbody tr th:only-of-type {\n",
       "        vertical-align: middle;\n",
       "    }\n",
       "\n",
       "    .dataframe tbody tr th {\n",
       "        vertical-align: top;\n",
       "    }\n",
       "\n",
       "    .dataframe thead th {\n",
       "        text-align: right;\n",
       "    }\n",
       "</style>\n",
       "<table border=\"1\" class=\"dataframe\">\n",
       "  <thead>\n",
       "    <tr style=\"text-align: right;\">\n",
       "      <th></th>\n",
       "      <th>Prospect ID</th>\n",
       "      <th>Lead Number</th>\n",
       "      <th>Lead Origin</th>\n",
       "      <th>Lead Source</th>\n",
       "      <th>Do Not Email</th>\n",
       "      <th>Do Not Call</th>\n",
       "      <th>Converted</th>\n",
       "      <th>TotalVisits</th>\n",
       "      <th>Total Time Spent on Website</th>\n",
       "      <th>Page Views Per Visit</th>\n",
       "      <th>...</th>\n",
       "      <th>Get updates on DM Content</th>\n",
       "      <th>Lead Profile</th>\n",
       "      <th>City</th>\n",
       "      <th>Asymmetrique Activity Index</th>\n",
       "      <th>Asymmetrique Profile Index</th>\n",
       "      <th>Asymmetrique Activity Score</th>\n",
       "      <th>Asymmetrique Profile Score</th>\n",
       "      <th>I agree to pay the amount through cheque</th>\n",
       "      <th>A free copy of Mastering The Interview</th>\n",
       "      <th>Last Notable Activity</th>\n",
       "    </tr>\n",
       "  </thead>\n",
       "  <tbody>\n",
       "    <tr>\n",
       "      <th>0</th>\n",
       "      <td>7927b2df-8bba-4d29-b9a2-b6e0beafe620</td>\n",
       "      <td>660737</td>\n",
       "      <td>API</td>\n",
       "      <td>Olark Chat</td>\n",
       "      <td>No</td>\n",
       "      <td>No</td>\n",
       "      <td>0</td>\n",
       "      <td>0.0</td>\n",
       "      <td>0</td>\n",
       "      <td>0.0</td>\n",
       "      <td>...</td>\n",
       "      <td>No</td>\n",
       "      <td>NaN</td>\n",
       "      <td>NaN</td>\n",
       "      <td>02.Medium</td>\n",
       "      <td>02.Medium</td>\n",
       "      <td>15.0</td>\n",
       "      <td>15.0</td>\n",
       "      <td>No</td>\n",
       "      <td>No</td>\n",
       "      <td>Modified</td>\n",
       "    </tr>\n",
       "    <tr>\n",
       "      <th>1</th>\n",
       "      <td>2a272436-5132-4136-86fa-dcc88c88f482</td>\n",
       "      <td>660728</td>\n",
       "      <td>API</td>\n",
       "      <td>Organic Search</td>\n",
       "      <td>No</td>\n",
       "      <td>No</td>\n",
       "      <td>0</td>\n",
       "      <td>5.0</td>\n",
       "      <td>674</td>\n",
       "      <td>2.5</td>\n",
       "      <td>...</td>\n",
       "      <td>No</td>\n",
       "      <td>NaN</td>\n",
       "      <td>NaN</td>\n",
       "      <td>02.Medium</td>\n",
       "      <td>02.Medium</td>\n",
       "      <td>15.0</td>\n",
       "      <td>15.0</td>\n",
       "      <td>No</td>\n",
       "      <td>No</td>\n",
       "      <td>Email Opened</td>\n",
       "    </tr>\n",
       "    <tr>\n",
       "      <th>2</th>\n",
       "      <td>8cc8c611-a219-4f35-ad23-fdfd2656bd8a</td>\n",
       "      <td>660727</td>\n",
       "      <td>Landing Page Submission</td>\n",
       "      <td>Direct Traffic</td>\n",
       "      <td>No</td>\n",
       "      <td>No</td>\n",
       "      <td>1</td>\n",
       "      <td>2.0</td>\n",
       "      <td>1532</td>\n",
       "      <td>2.0</td>\n",
       "      <td>...</td>\n",
       "      <td>No</td>\n",
       "      <td>Potential Lead</td>\n",
       "      <td>Mumbai</td>\n",
       "      <td>02.Medium</td>\n",
       "      <td>01.High</td>\n",
       "      <td>14.0</td>\n",
       "      <td>20.0</td>\n",
       "      <td>No</td>\n",
       "      <td>Yes</td>\n",
       "      <td>Email Opened</td>\n",
       "    </tr>\n",
       "    <tr>\n",
       "      <th>3</th>\n",
       "      <td>0cc2df48-7cf4-4e39-9de9-19797f9b38cc</td>\n",
       "      <td>660719</td>\n",
       "      <td>Landing Page Submission</td>\n",
       "      <td>Direct Traffic</td>\n",
       "      <td>No</td>\n",
       "      <td>No</td>\n",
       "      <td>0</td>\n",
       "      <td>1.0</td>\n",
       "      <td>305</td>\n",
       "      <td>1.0</td>\n",
       "      <td>...</td>\n",
       "      <td>No</td>\n",
       "      <td>NaN</td>\n",
       "      <td>Mumbai</td>\n",
       "      <td>02.Medium</td>\n",
       "      <td>01.High</td>\n",
       "      <td>13.0</td>\n",
       "      <td>17.0</td>\n",
       "      <td>No</td>\n",
       "      <td>No</td>\n",
       "      <td>Modified</td>\n",
       "    </tr>\n",
       "    <tr>\n",
       "      <th>4</th>\n",
       "      <td>3256f628-e534-4826-9d63-4a8b88782852</td>\n",
       "      <td>660681</td>\n",
       "      <td>Landing Page Submission</td>\n",
       "      <td>Google</td>\n",
       "      <td>No</td>\n",
       "      <td>No</td>\n",
       "      <td>1</td>\n",
       "      <td>2.0</td>\n",
       "      <td>1428</td>\n",
       "      <td>1.0</td>\n",
       "      <td>...</td>\n",
       "      <td>No</td>\n",
       "      <td>NaN</td>\n",
       "      <td>Mumbai</td>\n",
       "      <td>02.Medium</td>\n",
       "      <td>01.High</td>\n",
       "      <td>15.0</td>\n",
       "      <td>18.0</td>\n",
       "      <td>No</td>\n",
       "      <td>No</td>\n",
       "      <td>Modified</td>\n",
       "    </tr>\n",
       "  </tbody>\n",
       "</table>\n",
       "<p>5 rows × 37 columns</p>\n",
       "</div>"
      ],
      "text/plain": [
       "                            Prospect ID  Lead Number              Lead Origin  \\\n",
       "0  7927b2df-8bba-4d29-b9a2-b6e0beafe620       660737                      API   \n",
       "1  2a272436-5132-4136-86fa-dcc88c88f482       660728                      API   \n",
       "2  8cc8c611-a219-4f35-ad23-fdfd2656bd8a       660727  Landing Page Submission   \n",
       "3  0cc2df48-7cf4-4e39-9de9-19797f9b38cc       660719  Landing Page Submission   \n",
       "4  3256f628-e534-4826-9d63-4a8b88782852       660681  Landing Page Submission   \n",
       "\n",
       "      Lead Source Do Not Email Do Not Call  Converted  TotalVisits  \\\n",
       "0      Olark Chat           No          No          0          0.0   \n",
       "1  Organic Search           No          No          0          5.0   \n",
       "2  Direct Traffic           No          No          1          2.0   \n",
       "3  Direct Traffic           No          No          0          1.0   \n",
       "4          Google           No          No          1          2.0   \n",
       "\n",
       "   Total Time Spent on Website  Page Views Per Visit  ...  \\\n",
       "0                            0                   0.0  ...   \n",
       "1                          674                   2.5  ...   \n",
       "2                         1532                   2.0  ...   \n",
       "3                          305                   1.0  ...   \n",
       "4                         1428                   1.0  ...   \n",
       "\n",
       "  Get updates on DM Content    Lead Profile    City  \\\n",
       "0                        No             NaN     NaN   \n",
       "1                        No             NaN     NaN   \n",
       "2                        No  Potential Lead  Mumbai   \n",
       "3                        No             NaN  Mumbai   \n",
       "4                        No             NaN  Mumbai   \n",
       "\n",
       "  Asymmetrique Activity Index Asymmetrique Profile Index  \\\n",
       "0                   02.Medium                  02.Medium   \n",
       "1                   02.Medium                  02.Medium   \n",
       "2                   02.Medium                    01.High   \n",
       "3                   02.Medium                    01.High   \n",
       "4                   02.Medium                    01.High   \n",
       "\n",
       "  Asymmetrique Activity Score Asymmetrique Profile Score  \\\n",
       "0                        15.0                       15.0   \n",
       "1                        15.0                       15.0   \n",
       "2                        14.0                       20.0   \n",
       "3                        13.0                       17.0   \n",
       "4                        15.0                       18.0   \n",
       "\n",
       "  I agree to pay the amount through cheque  \\\n",
       "0                                       No   \n",
       "1                                       No   \n",
       "2                                       No   \n",
       "3                                       No   \n",
       "4                                       No   \n",
       "\n",
       "  A free copy of Mastering The Interview Last Notable Activity  \n",
       "0                                     No              Modified  \n",
       "1                                     No          Email Opened  \n",
       "2                                    Yes          Email Opened  \n",
       "3                                     No              Modified  \n",
       "4                                     No              Modified  \n",
       "\n",
       "[5 rows x 37 columns]"
      ]
     },
     "execution_count": 7,
     "metadata": {},
     "output_type": "execute_result"
    }
   ],
   "source": [
    "# Variables containing 'Select'\n",
    "vars_containing_select = ['City', 'Lead Profile', 'How did you hear about X Education', 'Specialization']\n",
    "\n",
    "# Select to be replaced with NaN as it denotes missing value.\n",
    "\n",
    "leads_data[vars_containing_select]= leads_data[vars_containing_select].replace(to_replace = 'Select',  value = np.nan)\n",
    "\n",
    "leads_data.head()"
   ]
  },
  {
   "cell_type": "markdown",
   "metadata": {},
   "source": [
    "#### Drop Highly Imbalanced/Skewed Variables"
   ]
  },
  {
   "cell_type": "code",
   "execution_count": 8,
   "metadata": {},
   "outputs": [
    {
     "name": "stdout",
     "output_type": "stream",
     "text": [
      "Better Career Prospects      6528\n",
      "NaN                          2709\n",
      "Flexibility & Convenience       2\n",
      "Other                           1\n",
      "Name: What matters most to you in choosing a course, dtype: int64\n"
     ]
    }
   ],
   "source": [
    "print(leads_data['What matters most to you in choosing a course'].value_counts(dropna=False))\n",
    "\n",
    "# Highly Imbalanced/Skewed Data, we can drop this.\n",
    "\n",
    "leads_data.drop(['What matters most to you in choosing a course'], axis = 1, inplace = True)"
   ]
  },
  {
   "cell_type": "code",
   "execution_count": 9,
   "metadata": {},
   "outputs": [
    {
     "name": "stdout",
     "output_type": "stream",
     "text": [
      "NaN                                                  3353\n",
      "Will revert after reading the email                  2072\n",
      "Ringing                                              1203\n",
      "Interested in other courses                           513\n",
      "Already a student                                     465\n",
      "Closed by Horizzon                                    358\n",
      "switched off                                          240\n",
      "Busy                                                  186\n",
      "Lost to EINS                                          175\n",
      "Not doing further education                           145\n",
      "Interested  in full time MBA                          117\n",
      "Graduation in progress                                111\n",
      "invalid number                                         83\n",
      "Diploma holder (Not Eligible)                          63\n",
      "wrong number given                                     47\n",
      "opp hangup                                             33\n",
      "number not provided                                    27\n",
      "in touch with EINS                                     12\n",
      "Lost to Others                                          7\n",
      "Still Thinking                                          6\n",
      "Want to take admission but has financial problems       6\n",
      "Interested in Next batch                                5\n",
      "In confusion whether part time or DLP                   5\n",
      "Lateral student                                         3\n",
      "Shall take in the next coming month                     2\n",
      "University not recognized                               2\n",
      "Recognition issue (DEC approval)                        1\n",
      "Name: Tags, dtype: int64\n"
     ]
    }
   ],
   "source": [
    "print(leads_data['Tags'].value_counts(dropna = False))\n",
    "\n",
    "# Highly Imbalanced/Skewed Data, also contains null values, we can drop this.\n",
    "leads_data.drop(['Tags'], 1, inplace = True)"
   ]
  },
  {
   "cell_type": "code",
   "execution_count": 10,
   "metadata": {},
   "outputs": [
    {
     "name": "stdout",
     "output_type": "stream",
     "text": [
      "India                   0.702597\n",
      "NaN                     0.266342\n",
      "United States           0.007468\n",
      "United Arab Emirates    0.005736\n",
      "Singapore               0.002597\n",
      "Saudi Arabia            0.002273\n",
      "United Kingdom          0.001623\n",
      "Australia               0.001407\n",
      "Qatar                   0.001082\n",
      "Bahrain                 0.000758\n",
      "Hong Kong               0.000758\n",
      "Oman                    0.000649\n",
      "France                  0.000649\n",
      "unknown                 0.000541\n",
      "South Africa            0.000433\n",
      "Kuwait                  0.000433\n",
      "Canada                  0.000433\n",
      "Nigeria                 0.000433\n",
      "Germany                 0.000433\n",
      "Sweden                  0.000325\n",
      "Asia/Pacific Region     0.000216\n",
      "Philippines             0.000216\n",
      "Bangladesh              0.000216\n",
      "China                   0.000216\n",
      "Belgium                 0.000216\n",
      "Ghana                   0.000216\n",
      "Uganda                  0.000216\n",
      "Italy                   0.000216\n",
      "Netherlands             0.000216\n",
      "Tanzania                0.000108\n",
      "Kenya                   0.000108\n",
      "Liberia                 0.000108\n",
      "Switzerland             0.000108\n",
      "Indonesia               0.000108\n",
      "Malaysia                0.000108\n",
      "Vietnam                 0.000108\n",
      "Sri Lanka               0.000108\n",
      "Denmark                 0.000108\n",
      "Russia                  0.000108\n",
      "Name: Country, dtype: float64\n"
     ]
    }
   ],
   "source": [
    "print(leads_data['Country'].value_counts(dropna = False, normalize = True))\n",
    "\n",
    "# Highly Imbalanced/Skewed Data, also contains null values, we can drop this.\n",
    "leads_data.drop(['Country'], 1, inplace = True)"
   ]
  },
  {
   "cell_type": "code",
   "execution_count": 11,
   "metadata": {},
   "outputs": [
    {
     "name": "stdout",
     "output_type": "stream",
     "text": [
      "Unemployed              5600\n",
      "NaN                     2690\n",
      "Working Professional     706\n",
      "Student                  210\n",
      "Other                     16\n",
      "Housewife                 10\n",
      "Businessman                8\n",
      "Name: What is your current occupation, dtype: int64\n"
     ]
    }
   ],
   "source": [
    "print(leads_data['What is your current occupation'].value_counts(dropna = False))\n",
    "\n",
    "# Highly Imbalanced/Skewed Data, also contains null values, we can drop this.\n",
    "leads_data.drop(['What is your current occupation'], 1, inplace = True)"
   ]
  },
  {
   "cell_type": "markdown",
   "metadata": {},
   "source": [
    "#### Imputing Missing Values\n",
    "   "
   ]
  },
  {
   "cell_type": "code",
   "execution_count": 12,
   "metadata": {},
   "outputs": [
    {
     "name": "stdout",
     "output_type": "stream",
     "text": [
      "NaN                            0.397078\n",
      "Mumbai                         0.348701\n",
      "Thane & Outskirts              0.081385\n",
      "Other Cities                   0.074242\n",
      "Other Cities of Maharashtra    0.049459\n",
      "Other Metro Cities             0.041126\n",
      "Tier II Cities                 0.008009\n",
      "Name: City, dtype: float64\n",
      "After CLubing\n",
      " Other Cities         0.569913\n",
      "Mumbai               0.348701\n",
      "Thane & Outskirts    0.081385\n",
      "Name: City, dtype: float64\n"
     ]
    }
   ],
   "source": [
    "print(leads_data['City'].value_counts(dropna = False, normalize = True))\n",
    "\n",
    "# We could club cities as 'Others' with low percentage category and null values\n",
    "\n",
    "leads_data['City'] = leads_data['City'].replace(to_replace = [np.nan, \"Other Metro Cities\", \"Tier II Cities\",\n",
    "                                                             \"Other Cities of Maharashtra\"],  value = 'Other Cities')\n",
    "\n",
    "print(\"After CLubing\\n\", leads_data['City'].value_counts(dropna = False, normalize = True))"
   ]
  },
  {
   "cell_type": "code",
   "execution_count": 13,
   "metadata": {},
   "outputs": [
    {
     "name": "stdout",
     "output_type": "stream",
     "text": [
      "NaN                                  0.365801\n",
      "Finance Management                   0.105628\n",
      "Human Resource Management            0.091775\n",
      "Marketing Management                 0.090693\n",
      "Operations Management                0.054437\n",
      "Business Administration              0.043615\n",
      "IT Projects Management               0.039610\n",
      "Supply Chain Management              0.037771\n",
      "Banking, Investment And Insurance    0.036580\n",
      "Media and Advertising                0.021970\n",
      "Travel and Tourism                   0.021970\n",
      "International Business               0.019264\n",
      "Healthcare Management                0.017208\n",
      "Hospitality Management               0.012338\n",
      "E-COMMERCE                           0.012121\n",
      "Retail Management                    0.010823\n",
      "Rural and Agribusiness               0.007900\n",
      "E-Business                           0.006169\n",
      "Services Excellence                  0.004329\n",
      "Name: Specialization, dtype: float64\n",
      "After Replacement Others                               0.365801\n",
      "Finance Management                   0.105628\n",
      "Human Resource Management            0.091775\n",
      "Marketing Management                 0.090693\n",
      "Operations Management                0.054437\n",
      "Business Administration              0.043615\n",
      "IT Projects Management               0.039610\n",
      "Supply Chain Management              0.037771\n",
      "Banking, Investment And Insurance    0.036580\n",
      "Travel and Tourism                   0.021970\n",
      "Media and Advertising                0.021970\n",
      "International Business               0.019264\n",
      "Healthcare Management                0.017208\n",
      "Hospitality Management               0.012338\n",
      "E-COMMERCE                           0.012121\n",
      "Retail Management                    0.010823\n",
      "Rural and Agribusiness               0.007900\n",
      "E-Business                           0.006169\n",
      "Services Excellence                  0.004329\n",
      "Name: Specialization, dtype: float64\n"
     ]
    }
   ],
   "source": [
    "print(leads_data['Specialization'].value_counts(dropna = False, normalize = True))\n",
    "\n",
    "leads_data['Specialization'].replace(np.nan, 'Others', inplace = True)\n",
    "print('After Replacement', leads_data['Specialization'].value_counts(dropna = False, normalize = True))"
   ]
  },
  {
   "cell_type": "code",
   "execution_count": 14,
   "metadata": {},
   "outputs": [
    {
     "name": "stdout",
     "output_type": "stream",
     "text": [
      "Email Opened                    0.371970\n",
      "SMS Sent                        0.297078\n",
      "Olark Chat Conversation         0.105303\n",
      "Page Visited on Website         0.069264\n",
      "Converted to Lead               0.046320\n",
      "Email Bounced                   0.035281\n",
      "Email Link Clicked              0.028896\n",
      "Form Submitted on Website       0.012554\n",
      "NaN                             0.011147\n",
      "Unreachable                     0.010065\n",
      "Unsubscribed                    0.006602\n",
      "Had a Phone Conversation        0.003247\n",
      "Approached upfront              0.000974\n",
      "View in browser link Clicked    0.000649\n",
      "Email Marked Spam               0.000216\n",
      "Email Received                  0.000216\n",
      "Resubscribed to emails          0.000108\n",
      "Visited Booth in Tradeshow      0.000108\n",
      "Name: Last Activity, dtype: float64\n"
     ]
    }
   ],
   "source": [
    "print(leads_data['Last Activity'].value_counts(dropna = False, normalize = True))\n",
    "\n",
    "# Its a sales generated column, hence dropping\n",
    "leads_data.drop(['Last Activity'], 1, inplace = True)"
   ]
  },
  {
   "cell_type": "markdown",
   "metadata": {},
   "source": [
    "#### Binary Variables Distribution"
   ]
  },
  {
   "cell_type": "code",
   "execution_count": 15,
   "metadata": {},
   "outputs": [
    {
     "name": "stdout",
     "output_type": "stream",
     "text": [
      "\n",
      " No     0.920563\n",
      "Yes    0.079437\n",
      "Name: Do Not Email, dtype: float64\n",
      "\n",
      " No     0.999784\n",
      "Yes    0.000216\n",
      "Name: Do Not Call, dtype: float64\n",
      "\n",
      " No     0.998485\n",
      "Yes    0.001515\n",
      "Name: Search, dtype: float64\n",
      "\n",
      " No    1.0\n",
      "Name: Magazine, dtype: float64\n",
      "\n",
      " No     0.999784\n",
      "Yes    0.000216\n",
      "Name: Newspaper Article, dtype: float64\n",
      "\n",
      " No     0.999892\n",
      "Yes    0.000108\n",
      "Name: X Education Forums, dtype: float64\n",
      "\n",
      " No     0.999892\n",
      "Yes    0.000108\n",
      "Name: Newspaper, dtype: float64\n",
      "\n",
      " No     0.999567\n",
      "Yes    0.000433\n",
      "Name: Digital Advertisement, dtype: float64\n",
      "\n",
      " No     0.999242\n",
      "Yes    0.000758\n",
      "Name: Through Recommendations, dtype: float64\n",
      "\n",
      " No    1.0\n",
      "Name: Receive More Updates About Our Courses, dtype: float64\n",
      "\n",
      " No    1.0\n",
      "Name: Get updates on DM Content, dtype: float64\n",
      "\n",
      " No    1.0\n",
      "Name: I agree to pay the amount through cheque, dtype: float64\n",
      "\n",
      " No     0.687446\n",
      "Yes    0.312554\n",
      "Name: A free copy of Mastering The Interview, dtype: float64\n",
      "\n",
      " No    1.0\n",
      "Name: Update me on Supply Chain Content, dtype: float64\n"
     ]
    }
   ],
   "source": [
    "# List of binary variables\n",
    "\n",
    "binary_vars =  ['Do Not Email', 'Do Not Call', 'Search','Magazine','Newspaper Article','X Education Forums',\n",
    "            'Newspaper','Digital Advertisement','Through Recommendations','Receive More Updates About Our Courses',\n",
    "            'Get updates on DM Content','I agree to pay the amount through cheque','A free copy of Mastering The Interview',\n",
    "            'Update me on Supply Chain Content']\n",
    "\n",
    "for col in binary_vars:\n",
    "    print('\\n', leads_data[col].value_counts(dropna = False, normalize = True))\n"
   ]
  },
  {
   "cell_type": "markdown",
   "metadata": {},
   "source": [
    "##### As we can see from the value counts, there are varaibles where more than 95% ofvalues are No, we could drop these columns.\n"
   ]
  },
  {
   "cell_type": "code",
   "execution_count": 16,
   "metadata": {},
   "outputs": [],
   "source": [
    "# Variables having more than 90% as 'No'. These are skewed and can be dropped\n",
    "\n",
    "binary_vars_to_drop =  ['Do Not Call', 'Search','Magazine','Newspaper Article','X Education Forums',\n",
    "            'Newspaper','Digital Advertisement','Through Recommendations','Receive More Updates About Our Courses',\n",
    "            'Get updates on DM Content','I agree to pay the amount through cheque',\n",
    "            'Update me on Supply Chain Content']\n",
    "\n",
    "for col in binary_vars_to_drop:\n",
    "    leads_data.drop([col], 1, inplace = True)"
   ]
  },
  {
   "cell_type": "markdown",
   "metadata": {},
   "source": [
    "#### Bucketing of  Skewed Categorical Variables"
   ]
  },
  {
   "cell_type": "code",
   "execution_count": 17,
   "metadata": {},
   "outputs": [
    {
     "name": "stdout",
     "output_type": "stream",
     "text": [
      "Landing Page Submission    0.528788\n",
      "API                        0.387446\n",
      "Lead Add Form              0.077706\n",
      "Lead Import                0.005952\n",
      "Quick Add Form             0.000108\n",
      "Name: Lead Origin, dtype: float64\n",
      "\n",
      " After Bucketing: \n",
      " Landing Page Submission    0.528788\n",
      "API                        0.387446\n",
      "Lead Add Form              0.077706\n",
      "Others                     0.006061\n",
      "Name: Lead Origin, dtype: float64\n"
     ]
    }
   ],
   "source": [
    "# Define a function that assign 'Others' to categories where value count is less than 20%\n",
    "\n",
    "def bucketSkewed(col):\n",
    "    valueCnt = leads_data[col].value_counts(dropna = False, normalize = True)\n",
    "    print(valueCnt)\n",
    "\n",
    "    skewed = leads_data[col].value_counts()[valueCnt < 0.05 ].index\n",
    "    for i in skewed:\n",
    "        leads_data[col] = np.where(leads_data[col] == i, 'Others', leads_data[col])\n",
    "    \n",
    "    print('\\n After Bucketing: \\n', leads_data[col].value_counts(dropna = False, normalize = True))\n",
    "    \n",
    "# Lead Origin is Skewed - Need Bucketing\n",
    "bucketSkewed('Lead Origin')"
   ]
  },
  {
   "cell_type": "code",
   "execution_count": 18,
   "metadata": {},
   "outputs": [
    {
     "name": "stdout",
     "output_type": "stream",
     "text": [
      "Others                               0.365801\n",
      "Finance Management                   0.105628\n",
      "Human Resource Management            0.091775\n",
      "Marketing Management                 0.090693\n",
      "Operations Management                0.054437\n",
      "Business Administration              0.043615\n",
      "IT Projects Management               0.039610\n",
      "Supply Chain Management              0.037771\n",
      "Banking, Investment And Insurance    0.036580\n",
      "Travel and Tourism                   0.021970\n",
      "Media and Advertising                0.021970\n",
      "International Business               0.019264\n",
      "Healthcare Management                0.017208\n",
      "Hospitality Management               0.012338\n",
      "E-COMMERCE                           0.012121\n",
      "Retail Management                    0.010823\n",
      "Rural and Agribusiness               0.007900\n",
      "E-Business                           0.006169\n",
      "Services Excellence                  0.004329\n",
      "Name: Specialization, dtype: float64\n",
      "\n",
      " After Bucketing: \n",
      " Others                       0.657468\n",
      "Finance Management           0.105628\n",
      "Human Resource Management    0.091775\n",
      "Marketing Management         0.090693\n",
      "Operations Management        0.054437\n",
      "Name: Specialization, dtype: float64\n"
     ]
    }
   ],
   "source": [
    "# Specialization is Skewed - Need Bucketing\n",
    "bucketSkewed('Specialization')"
   ]
  },
  {
   "cell_type": "code",
   "execution_count": 19,
   "metadata": {},
   "outputs": [
    {
     "name": "stdout",
     "output_type": "stream",
     "text": [
      "Other Cities         0.569913\n",
      "Mumbai               0.348701\n",
      "Thane & Outskirts    0.081385\n",
      "Name: City, dtype: float64\n",
      "\n",
      " After Bucketing: \n",
      " Other Cities         0.569913\n",
      "Mumbai               0.348701\n",
      "Thane & Outskirts    0.081385\n",
      "Name: City, dtype: float64\n"
     ]
    }
   ],
   "source": [
    "# Specialization is Skewed - Need Bucketing\n",
    "bucketSkewed('City')"
   ]
  },
  {
   "cell_type": "code",
   "execution_count": 20,
   "metadata": {},
   "outputs": [
    {
     "name": "stdout",
     "output_type": "stream",
     "text": [
      "Google               0.310390\n",
      "Direct Traffic       0.275216\n",
      "Olark Chat           0.189935\n",
      "Organic Search       0.124892\n",
      "Reference            0.057792\n",
      "Welingak Website     0.015368\n",
      "Referral Sites       0.013528\n",
      "Facebook             0.005952\n",
      "NaN                  0.003896\n",
      "bing                 0.000649\n",
      "google               0.000541\n",
      "Click2call           0.000433\n",
      "Live Chat            0.000216\n",
      "Social Media         0.000216\n",
      "Press_Release        0.000216\n",
      "WeLearn              0.000108\n",
      "testone              0.000108\n",
      "welearnblog_Home     0.000108\n",
      "blog                 0.000108\n",
      "Pay per Click Ads    0.000108\n",
      "NC_EDM               0.000108\n",
      "youtubechannel       0.000108\n",
      "Name: Lead Source, dtype: float64\n",
      "\n",
      " After Bucketing: \n",
      " Google            0.310390\n",
      "Direct Traffic    0.275216\n",
      "Olark Chat        0.189935\n",
      "Organic Search    0.124892\n",
      "Reference         0.057792\n",
      "Others            0.037879\n",
      "NaN               0.003896\n",
      "Name: Lead Source, dtype: float64\n"
     ]
    }
   ],
   "source": [
    "# Lead Source is Skewed - Need Bucketing\n",
    "bucketSkewed('Lead Source')"
   ]
  },
  {
   "cell_type": "code",
   "execution_count": 21,
   "metadata": {},
   "outputs": [
    {
     "name": "stdout",
     "output_type": "stream",
     "text": [
      "Modified                        0.368723\n",
      "Email Opened                    0.305952\n",
      "SMS Sent                        0.235065\n",
      "Page Visited on Website         0.034416\n",
      "Olark Chat Conversation         0.019805\n",
      "Email Link Clicked              0.018723\n",
      "Email Bounced                   0.006494\n",
      "Unsubscribed                    0.005087\n",
      "Unreachable                     0.003463\n",
      "Had a Phone Conversation        0.001515\n",
      "Email Marked Spam               0.000216\n",
      "Email Received                  0.000108\n",
      "View in browser link Clicked    0.000108\n",
      "Resubscribed to emails          0.000108\n",
      "Approached upfront              0.000108\n",
      "Form Submitted on Website       0.000108\n",
      "Name: Last Notable Activity, dtype: float64\n",
      "\n",
      " After Bucketing: \n",
      " Modified        0.368723\n",
      "Email Opened    0.305952\n",
      "SMS Sent        0.235065\n",
      "Others          0.090260\n",
      "Name: Last Notable Activity, dtype: float64\n"
     ]
    }
   ],
   "source": [
    "# Last Notable Activity is Skewed - Need Bucketing\n",
    "bucketSkewed('Last Notable Activity')"
   ]
  },
  {
   "cell_type": "markdown",
   "metadata": {},
   "source": [
    "#### Percentage of Missing Values"
   ]
  },
  {
   "cell_type": "code",
   "execution_count": 22,
   "metadata": {},
   "outputs": [
    {
     "data": {
      "text/plain": [
       "How did you hear about X Education    78.46\n",
       "Lead Profile                          74.19\n",
       "Lead Quality                          51.59\n",
       "Asymmetrique Profile Score            45.65\n",
       "Asymmetrique Activity Score           45.65\n",
       "Asymmetrique Profile Index            45.65\n",
       "Asymmetrique Activity Index           45.65\n",
       "Page Views Per Visit                   1.48\n",
       "TotalVisits                            1.48\n",
       "Lead Source                            0.39\n",
       "dtype: float64"
      ]
     },
     "execution_count": 22,
     "metadata": {},
     "output_type": "execute_result"
    }
   ],
   "source": [
    "# Get Missing Values columns\n",
    "\n",
    "null_percentage = leads_data[leads_data.columns[leads_data.isna().any()]].isna().mean().round(4) * 100\n",
    "null_percentage.sort_values(ascending = False)"
   ]
  },
  {
   "cell_type": "markdown",
   "metadata": {},
   "source": [
    "#### Drop Columns having more than 40% of null values"
   ]
  },
  {
   "cell_type": "code",
   "execution_count": 23,
   "metadata": {},
   "outputs": [
    {
     "name": "stdout",
     "output_type": "stream",
     "text": [
      "Shape of Data after dropping mising value columns (9240, 13)\n"
     ]
    }
   ],
   "source": [
    "# Drop columns having more than 40% of null values\n",
    "\n",
    "leads_data.drop(leads_data.columns[leads_data.isnull().sum()/leads_data.shape[0] > 0.4].tolist(), axis=1, inplace = True)\n",
    "\n",
    "print('Shape of Data after dropping mising value columns' , leads_data.shape)"
   ]
  },
  {
   "cell_type": "markdown",
   "metadata": {},
   "source": [
    "#### Drop Rows having small % of missing values"
   ]
  },
  {
   "cell_type": "code",
   "execution_count": 24,
   "metadata": {},
   "outputs": [],
   "source": [
    "# Remove TotalVisits Missing rows\n",
    "\n",
    "leads_data = leads_data[~np.isnan(leads_data['TotalVisits'])]"
   ]
  },
  {
   "cell_type": "code",
   "execution_count": 25,
   "metadata": {},
   "outputs": [],
   "source": [
    "# Remove Lead Source Missing rows\n",
    "\n",
    "leads_data.dropna(subset=['Lead Source'], inplace = True)"
   ]
  },
  {
   "cell_type": "code",
   "execution_count": 26,
   "metadata": {},
   "outputs": [
    {
     "data": {
      "text/plain": [
       "Series([], dtype: float64)"
      ]
     },
     "execution_count": 26,
     "metadata": {},
     "output_type": "execute_result"
    }
   ],
   "source": [
    "# Checking percentage of missing values after dropping the missing value columns\n",
    "\n",
    "null_percentage = leads_data[leads_data.columns[leads_data.isna().any()]].isna().mean().round(4) * 100\n",
    "null_percentage.sort_values(ascending = False)"
   ]
  },
  {
   "cell_type": "markdown",
   "metadata": {},
   "source": [
    "##### There are no null values left in our dataframe"
   ]
  },
  {
   "cell_type": "code",
   "execution_count": 27,
   "metadata": {},
   "outputs": [],
   "source": [
    "# We could also drop Columns like unique Identifiers which are not needed for our analysis\n",
    "\n",
    "leads_data.drop(['Prospect ID', 'Lead Number'], 1, inplace = True)"
   ]
  },
  {
   "cell_type": "code",
   "execution_count": 28,
   "metadata": {},
   "outputs": [
    {
     "name": "stdout",
     "output_type": "stream",
     "text": [
      "After Cleaning, shape of our data (9074, 11)\n",
      "Left Columns Index(['Lead Origin', 'Lead Source', 'Do Not Email', 'Converted',\n",
      "       'TotalVisits', 'Total Time Spent on Website', 'Page Views Per Visit',\n",
      "       'Specialization', 'City', 'A free copy of Mastering The Interview',\n",
      "       'Last Notable Activity'],\n",
      "      dtype='object')\n"
     ]
    }
   ],
   "source": [
    "# Let's check shape of our dataframe\n",
    "\n",
    "print('After Cleaning, shape of our data', leads_data.shape)\n",
    "print('Left Columns', leads_data.columns)"
   ]
  },
  {
   "cell_type": "markdown",
   "metadata": {},
   "source": [
    "### Step 4: Data Preparation"
   ]
  },
  {
   "cell_type": "markdown",
   "metadata": {},
   "source": [
    "### Converting binary variables (Yes/No) to 0/1"
   ]
  },
  {
   "cell_type": "code",
   "execution_count": 29,
   "metadata": {},
   "outputs": [],
   "source": [
    "# Defining the map function\n",
    "\n",
    "def binary_map(x):\n",
    "    return x.map({'Yes': 1, 'No': 0})\n",
    "\n",
    "# Applying the function to the binary variables\n",
    "\n",
    "binary_vars =  ['Do Not Email', 'A free copy of Mastering The Interview']\n",
    "\n",
    "leads_data[binary_vars] = leads_data[binary_vars].apply(binary_map)"
   ]
  },
  {
   "cell_type": "markdown",
   "metadata": {},
   "source": [
    "### Shortening Column Labels"
   ]
  },
  {
   "cell_type": "code",
   "execution_count": 30,
   "metadata": {},
   "outputs": [],
   "source": [
    "# Shortening Binary Variables Column Labels\n",
    "\n",
    "shortenLabels = ['DNE', 'FreeCopy']\n",
    "\n",
    "dic = {binary_vars[i]: shortenLabels[i] for i in range(len(binary_vars))} \n",
    "leads_data.rename(columns = dic, inplace = True)\n",
    "\n",
    "binary_vars = shortenLabels"
   ]
  },
  {
   "cell_type": "code",
   "execution_count": 31,
   "metadata": {},
   "outputs": [],
   "source": [
    "# Shortening Continuous Varibales Column labels\n",
    "\n",
    "leads_data.rename(columns = {'Total Time Spent on Website': 'TimeSpent', 'Page Views Per Visit': 'PageViews' }, inplace = True)\n",
    "\n",
    "# Get all the continuos variables\n",
    "continuos_vars = ['TotalVisits', 'TimeSpent', 'PageViews']"
   ]
  },
  {
   "cell_type": "code",
   "execution_count": 32,
   "metadata": {},
   "outputs": [
    {
     "name": "stdout",
     "output_type": "stream",
     "text": [
      "Index(['Lead Origin', 'Lead Source', 'DNE', 'Converted', 'TotalVisits',\n",
      "       'TimeSpent', 'PageViews', 'Specialization', 'City', 'FreeCopy',\n",
      "       'Last Notable Activity'],\n",
      "      dtype='object')\n"
     ]
    },
    {
     "data": {
      "text/html": [
       "<div>\n",
       "<style scoped>\n",
       "    .dataframe tbody tr th:only-of-type {\n",
       "        vertical-align: middle;\n",
       "    }\n",
       "\n",
       "    .dataframe tbody tr th {\n",
       "        vertical-align: top;\n",
       "    }\n",
       "\n",
       "    .dataframe thead th {\n",
       "        text-align: right;\n",
       "    }\n",
       "</style>\n",
       "<table border=\"1\" class=\"dataframe\">\n",
       "  <thead>\n",
       "    <tr style=\"text-align: right;\">\n",
       "      <th></th>\n",
       "      <th>Lead Origin</th>\n",
       "      <th>Lead Source</th>\n",
       "      <th>DNE</th>\n",
       "      <th>Converted</th>\n",
       "      <th>TotalVisits</th>\n",
       "      <th>TimeSpent</th>\n",
       "      <th>PageViews</th>\n",
       "      <th>Specialization</th>\n",
       "      <th>City</th>\n",
       "      <th>FreeCopy</th>\n",
       "      <th>Last Notable Activity</th>\n",
       "    </tr>\n",
       "  </thead>\n",
       "  <tbody>\n",
       "    <tr>\n",
       "      <th>0</th>\n",
       "      <td>API</td>\n",
       "      <td>Olark Chat</td>\n",
       "      <td>0</td>\n",
       "      <td>0</td>\n",
       "      <td>0.0</td>\n",
       "      <td>0</td>\n",
       "      <td>0.0</td>\n",
       "      <td>Others</td>\n",
       "      <td>Other Cities</td>\n",
       "      <td>0</td>\n",
       "      <td>Modified</td>\n",
       "    </tr>\n",
       "    <tr>\n",
       "      <th>1</th>\n",
       "      <td>API</td>\n",
       "      <td>Organic Search</td>\n",
       "      <td>0</td>\n",
       "      <td>0</td>\n",
       "      <td>5.0</td>\n",
       "      <td>674</td>\n",
       "      <td>2.5</td>\n",
       "      <td>Others</td>\n",
       "      <td>Other Cities</td>\n",
       "      <td>0</td>\n",
       "      <td>Email Opened</td>\n",
       "    </tr>\n",
       "    <tr>\n",
       "      <th>2</th>\n",
       "      <td>Landing Page Submission</td>\n",
       "      <td>Direct Traffic</td>\n",
       "      <td>0</td>\n",
       "      <td>1</td>\n",
       "      <td>2.0</td>\n",
       "      <td>1532</td>\n",
       "      <td>2.0</td>\n",
       "      <td>Others</td>\n",
       "      <td>Mumbai</td>\n",
       "      <td>1</td>\n",
       "      <td>Email Opened</td>\n",
       "    </tr>\n",
       "    <tr>\n",
       "      <th>3</th>\n",
       "      <td>Landing Page Submission</td>\n",
       "      <td>Direct Traffic</td>\n",
       "      <td>0</td>\n",
       "      <td>0</td>\n",
       "      <td>1.0</td>\n",
       "      <td>305</td>\n",
       "      <td>1.0</td>\n",
       "      <td>Others</td>\n",
       "      <td>Mumbai</td>\n",
       "      <td>0</td>\n",
       "      <td>Modified</td>\n",
       "    </tr>\n",
       "    <tr>\n",
       "      <th>4</th>\n",
       "      <td>Landing Page Submission</td>\n",
       "      <td>Google</td>\n",
       "      <td>0</td>\n",
       "      <td>1</td>\n",
       "      <td>2.0</td>\n",
       "      <td>1428</td>\n",
       "      <td>1.0</td>\n",
       "      <td>Others</td>\n",
       "      <td>Mumbai</td>\n",
       "      <td>0</td>\n",
       "      <td>Modified</td>\n",
       "    </tr>\n",
       "  </tbody>\n",
       "</table>\n",
       "</div>"
      ],
      "text/plain": [
       "               Lead Origin     Lead Source  DNE  Converted  TotalVisits  \\\n",
       "0                      API      Olark Chat    0          0          0.0   \n",
       "1                      API  Organic Search    0          0          5.0   \n",
       "2  Landing Page Submission  Direct Traffic    0          1          2.0   \n",
       "3  Landing Page Submission  Direct Traffic    0          0          1.0   \n",
       "4  Landing Page Submission          Google    0          1          2.0   \n",
       "\n",
       "   TimeSpent  PageViews Specialization          City  FreeCopy  \\\n",
       "0          0        0.0         Others  Other Cities         0   \n",
       "1        674        2.5         Others  Other Cities         0   \n",
       "2       1532        2.0         Others        Mumbai         1   \n",
       "3        305        1.0         Others        Mumbai         0   \n",
       "4       1428        1.0         Others        Mumbai         0   \n",
       "\n",
       "  Last Notable Activity  \n",
       "0              Modified  \n",
       "1          Email Opened  \n",
       "2          Email Opened  \n",
       "3              Modified  \n",
       "4              Modified  "
      ]
     },
     "execution_count": 32,
     "metadata": {},
     "output_type": "execute_result"
    }
   ],
   "source": [
    "# Lets check our dataframe now\n",
    "\n",
    "print(leads_data.columns)\n",
    "leads_data.head()"
   ]
  },
  {
   "cell_type": "markdown",
   "metadata": {},
   "source": [
    "### Outlier Analysis And Treatment"
   ]
  },
  {
   "cell_type": "code",
   "execution_count": 33,
   "metadata": {},
   "outputs": [],
   "source": [
    "# Checking for outliers in the continuous variables\n",
    "\n",
    "leads_data_num = leads_data[continuos_vars]"
   ]
  },
  {
   "cell_type": "code",
   "execution_count": 34,
   "metadata": {},
   "outputs": [
    {
     "data": {
      "text/html": [
       "<div>\n",
       "<style scoped>\n",
       "    .dataframe tbody tr th:only-of-type {\n",
       "        vertical-align: middle;\n",
       "    }\n",
       "\n",
       "    .dataframe tbody tr th {\n",
       "        vertical-align: top;\n",
       "    }\n",
       "\n",
       "    .dataframe thead th {\n",
       "        text-align: right;\n",
       "    }\n",
       "</style>\n",
       "<table border=\"1\" class=\"dataframe\">\n",
       "  <thead>\n",
       "    <tr style=\"text-align: right;\">\n",
       "      <th></th>\n",
       "      <th>TotalVisits</th>\n",
       "      <th>TimeSpent</th>\n",
       "      <th>PageViews</th>\n",
       "    </tr>\n",
       "  </thead>\n",
       "  <tbody>\n",
       "    <tr>\n",
       "      <th>count</th>\n",
       "      <td>9074.000000</td>\n",
       "      <td>9074.000000</td>\n",
       "      <td>9074.000000</td>\n",
       "    </tr>\n",
       "    <tr>\n",
       "      <th>mean</th>\n",
       "      <td>3.456028</td>\n",
       "      <td>482.887481</td>\n",
       "      <td>2.370151</td>\n",
       "    </tr>\n",
       "    <tr>\n",
       "      <th>std</th>\n",
       "      <td>4.858802</td>\n",
       "      <td>545.256560</td>\n",
       "      <td>2.160871</td>\n",
       "    </tr>\n",
       "    <tr>\n",
       "      <th>min</th>\n",
       "      <td>0.000000</td>\n",
       "      <td>0.000000</td>\n",
       "      <td>0.000000</td>\n",
       "    </tr>\n",
       "    <tr>\n",
       "      <th>25%</th>\n",
       "      <td>1.000000</td>\n",
       "      <td>11.000000</td>\n",
       "      <td>1.000000</td>\n",
       "    </tr>\n",
       "    <tr>\n",
       "      <th>50%</th>\n",
       "      <td>3.000000</td>\n",
       "      <td>246.000000</td>\n",
       "      <td>2.000000</td>\n",
       "    </tr>\n",
       "    <tr>\n",
       "      <th>75%</th>\n",
       "      <td>5.000000</td>\n",
       "      <td>922.750000</td>\n",
       "      <td>3.200000</td>\n",
       "    </tr>\n",
       "    <tr>\n",
       "      <th>90%</th>\n",
       "      <td>7.000000</td>\n",
       "      <td>1373.000000</td>\n",
       "      <td>5.000000</td>\n",
       "    </tr>\n",
       "    <tr>\n",
       "      <th>95%</th>\n",
       "      <td>10.000000</td>\n",
       "      <td>1557.000000</td>\n",
       "      <td>6.000000</td>\n",
       "    </tr>\n",
       "    <tr>\n",
       "      <th>99%</th>\n",
       "      <td>17.000000</td>\n",
       "      <td>1839.000000</td>\n",
       "      <td>9.000000</td>\n",
       "    </tr>\n",
       "    <tr>\n",
       "      <th>max</th>\n",
       "      <td>251.000000</td>\n",
       "      <td>2272.000000</td>\n",
       "      <td>55.000000</td>\n",
       "    </tr>\n",
       "  </tbody>\n",
       "</table>\n",
       "</div>"
      ],
      "text/plain": [
       "       TotalVisits    TimeSpent    PageViews\n",
       "count  9074.000000  9074.000000  9074.000000\n",
       "mean      3.456028   482.887481     2.370151\n",
       "std       4.858802   545.256560     2.160871\n",
       "min       0.000000     0.000000     0.000000\n",
       "25%       1.000000    11.000000     1.000000\n",
       "50%       3.000000   246.000000     2.000000\n",
       "75%       5.000000   922.750000     3.200000\n",
       "90%       7.000000  1373.000000     5.000000\n",
       "95%      10.000000  1557.000000     6.000000\n",
       "99%      17.000000  1839.000000     9.000000\n",
       "max     251.000000  2272.000000    55.000000"
      ]
     },
     "execution_count": 34,
     "metadata": {},
     "output_type": "execute_result"
    }
   ],
   "source": [
    "# Checking outliers at 25%, 50%, 75%, 90%, 95% and 99%\n",
    "\n",
    "leads_data_num.describe(percentiles=[.25, .5, .75, .90, .95, .99])"
   ]
  },
  {
   "cell_type": "code",
   "execution_count": 35,
   "metadata": {},
   "outputs": [
    {
     "data": {
      "image/png": "[encoded data removed]",
      "text/plain": [
       "<Figure size 1080x576 with 3 Axes>"
      ]
     },
     "metadata": {
      "needs_background": "light"
     },
     "output_type": "display_data"
    }
   ],
   "source": [
    "# Distribution of continuos variables\n",
    "\n",
    "fig = plt.figure(figsize= (15,8))\n",
    "fig.subplots_adjust(hspace=0.6, wspace=0.4)\n",
    "\n",
    "for col in continuos_vars:\n",
    "    ax = fig.add_subplot(3, 3, continuos_vars.index(col) + 1)\n",
    "    plt.title(\"Distribution of \" + col)\n",
    "    sns.boxplot(leads_data[col])\n",
    "\n",
    "plt.show() "
   ]
  },
  {
   "cell_type": "code",
   "execution_count": 36,
   "metadata": {},
   "outputs": [
    {
     "data": {
      "image/png": "[encoded data removed]",
      "text/plain": [
       "<Figure size 1080x576 with 3 Axes>"
      ]
     },
     "metadata": {
      "needs_background": "light"
     },
     "output_type": "display_data"
    }
   ],
   "source": [
    "# Define a function to remove (statistical) outliers\n",
    "\n",
    "def cap_upper_range(df, col):\n",
    "    Q3 = df[col].quantile(0.95)\n",
    "    df[col][df[col]>= Q3] = Q3\n",
    "    return df\n",
    "\n",
    "# Outlier Treatment\n",
    "fig = plt.figure(figsize= (15,8))\n",
    "fig.subplots_adjust(hspace=0.6, wspace=0.4)\n",
    "\n",
    "for col in continuos_vars:\n",
    "    ax = fig.add_subplot(3, 3, continuos_vars.index(col) + 1)\n",
    "    leads_data = cap_upper_range(leads_data, col)\n",
    "    sns.boxplot(leads_data[col])\n",
    "    plt.title(\"After treatment, Distribution of \" + col)\n",
    "    \n",
    "plt.show()"
   ]
  },
  {
   "cell_type": "markdown",
   "metadata": {},
   "source": [
    "#### Visualizing distribution of variables based on Converted value"
   ]
  },
  {
   "cell_type": "code",
   "execution_count": 37,
   "metadata": {},
   "outputs": [
    {
     "data": {
      "image/png": "[encoded data removed]",
      "text/plain": [
       "<Figure size 1080x288 with 3 Axes>"
      ]
     },
     "metadata": {
      "needs_background": "light"
     },
     "output_type": "display_data"
    }
   ],
   "source": [
    "# Continuos Variables\n",
    "\n",
    "fig = plt.figure(figsize= (15, 4))\n",
    "fig.subplots_adjust(wspace=0.5)\n",
    "\n",
    "for col in continuos_vars:\n",
    "    ax = fig.add_subplot(1, 3, continuos_vars.index(col) + 1)\n",
    "    plt.title(\"Distribution of \" + col)\n",
    "    sns.boxplot(y = col, x = 'Converted', data = leads_data)\n",
    "\n",
    "plt.show()"
   ]
  },
  {
   "cell_type": "markdown",
   "metadata": {},
   "source": [
    "**Inferences:**\n",
    "- We could see the more Time Spent indicates more Lead Conversion.\n",
    "- TotalVisits and PageViews Mean is same for both converted and not converted"
   ]
  },
  {
   "cell_type": "code",
   "execution_count": 38,
   "metadata": {},
   "outputs": [
    {
     "data": {
      "image/png": "[encoded data removed]",
      "text/plain": [
       "<Figure size 1296x864 with 7 Axes>"
      ]
     },
     "metadata": {
      "needs_background": "light"
     },
     "output_type": "display_data"
    }
   ],
   "source": [
    "\n",
    "fig = plt.figure(figsize= (18,12))\n",
    "fig.subplots_adjust(hspace=1.2, wspace=0.5)\n",
    "\n",
    "cols = ['FreeCopy', 'DNE', 'Lead Source', 'Last Notable Activity', 'Specialization', 'City','Lead Origin']\n",
    "\n",
    "for col in cols:\n",
    "    ax = fig.add_subplot(3, 3, cols.index(col) + 1)\n",
    "    plt.title(\"Distribution of \" + col)\n",
    "    sns.countplot(leads_data[col], hue = leads_data.Converted)\n",
    "    ax.set_xticklabels(ax.get_xticklabels(), rotation = 90)\n",
    "\n",
    "plt.show()"
   ]
  },
  {
   "cell_type": "markdown",
   "metadata": {},
   "source": [
    "**Inferences:**\n",
    "- We could see from ‘Last Notable Activity’, Conversion Rate is higher for SMS Sent.\n",
    "- ‘Lead Origin’ distribution indicates high Conversion rate for ‘Lead Add Form”\n",
    "- ‘Lead Source’ distribution indicates high conversion rate for ‘Reference’ category."
   ]
  },
  {
   "cell_type": "markdown",
   "metadata": {},
   "source": [
    "### Dummification\n",
    "- For categorical variables with multiple levels, create dummy features (one-hot encoded)"
   ]
  },
  {
   "cell_type": "code",
   "execution_count": 39,
   "metadata": {},
   "outputs": [],
   "source": [
    "# Creating a dummy variable for some of the categorical variables and dropping the first one.\n",
    "\n",
    "categorical_vars = ['Lead Origin', 'Lead Source', 'Last Notable Activity', 'Specialization', 'City']\n",
    "\n",
    "prefixes = ['Origin', 'City', 'Lst_Not_Act']\n",
    "dummy = pd.get_dummies(leads_data[['Lead Origin', 'City', 'Last Notable Activity']], prefix = prefixes, drop_first = True)\n",
    "\n",
    "# Adding the results to the master dataframe\n",
    "leads_data = pd.concat([leads_data, dummy], axis = 1)"
   ]
  },
  {
   "cell_type": "code",
   "execution_count": 40,
   "metadata": {},
   "outputs": [],
   "source": [
    "dummy = pd.get_dummies(leads_data['Specialization'], prefix  = 'Spec')\n",
    "dummy = dummy.drop(['Spec_Others'], 1)\n",
    "leads_data = pd.concat([leads_data, dummy], axis = 1)"
   ]
  },
  {
   "cell_type": "code",
   "execution_count": 41,
   "metadata": {},
   "outputs": [],
   "source": [
    "dummy = pd.get_dummies(leads_data['Lead Source'], prefix = 'Src')\n",
    "dummy = dummy.drop(['Src_Others'], 1)\n",
    "leads_data = pd.concat([leads_data, dummy], axis = 1)"
   ]
  },
  {
   "cell_type": "code",
   "execution_count": 42,
   "metadata": {},
   "outputs": [],
   "source": [
    "# Dropping parent column\n",
    "leads_data.drop(categorical_vars, 1, inplace = True)"
   ]
  },
  {
   "cell_type": "code",
   "execution_count": 43,
   "metadata": {},
   "outputs": [
    {
     "name": "stdout",
     "output_type": "stream",
     "text": [
      "Shape of the dataset after dummification:  (9074, 23)\n"
     ]
    }
   ],
   "source": [
    "print('Shape of the dataset after dummification: ', leads_data.shape)"
   ]
  },
  {
   "cell_type": "code",
   "execution_count": 44,
   "metadata": {},
   "outputs": [
    {
     "name": "stdout",
     "output_type": "stream",
     "text": [
      "<class 'pandas.core.frame.DataFrame'>\n",
      "Int64Index: 9074 entries, 0 to 9239\n",
      "Data columns (total 23 columns):\n",
      " #   Column                          Non-Null Count  Dtype  \n",
      "---  ------                          --------------  -----  \n",
      " 0   DNE                             9074 non-null   int64  \n",
      " 1   Converted                       9074 non-null   int64  \n",
      " 2   TotalVisits                     9074 non-null   float64\n",
      " 3   TimeSpent                       9074 non-null   int64  \n",
      " 4   PageViews                       9074 non-null   float64\n",
      " 5   FreeCopy                        9074 non-null   int64  \n",
      " 6   Origin_Landing Page Submission  9074 non-null   uint8  \n",
      " 7   Origin_Lead Add Form            9074 non-null   uint8  \n",
      " 8   Origin_Others                   9074 non-null   uint8  \n",
      " 9   City_Other Cities               9074 non-null   uint8  \n",
      " 10  City_Thane & Outskirts          9074 non-null   uint8  \n",
      " 11  Lst_Not_Act_Modified            9074 non-null   uint8  \n",
      " 12  Lst_Not_Act_Others              9074 non-null   uint8  \n",
      " 13  Lst_Not_Act_SMS Sent            9074 non-null   uint8  \n",
      " 14  Spec_Finance Management         9074 non-null   uint8  \n",
      " 15  Spec_Human Resource Management  9074 non-null   uint8  \n",
      " 16  Spec_Marketing Management       9074 non-null   uint8  \n",
      " 17  Spec_Operations Management      9074 non-null   uint8  \n",
      " 18  Src_Direct Traffic              9074 non-null   uint8  \n",
      " 19  Src_Google                      9074 non-null   uint8  \n",
      " 20  Src_Olark Chat                  9074 non-null   uint8  \n",
      " 21  Src_Organic Search              9074 non-null   uint8  \n",
      " 22  Src_Reference                   9074 non-null   uint8  \n",
      "dtypes: float64(2), int64(4), uint8(17)\n",
      "memory usage: 966.9 KB\n"
     ]
    }
   ],
   "source": [
    "leads_data.info()"
   ]
  },
  {
   "cell_type": "markdown",
   "metadata": {},
   "source": [
    "##### Now we have all variables as numeric."
   ]
  },
  {
   "cell_type": "markdown",
   "metadata": {},
   "source": [
    "### Step 5: Test-Train Split\n",
    "Let's start by splitting our data into a training set and a test set."
   ]
  },
  {
   "cell_type": "code",
   "execution_count": 45,
   "metadata": {},
   "outputs": [
    {
     "data": {
      "text/html": [
       "<div>\n",
       "<style scoped>\n",
       "    .dataframe tbody tr th:only-of-type {\n",
       "        vertical-align: middle;\n",
       "    }\n",
       "\n",
       "    .dataframe tbody tr th {\n",
       "        vertical-align: top;\n",
       "    }\n",
       "\n",
       "    .dataframe thead th {\n",
       "        text-align: right;\n",
       "    }\n",
       "</style>\n",
       "<table border=\"1\" class=\"dataframe\">\n",
       "  <thead>\n",
       "    <tr style=\"text-align: right;\">\n",
       "      <th></th>\n",
       "      <th>DNE</th>\n",
       "      <th>TotalVisits</th>\n",
       "      <th>TimeSpent</th>\n",
       "      <th>PageViews</th>\n",
       "      <th>FreeCopy</th>\n",
       "      <th>Origin_Landing Page Submission</th>\n",
       "      <th>Origin_Lead Add Form</th>\n",
       "      <th>Origin_Others</th>\n",
       "      <th>City_Other Cities</th>\n",
       "      <th>City_Thane &amp; Outskirts</th>\n",
       "      <th>...</th>\n",
       "      <th>Lst_Not_Act_SMS Sent</th>\n",
       "      <th>Spec_Finance Management</th>\n",
       "      <th>Spec_Human Resource Management</th>\n",
       "      <th>Spec_Marketing Management</th>\n",
       "      <th>Spec_Operations Management</th>\n",
       "      <th>Src_Direct Traffic</th>\n",
       "      <th>Src_Google</th>\n",
       "      <th>Src_Olark Chat</th>\n",
       "      <th>Src_Organic Search</th>\n",
       "      <th>Src_Reference</th>\n",
       "    </tr>\n",
       "  </thead>\n",
       "  <tbody>\n",
       "    <tr>\n",
       "      <th>0</th>\n",
       "      <td>0</td>\n",
       "      <td>0.0</td>\n",
       "      <td>0</td>\n",
       "      <td>0.0</td>\n",
       "      <td>0</td>\n",
       "      <td>0</td>\n",
       "      <td>0</td>\n",
       "      <td>0</td>\n",
       "      <td>1</td>\n",
       "      <td>0</td>\n",
       "      <td>...</td>\n",
       "      <td>0</td>\n",
       "      <td>0</td>\n",
       "      <td>0</td>\n",
       "      <td>0</td>\n",
       "      <td>0</td>\n",
       "      <td>0</td>\n",
       "      <td>0</td>\n",
       "      <td>1</td>\n",
       "      <td>0</td>\n",
       "      <td>0</td>\n",
       "    </tr>\n",
       "    <tr>\n",
       "      <th>1</th>\n",
       "      <td>0</td>\n",
       "      <td>5.0</td>\n",
       "      <td>674</td>\n",
       "      <td>2.5</td>\n",
       "      <td>0</td>\n",
       "      <td>0</td>\n",
       "      <td>0</td>\n",
       "      <td>0</td>\n",
       "      <td>1</td>\n",
       "      <td>0</td>\n",
       "      <td>...</td>\n",
       "      <td>0</td>\n",
       "      <td>0</td>\n",
       "      <td>0</td>\n",
       "      <td>0</td>\n",
       "      <td>0</td>\n",
       "      <td>0</td>\n",
       "      <td>0</td>\n",
       "      <td>0</td>\n",
       "      <td>1</td>\n",
       "      <td>0</td>\n",
       "    </tr>\n",
       "    <tr>\n",
       "      <th>2</th>\n",
       "      <td>0</td>\n",
       "      <td>2.0</td>\n",
       "      <td>1532</td>\n",
       "      <td>2.0</td>\n",
       "      <td>1</td>\n",
       "      <td>1</td>\n",
       "      <td>0</td>\n",
       "      <td>0</td>\n",
       "      <td>0</td>\n",
       "      <td>0</td>\n",
       "      <td>...</td>\n",
       "      <td>0</td>\n",
       "      <td>0</td>\n",
       "      <td>0</td>\n",
       "      <td>0</td>\n",
       "      <td>0</td>\n",
       "      <td>1</td>\n",
       "      <td>0</td>\n",
       "      <td>0</td>\n",
       "      <td>0</td>\n",
       "      <td>0</td>\n",
       "    </tr>\n",
       "    <tr>\n",
       "      <th>3</th>\n",
       "      <td>0</td>\n",
       "      <td>1.0</td>\n",
       "      <td>305</td>\n",
       "      <td>1.0</td>\n",
       "      <td>0</td>\n",
       "      <td>1</td>\n",
       "      <td>0</td>\n",
       "      <td>0</td>\n",
       "      <td>0</td>\n",
       "      <td>0</td>\n",
       "      <td>...</td>\n",
       "      <td>0</td>\n",
       "      <td>0</td>\n",
       "      <td>0</td>\n",
       "      <td>0</td>\n",
       "      <td>0</td>\n",
       "      <td>1</td>\n",
       "      <td>0</td>\n",
       "      <td>0</td>\n",
       "      <td>0</td>\n",
       "      <td>0</td>\n",
       "    </tr>\n",
       "    <tr>\n",
       "      <th>4</th>\n",
       "      <td>0</td>\n",
       "      <td>2.0</td>\n",
       "      <td>1428</td>\n",
       "      <td>1.0</td>\n",
       "      <td>0</td>\n",
       "      <td>1</td>\n",
       "      <td>0</td>\n",
       "      <td>0</td>\n",
       "      <td>0</td>\n",
       "      <td>0</td>\n",
       "      <td>...</td>\n",
       "      <td>0</td>\n",
       "      <td>0</td>\n",
       "      <td>0</td>\n",
       "      <td>0</td>\n",
       "      <td>0</td>\n",
       "      <td>0</td>\n",
       "      <td>1</td>\n",
       "      <td>0</td>\n",
       "      <td>0</td>\n",
       "      <td>0</td>\n",
       "    </tr>\n",
       "  </tbody>\n",
       "</table>\n",
       "<p>5 rows × 22 columns</p>\n",
       "</div>"
      ],
      "text/plain": [
       "   DNE  TotalVisits  TimeSpent  PageViews  FreeCopy  \\\n",
       "0    0          0.0          0        0.0         0   \n",
       "1    0          5.0        674        2.5         0   \n",
       "2    0          2.0       1532        2.0         1   \n",
       "3    0          1.0        305        1.0         0   \n",
       "4    0          2.0       1428        1.0         0   \n",
       "\n",
       "   Origin_Landing Page Submission  Origin_Lead Add Form  Origin_Others  \\\n",
       "0                               0                     0              0   \n",
       "1                               0                     0              0   \n",
       "2                               1                     0              0   \n",
       "3                               1                     0              0   \n",
       "4                               1                     0              0   \n",
       "\n",
       "   City_Other Cities  City_Thane & Outskirts  ...  Lst_Not_Act_SMS Sent  \\\n",
       "0                  1                       0  ...                     0   \n",
       "1                  1                       0  ...                     0   \n",
       "2                  0                       0  ...                     0   \n",
       "3                  0                       0  ...                     0   \n",
       "4                  0                       0  ...                     0   \n",
       "\n",
       "   Spec_Finance Management  Spec_Human Resource Management  \\\n",
       "0                        0                               0   \n",
       "1                        0                               0   \n",
       "2                        0                               0   \n",
       "3                        0                               0   \n",
       "4                        0                               0   \n",
       "\n",
       "   Spec_Marketing Management  Spec_Operations Management  Src_Direct Traffic  \\\n",
       "0                          0                           0                   0   \n",
       "1                          0                           0                   0   \n",
       "2                          0                           0                   1   \n",
       "3                          0                           0                   1   \n",
       "4                          0                           0                   0   \n",
       "\n",
       "   Src_Google  Src_Olark Chat  Src_Organic Search  Src_Reference  \n",
       "0           0               1                   0              0  \n",
       "1           0               0                   1              0  \n",
       "2           0               0                   0              0  \n",
       "3           0               0                   0              0  \n",
       "4           1               0                   0              0  \n",
       "\n",
       "[5 rows x 22 columns]"
      ]
     },
     "execution_count": 45,
     "metadata": {},
     "output_type": "execute_result"
    }
   ],
   "source": [
    "# Putting feature variable to X\n",
    "X = leads_data.drop(['Converted'], axis=1)\n",
    "\n",
    "X.head()"
   ]
  },
  {
   "cell_type": "code",
   "execution_count": 46,
   "metadata": {
    "scrolled": true
   },
   "outputs": [
    {
     "data": {
      "text/plain": [
       "0    0\n",
       "1    0\n",
       "2    1\n",
       "3    0\n",
       "4    1\n",
       "Name: Converted, dtype: int64"
      ]
     },
     "execution_count": 46,
     "metadata": {},
     "output_type": "execute_result"
    }
   ],
   "source": [
    "# Putting response variable to y\n",
    "y = leads_data['Converted']\n",
    "\n",
    "y.head()"
   ]
  },
  {
   "cell_type": "code",
   "execution_count": 47,
   "metadata": {},
   "outputs": [],
   "source": [
    "# Splitting the data into train and test\n",
    "\n",
    "X_train, X_test, y_train, y_test = train_test_split(X, y, train_size=0.7, test_size=0.3, random_state=100)"
   ]
  },
  {
   "cell_type": "markdown",
   "metadata": {},
   "source": [
    "### Step 5: Feature Scaling"
   ]
  },
  {
   "cell_type": "code",
   "execution_count": 48,
   "metadata": {},
   "outputs": [
    {
     "name": "stdout",
     "output_type": "stream",
     "text": [
      "Applying Scaling to Continuos vars:  ['TotalVisits', 'TimeSpent', 'PageViews']\n"
     ]
    },
    {
     "data": {
      "text/html": [
       "<div>\n",
       "<style scoped>\n",
       "    .dataframe tbody tr th:only-of-type {\n",
       "        vertical-align: middle;\n",
       "    }\n",
       "\n",
       "    .dataframe tbody tr th {\n",
       "        vertical-align: top;\n",
       "    }\n",
       "\n",
       "    .dataframe thead th {\n",
       "        text-align: right;\n",
       "    }\n",
       "</style>\n",
       "<table border=\"1\" class=\"dataframe\">\n",
       "  <thead>\n",
       "    <tr style=\"text-align: right;\">\n",
       "      <th></th>\n",
       "      <th>DNE</th>\n",
       "      <th>TotalVisits</th>\n",
       "      <th>TimeSpent</th>\n",
       "      <th>PageViews</th>\n",
       "      <th>FreeCopy</th>\n",
       "      <th>Origin_Landing Page Submission</th>\n",
       "      <th>Origin_Lead Add Form</th>\n",
       "      <th>Origin_Others</th>\n",
       "      <th>City_Other Cities</th>\n",
       "      <th>City_Thane &amp; Outskirts</th>\n",
       "      <th>...</th>\n",
       "      <th>Lst_Not_Act_SMS Sent</th>\n",
       "      <th>Spec_Finance Management</th>\n",
       "      <th>Spec_Human Resource Management</th>\n",
       "      <th>Spec_Marketing Management</th>\n",
       "      <th>Spec_Operations Management</th>\n",
       "      <th>Src_Direct Traffic</th>\n",
       "      <th>Src_Google</th>\n",
       "      <th>Src_Olark Chat</th>\n",
       "      <th>Src_Organic Search</th>\n",
       "      <th>Src_Reference</th>\n",
       "    </tr>\n",
       "  </thead>\n",
       "  <tbody>\n",
       "    <tr>\n",
       "      <th>3009</th>\n",
       "      <td>0</td>\n",
       "      <td>-0.432779</td>\n",
       "      <td>-0.150296</td>\n",
       "      <td>-0.155018</td>\n",
       "      <td>1</td>\n",
       "      <td>1</td>\n",
       "      <td>0</td>\n",
       "      <td>0</td>\n",
       "      <td>0</td>\n",
       "      <td>0</td>\n",
       "      <td>...</td>\n",
       "      <td>0</td>\n",
       "      <td>1</td>\n",
       "      <td>0</td>\n",
       "      <td>0</td>\n",
       "      <td>0</td>\n",
       "      <td>1</td>\n",
       "      <td>0</td>\n",
       "      <td>0</td>\n",
       "      <td>0</td>\n",
       "      <td>0</td>\n",
       "    </tr>\n",
       "    <tr>\n",
       "      <th>1012</th>\n",
       "      <td>1</td>\n",
       "      <td>-0.432779</td>\n",
       "      <td>-0.543632</td>\n",
       "      <td>-0.155018</td>\n",
       "      <td>0</td>\n",
       "      <td>1</td>\n",
       "      <td>0</td>\n",
       "      <td>0</td>\n",
       "      <td>0</td>\n",
       "      <td>0</td>\n",
       "      <td>...</td>\n",
       "      <td>0</td>\n",
       "      <td>0</td>\n",
       "      <td>0</td>\n",
       "      <td>0</td>\n",
       "      <td>0</td>\n",
       "      <td>1</td>\n",
       "      <td>0</td>\n",
       "      <td>0</td>\n",
       "      <td>0</td>\n",
       "      <td>0</td>\n",
       "    </tr>\n",
       "    <tr>\n",
       "      <th>9226</th>\n",
       "      <td>0</td>\n",
       "      <td>-1.150329</td>\n",
       "      <td>-0.904666</td>\n",
       "      <td>-1.265540</td>\n",
       "      <td>0</td>\n",
       "      <td>0</td>\n",
       "      <td>0</td>\n",
       "      <td>0</td>\n",
       "      <td>1</td>\n",
       "      <td>0</td>\n",
       "      <td>...</td>\n",
       "      <td>0</td>\n",
       "      <td>0</td>\n",
       "      <td>0</td>\n",
       "      <td>0</td>\n",
       "      <td>0</td>\n",
       "      <td>0</td>\n",
       "      <td>0</td>\n",
       "      <td>1</td>\n",
       "      <td>0</td>\n",
       "      <td>0</td>\n",
       "    </tr>\n",
       "    <tr>\n",
       "      <th>4750</th>\n",
       "      <td>0</td>\n",
       "      <td>-0.432779</td>\n",
       "      <td>1.717578</td>\n",
       "      <td>-0.155018</td>\n",
       "      <td>0</td>\n",
       "      <td>1</td>\n",
       "      <td>0</td>\n",
       "      <td>0</td>\n",
       "      <td>1</td>\n",
       "      <td>0</td>\n",
       "      <td>...</td>\n",
       "      <td>1</td>\n",
       "      <td>0</td>\n",
       "      <td>0</td>\n",
       "      <td>1</td>\n",
       "      <td>0</td>\n",
       "      <td>1</td>\n",
       "      <td>0</td>\n",
       "      <td>0</td>\n",
       "      <td>0</td>\n",
       "      <td>0</td>\n",
       "    </tr>\n",
       "    <tr>\n",
       "      <th>7987</th>\n",
       "      <td>0</td>\n",
       "      <td>0.643547</td>\n",
       "      <td>2.053909</td>\n",
       "      <td>0.122613</td>\n",
       "      <td>0</td>\n",
       "      <td>1</td>\n",
       "      <td>0</td>\n",
       "      <td>0</td>\n",
       "      <td>1</td>\n",
       "      <td>0</td>\n",
       "      <td>...</td>\n",
       "      <td>0</td>\n",
       "      <td>1</td>\n",
       "      <td>0</td>\n",
       "      <td>0</td>\n",
       "      <td>0</td>\n",
       "      <td>1</td>\n",
       "      <td>0</td>\n",
       "      <td>0</td>\n",
       "      <td>0</td>\n",
       "      <td>0</td>\n",
       "    </tr>\n",
       "  </tbody>\n",
       "</table>\n",
       "<p>5 rows × 22 columns</p>\n",
       "</div>"
      ],
      "text/plain": [
       "      DNE  TotalVisits  TimeSpent  PageViews  FreeCopy  \\\n",
       "3009    0    -0.432779  -0.150296  -0.155018         1   \n",
       "1012    1    -0.432779  -0.543632  -0.155018         0   \n",
       "9226    0    -1.150329  -0.904666  -1.265540         0   \n",
       "4750    0    -0.432779   1.717578  -0.155018         0   \n",
       "7987    0     0.643547   2.053909   0.122613         0   \n",
       "\n",
       "      Origin_Landing Page Submission  Origin_Lead Add Form  Origin_Others  \\\n",
       "3009                               1                     0              0   \n",
       "1012                               1                     0              0   \n",
       "9226                               0                     0              0   \n",
       "4750                               1                     0              0   \n",
       "7987                               1                     0              0   \n",
       "\n",
       "      City_Other Cities  City_Thane & Outskirts  ...  Lst_Not_Act_SMS Sent  \\\n",
       "3009                  0                       0  ...                     0   \n",
       "1012                  0                       0  ...                     0   \n",
       "9226                  1                       0  ...                     0   \n",
       "4750                  1                       0  ...                     1   \n",
       "7987                  1                       0  ...                     0   \n",
       "\n",
       "      Spec_Finance Management  Spec_Human Resource Management  \\\n",
       "3009                        1                               0   \n",
       "1012                        0                               0   \n",
       "9226                        0                               0   \n",
       "4750                        0                               0   \n",
       "7987                        1                               0   \n",
       "\n",
       "      Spec_Marketing Management  Spec_Operations Management  \\\n",
       "3009                          0                           0   \n",
       "1012                          0                           0   \n",
       "9226                          0                           0   \n",
       "4750                          1                           0   \n",
       "7987                          0                           0   \n",
       "\n",
       "      Src_Direct Traffic  Src_Google  Src_Olark Chat  Src_Organic Search  \\\n",
       "3009                   1           0               0                   0   \n",
       "1012                   1           0               0                   0   \n",
       "9226                   0           0               1                   0   \n",
       "4750                   1           0               0                   0   \n",
       "7987                   1           0               0                   0   \n",
       "\n",
       "      Src_Reference  \n",
       "3009              0  \n",
       "1012              0  \n",
       "9226              0  \n",
       "4750              0  \n",
       "7987              0  \n",
       "\n",
       "[5 rows x 22 columns]"
      ]
     },
     "execution_count": 48,
     "metadata": {},
     "output_type": "execute_result"
    }
   ],
   "source": [
    "# Applying Scaling to continuous Variables\n",
    "print('Applying Scaling to Continuos vars: ', continuos_vars)\n",
    "\n",
    "scaler = StandardScaler()\n",
    "X_train[continuos_vars] = scaler.fit_transform(X_train[continuos_vars])\n",
    "X_train.head()"
   ]
  },
  {
   "cell_type": "markdown",
   "metadata": {},
   "source": [
    "#### Checking the Conversion Rate"
   ]
  },
  {
   "cell_type": "code",
   "execution_count": 49,
   "metadata": {},
   "outputs": [
    {
     "name": "stdout",
     "output_type": "stream",
     "text": [
      "Leads Conversion percentage:  37.85541106458012\n",
      "\n",
      " 0    62.144589\n",
      "1    37.855411\n",
      "Name: Converted, dtype: float64\n"
     ]
    },
    {
     "data": {
      "image/png": "[encoded data removed]",
      "text/plain": [
       "<Figure size 360x360 with 1 Axes>"
      ]
     },
     "metadata": {},
     "output_type": "display_data"
    }
   ],
   "source": [
    "converted = (sum(leads_data['Converted'])/len(leads_data['Converted'].index))*100\n",
    "print('Leads Conversion percentage: ', converted)\n",
    "\n",
    "# Checking the imbalace percentage\n",
    "imbalance_per = 100*leads_data.Converted.value_counts(normalize = True)\n",
    "print('\\n', imbalance_per)\n",
    "\n",
    "plt.figure(figsize=(5,5))\n",
    "imbalance_per.plot(kind = 'pie', title ='Leads converted or not')\n",
    "plt.show()"
   ]
  },
  {
   "cell_type": "markdown",
   "metadata": {},
   "source": [
    "##### We have  currently ~38% conversion rate"
   ]
  },
  {
   "cell_type": "markdown",
   "metadata": {},
   "source": [
    "### Step 6: Model Building"
   ]
  },
  {
   "cell_type": "markdown",
   "metadata": {},
   "source": [
    "#### Running Your First Training Model"
   ]
  },
  {
   "cell_type": "code",
   "execution_count": 50,
   "metadata": {
    "scrolled": true
   },
   "outputs": [
    {
     "data": {
      "text/html": [
       "<table class=\"simpletable\">\n",
       "<caption>Generalized Linear Model Regression Results</caption>\n",
       "<tr>\n",
       "  <th>Dep. Variable:</th>       <td>Converted</td>    <th>  No. Observations:  </th>  <td>  6351</td> \n",
       "</tr>\n",
       "<tr>\n",
       "  <th>Model:</th>                  <td>GLM</td>       <th>  Df Residuals:      </th>  <td>  6328</td> \n",
       "</tr>\n",
       "<tr>\n",
       "  <th>Model Family:</th>        <td>Binomial</td>     <th>  Df Model:          </th>  <td>    22</td> \n",
       "</tr>\n",
       "<tr>\n",
       "  <th>Link Function:</th>         <td>logit</td>      <th>  Scale:             </th> <td>  1.0000</td>\n",
       "</tr>\n",
       "<tr>\n",
       "  <th>Method:</th>                <td>IRLS</td>       <th>  Log-Likelihood:    </th> <td> -2802.5</td>\n",
       "</tr>\n",
       "<tr>\n",
       "  <th>Date:</th>            <td>Sun, 25 Oct 2020</td> <th>  Deviance:          </th> <td>  5604.9</td>\n",
       "</tr>\n",
       "<tr>\n",
       "  <th>Time:</th>                <td>21:42:21</td>     <th>  Pearson chi2:      </th> <td>6.57e+03</td>\n",
       "</tr>\n",
       "<tr>\n",
       "  <th>No. Iterations:</th>          <td>6</td>        <th>                     </th>     <td> </td>   \n",
       "</tr>\n",
       "<tr>\n",
       "  <th>Covariance Type:</th>     <td>nonrobust</td>    <th>                     </th>     <td> </td>   \n",
       "</tr>\n",
       "</table>\n",
       "<table class=\"simpletable\">\n",
       "<tr>\n",
       "                 <td></td>                   <th>coef</th>     <th>std err</th>      <th>z</th>      <th>P>|z|</th>  <th>[0.025</th>    <th>0.975]</th>  \n",
       "</tr>\n",
       "<tr>\n",
       "  <th>const</th>                          <td>   -0.9924</td> <td>    0.296</td> <td>   -3.356</td> <td> 0.001</td> <td>   -1.572</td> <td>   -0.413</td>\n",
       "</tr>\n",
       "<tr>\n",
       "  <th>DNE</th>                            <td>   -1.2832</td> <td>    0.171</td> <td>   -7.487</td> <td> 0.000</td> <td>   -1.619</td> <td>   -0.947</td>\n",
       "</tr>\n",
       "<tr>\n",
       "  <th>TotalVisits</th>                    <td>    0.2931</td> <td>    0.053</td> <td>    5.552</td> <td> 0.000</td> <td>    0.190</td> <td>    0.397</td>\n",
       "</tr>\n",
       "<tr>\n",
       "  <th>TimeSpent</th>                      <td>    1.1535</td> <td>    0.039</td> <td>   29.202</td> <td> 0.000</td> <td>    1.076</td> <td>    1.231</td>\n",
       "</tr>\n",
       "<tr>\n",
       "  <th>PageViews</th>                      <td>   -0.2143</td> <td>    0.060</td> <td>   -3.589</td> <td> 0.000</td> <td>   -0.331</td> <td>   -0.097</td>\n",
       "</tr>\n",
       "<tr>\n",
       "  <th>FreeCopy</th>                       <td>   -0.0510</td> <td>    0.104</td> <td>   -0.491</td> <td> 0.624</td> <td>   -0.255</td> <td>    0.153</td>\n",
       "</tr>\n",
       "<tr>\n",
       "  <th>Origin_Landing Page Submission</th> <td>   -0.3442</td> <td>    0.114</td> <td>   -3.008</td> <td> 0.003</td> <td>   -0.569</td> <td>   -0.120</td>\n",
       "</tr>\n",
       "<tr>\n",
       "  <th>Origin_Lead Add Form</th>           <td>    5.4327</td> <td>    0.600</td> <td>    9.058</td> <td> 0.000</td> <td>    4.257</td> <td>    6.608</td>\n",
       "</tr>\n",
       "<tr>\n",
       "  <th>Origin_Others</th>                  <td>    1.6858</td> <td>    0.525</td> <td>    3.209</td> <td> 0.001</td> <td>    0.656</td> <td>    2.716</td>\n",
       "</tr>\n",
       "<tr>\n",
       "  <th>City_Other Cities</th>              <td>   -0.2383</td> <td>    0.091</td> <td>   -2.624</td> <td> 0.009</td> <td>   -0.416</td> <td>   -0.060</td>\n",
       "</tr>\n",
       "<tr>\n",
       "  <th>City_Thane & Outskirts</th>         <td>   -0.0547</td> <td>    0.130</td> <td>   -0.422</td> <td> 0.673</td> <td>   -0.309</td> <td>    0.199</td>\n",
       "</tr>\n",
       "<tr>\n",
       "  <th>Lst_Not_Act_Modified</th>           <td>   -0.7286</td> <td>    0.085</td> <td>   -8.587</td> <td> 0.000</td> <td>   -0.895</td> <td>   -0.562</td>\n",
       "</tr>\n",
       "<tr>\n",
       "  <th>Lst_Not_Act_Others</th>             <td>   -0.3328</td> <td>    0.130</td> <td>   -2.568</td> <td> 0.010</td> <td>   -0.587</td> <td>   -0.079</td>\n",
       "</tr>\n",
       "<tr>\n",
       "  <th>Lst_Not_Act_SMS Sent</th>           <td>    1.4621</td> <td>    0.088</td> <td>   16.662</td> <td> 0.000</td> <td>    1.290</td> <td>    1.634</td>\n",
       "</tr>\n",
       "<tr>\n",
       "  <th>Spec_Finance Management</th>        <td>    0.3504</td> <td>    0.118</td> <td>    2.981</td> <td> 0.003</td> <td>    0.120</td> <td>    0.581</td>\n",
       "</tr>\n",
       "<tr>\n",
       "  <th>Spec_Human Resource Management</th> <td>    0.3539</td> <td>    0.118</td> <td>    3.006</td> <td> 0.003</td> <td>    0.123</td> <td>    0.585</td>\n",
       "</tr>\n",
       "<tr>\n",
       "  <th>Spec_Marketing Management</th>      <td>    0.5417</td> <td>    0.120</td> <td>    4.530</td> <td> 0.000</td> <td>    0.307</td> <td>    0.776</td>\n",
       "</tr>\n",
       "<tr>\n",
       "  <th>Spec_Operations Management</th>     <td>    0.4349</td> <td>    0.151</td> <td>    2.882</td> <td> 0.004</td> <td>    0.139</td> <td>    0.731</td>\n",
       "</tr>\n",
       "<tr>\n",
       "  <th>Src_Direct Traffic</th>             <td>   -0.0282</td> <td>    0.290</td> <td>   -0.097</td> <td> 0.923</td> <td>   -0.596</td> <td>    0.540</td>\n",
       "</tr>\n",
       "<tr>\n",
       "  <th>Src_Google</th>                     <td>    0.2358</td> <td>    0.281</td> <td>    0.840</td> <td> 0.401</td> <td>   -0.315</td> <td>    0.786</td>\n",
       "</tr>\n",
       "<tr>\n",
       "  <th>Src_Olark Chat</th>                 <td>    1.1666</td> <td>    0.301</td> <td>    3.878</td> <td> 0.000</td> <td>    0.577</td> <td>    1.756</td>\n",
       "</tr>\n",
       "<tr>\n",
       "  <th>Src_Organic Search</th>             <td>    0.1282</td> <td>    0.289</td> <td>    0.444</td> <td> 0.657</td> <td>   -0.438</td> <td>    0.694</td>\n",
       "</tr>\n",
       "<tr>\n",
       "  <th>Src_Reference</th>                  <td>   -1.0345</td> <td>    0.567</td> <td>   -1.825</td> <td> 0.068</td> <td>   -2.146</td> <td>    0.077</td>\n",
       "</tr>\n",
       "</table>"
      ],
      "text/plain": [
       "<class 'statsmodels.iolib.summary.Summary'>\n",
       "\"\"\"\n",
       "                 Generalized Linear Model Regression Results                  \n",
       "==============================================================================\n",
       "Dep. Variable:              Converted   No. Observations:                 6351\n",
       "Model:                            GLM   Df Residuals:                     6328\n",
       "Model Family:                Binomial   Df Model:                           22\n",
       "Link Function:                  logit   Scale:                          1.0000\n",
       "Method:                          IRLS   Log-Likelihood:                -2802.5\n",
       "Date:                Sun, 25 Oct 2020   Deviance:                       5604.9\n",
       "Time:                        21:42:21   Pearson chi2:                 6.57e+03\n",
       "No. Iterations:                     6                                         \n",
       "Covariance Type:            nonrobust                                         \n",
       "==================================================================================================\n",
       "                                     coef    std err          z      P>|z|      [0.025      0.975]\n",
       "--------------------------------------------------------------------------------------------------\n",
       "const                             -0.9924      0.296     -3.356      0.001      -1.572      -0.413\n",
       "DNE                               -1.2832      0.171     -7.487      0.000      -1.619      -0.947\n",
       "TotalVisits                        0.2931      0.053      5.552      0.000       0.190       0.397\n",
       "TimeSpent                          1.1535      0.039     29.202      0.000       1.076       1.231\n",
       "PageViews                         -0.2143      0.060     -3.589      0.000      -0.331      -0.097\n",
       "FreeCopy                          -0.0510      0.104     -0.491      0.624      -0.255       0.153\n",
       "Origin_Landing Page Submission    -0.3442      0.114     -3.008      0.003      -0.569      -0.120\n",
       "Origin_Lead Add Form               5.4327      0.600      9.058      0.000       4.257       6.608\n",
       "Origin_Others                      1.6858      0.525      3.209      0.001       0.656       2.716\n",
       "City_Other Cities                 -0.2383      0.091     -2.624      0.009      -0.416      -0.060\n",
       "City_Thane & Outskirts            -0.0547      0.130     -0.422      0.673      -0.309       0.199\n",
       "Lst_Not_Act_Modified              -0.7286      0.085     -8.587      0.000      -0.895      -0.562\n",
       "Lst_Not_Act_Others                -0.3328      0.130     -2.568      0.010      -0.587      -0.079\n",
       "Lst_Not_Act_SMS Sent               1.4621      0.088     16.662      0.000       1.290       1.634\n",
       "Spec_Finance Management            0.3504      0.118      2.981      0.003       0.120       0.581\n",
       "Spec_Human Resource Management     0.3539      0.118      3.006      0.003       0.123       0.585\n",
       "Spec_Marketing Management          0.5417      0.120      4.530      0.000       0.307       0.776\n",
       "Spec_Operations Management         0.4349      0.151      2.882      0.004       0.139       0.731\n",
       "Src_Direct Traffic                -0.0282      0.290     -0.097      0.923      -0.596       0.540\n",
       "Src_Google                         0.2358      0.281      0.840      0.401      -0.315       0.786\n",
       "Src_Olark Chat                     1.1666      0.301      3.878      0.000       0.577       1.756\n",
       "Src_Organic Search                 0.1282      0.289      0.444      0.657      -0.438       0.694\n",
       "Src_Reference                     -1.0345      0.567     -1.825      0.068      -2.146       0.077\n",
       "==================================================================================================\n",
       "\"\"\""
      ]
     },
     "execution_count": 50,
     "metadata": {},
     "output_type": "execute_result"
    }
   ],
   "source": [
    "# Logistic regression model\n",
    "\n",
    "logm1 = sm.GLM(y_train,(sm.add_constant(X_train)), family = sm.families.Binomial())\n",
    "logm1.fit().summary()"
   ]
  },
  {
   "cell_type": "markdown",
   "metadata": {},
   "source": [
    "### Step 8: Feature Selection Using RFE"
   ]
  },
  {
   "cell_type": "code",
   "execution_count": 51,
   "metadata": {},
   "outputs": [
    {
     "data": {
      "text/plain": [
       "array([ True, False,  True, False, False,  True,  True,  True,  True,\n",
       "       False,  True,  True,  True,  True,  True,  True,  True,  True,\n",
       "       False,  True, False, False])"
      ]
     },
     "execution_count": 51,
     "metadata": {},
     "output_type": "execute_result"
    }
   ],
   "source": [
    "# Let's run RFE with 15 variables\n",
    "logreg = LogisticRegression()\n",
    "rfe = RFE(logreg, 15)             \n",
    "rfe = rfe.fit(X_train, y_train)\n",
    "rfe.support_"
   ]
  },
  {
   "cell_type": "code",
   "execution_count": 52,
   "metadata": {
    "scrolled": false
   },
   "outputs": [
    {
     "name": "stdout",
     "output_type": "stream",
     "text": [
      "Variables Selected by RFE: Index(['DNE', 'TimeSpent', 'Origin_Landing Page Submission',\n",
      "       'Origin_Lead Add Form', 'Origin_Others', 'City_Other Cities',\n",
      "       'Lst_Not_Act_Modified', 'Lst_Not_Act_Others', 'Lst_Not_Act_SMS Sent',\n",
      "       'Spec_Finance Management', 'Spec_Human Resource Management',\n",
      "       'Spec_Marketing Management', 'Spec_Operations Management',\n",
      "       'Src_Direct Traffic', 'Src_Olark Chat'],\n",
      "      dtype='object')\n"
     ]
    }
   ],
   "source": [
    "list(zip(X_train.columns, rfe.support_, rfe.ranking_))\n",
    "col = X_train.columns[rfe.support_]\n",
    "\n",
    "print('Variables Selected by RFE:', col)"
   ]
  },
  {
   "cell_type": "code",
   "execution_count": 53,
   "metadata": {
    "scrolled": false
   },
   "outputs": [
    {
     "name": "stdout",
     "output_type": "stream",
     "text": [
      "Variables Dropped by RFE: Index(['TotalVisits', 'PageViews', 'FreeCopy', 'City_Thane & Outskirts',\n",
      "       'Src_Google', 'Src_Organic Search', 'Src_Reference'],\n",
      "      dtype='object')\n"
     ]
    }
   ],
   "source": [
    "print('Variables Dropped by RFE:', X_train.columns[~rfe.support_])"
   ]
  },
  {
   "cell_type": "markdown",
   "metadata": {},
   "source": [
    "##### Assessing the model with StatsModels"
   ]
  },
  {
   "cell_type": "code",
   "execution_count": 54,
   "metadata": {},
   "outputs": [
    {
     "data": {
      "text/html": [
       "<table class=\"simpletable\">\n",
       "<caption>Generalized Linear Model Regression Results</caption>\n",
       "<tr>\n",
       "  <th>Dep. Variable:</th>       <td>Converted</td>    <th>  No. Observations:  </th>  <td>  6351</td> \n",
       "</tr>\n",
       "<tr>\n",
       "  <th>Model:</th>                  <td>GLM</td>       <th>  Df Residuals:      </th>  <td>  6335</td> \n",
       "</tr>\n",
       "<tr>\n",
       "  <th>Model Family:</th>        <td>Binomial</td>     <th>  Df Model:          </th>  <td>    15</td> \n",
       "</tr>\n",
       "<tr>\n",
       "  <th>Link Function:</th>         <td>logit</td>      <th>  Scale:             </th> <td>  1.0000</td>\n",
       "</tr>\n",
       "<tr>\n",
       "  <th>Method:</th>                <td>IRLS</td>       <th>  Log-Likelihood:    </th> <td> -2820.7</td>\n",
       "</tr>\n",
       "<tr>\n",
       "  <th>Date:</th>            <td>Sun, 25 Oct 2020</td> <th>  Deviance:          </th> <td>  5641.5</td>\n",
       "</tr>\n",
       "<tr>\n",
       "  <th>Time:</th>                <td>21:42:21</td>     <th>  Pearson chi2:      </th> <td>6.59e+03</td>\n",
       "</tr>\n",
       "<tr>\n",
       "  <th>No. Iterations:</th>          <td>6</td>        <th>                     </th>     <td> </td>   \n",
       "</tr>\n",
       "<tr>\n",
       "  <th>Covariance Type:</th>     <td>nonrobust</td>    <th>                     </th>     <td> </td>   \n",
       "</tr>\n",
       "</table>\n",
       "<table class=\"simpletable\">\n",
       "<tr>\n",
       "                 <td></td>                   <th>coef</th>     <th>std err</th>      <th>z</th>      <th>P>|z|</th>  <th>[0.025</th>    <th>0.975]</th>  \n",
       "</tr>\n",
       "<tr>\n",
       "  <th>const</th>                          <td>   -0.7233</td> <td>    0.114</td> <td>   -6.359</td> <td> 0.000</td> <td>   -0.946</td> <td>   -0.500</td>\n",
       "</tr>\n",
       "<tr>\n",
       "  <th>DNE</th>                            <td>   -1.3146</td> <td>    0.169</td> <td>   -7.756</td> <td> 0.000</td> <td>   -1.647</td> <td>   -0.982</td>\n",
       "</tr>\n",
       "<tr>\n",
       "  <th>TimeSpent</th>                      <td>    1.1584</td> <td>    0.039</td> <td>   29.492</td> <td> 0.000</td> <td>    1.081</td> <td>    1.235</td>\n",
       "</tr>\n",
       "<tr>\n",
       "  <th>Origin_Landing Page Submission</th> <td>   -0.3864</td> <td>    0.108</td> <td>   -3.590</td> <td> 0.000</td> <td>   -0.597</td> <td>   -0.175</td>\n",
       "</tr>\n",
       "<tr>\n",
       "  <th>Origin_Lead Add Form</th>           <td>    4.3240</td> <td>    0.219</td> <td>   19.737</td> <td> 0.000</td> <td>    3.895</td> <td>    4.753</td>\n",
       "</tr>\n",
       "<tr>\n",
       "  <th>Origin_Others</th>                  <td>    1.3830</td> <td>    0.444</td> <td>    3.118</td> <td> 0.002</td> <td>    0.514</td> <td>    2.252</td>\n",
       "</tr>\n",
       "<tr>\n",
       "  <th>City_Other Cities</th>              <td>   -0.2810</td> <td>    0.085</td> <td>   -3.313</td> <td> 0.001</td> <td>   -0.447</td> <td>   -0.115</td>\n",
       "</tr>\n",
       "<tr>\n",
       "  <th>Lst_Not_Act_Modified</th>           <td>   -0.7528</td> <td>    0.084</td> <td>   -8.945</td> <td> 0.000</td> <td>   -0.918</td> <td>   -0.588</td>\n",
       "</tr>\n",
       "<tr>\n",
       "  <th>Lst_Not_Act_Others</th>             <td>   -0.2101</td> <td>    0.126</td> <td>   -1.662</td> <td> 0.096</td> <td>   -0.458</td> <td>    0.038</td>\n",
       "</tr>\n",
       "<tr>\n",
       "  <th>Lst_Not_Act_SMS Sent</th>           <td>    1.4306</td> <td>    0.087</td> <td>   16.433</td> <td> 0.000</td> <td>    1.260</td> <td>    1.601</td>\n",
       "</tr>\n",
       "<tr>\n",
       "  <th>Spec_Finance Management</th>        <td>    0.3533</td> <td>    0.117</td> <td>    3.019</td> <td> 0.003</td> <td>    0.124</td> <td>    0.583</td>\n",
       "</tr>\n",
       "<tr>\n",
       "  <th>Spec_Human Resource Management</th> <td>    0.3444</td> <td>    0.117</td> <td>    2.934</td> <td> 0.003</td> <td>    0.114</td> <td>    0.574</td>\n",
       "</tr>\n",
       "<tr>\n",
       "  <th>Spec_Marketing Management</th>      <td>    0.5294</td> <td>    0.119</td> <td>    4.448</td> <td> 0.000</td> <td>    0.296</td> <td>    0.763</td>\n",
       "</tr>\n",
       "<tr>\n",
       "  <th>Spec_Operations Management</th>     <td>    0.4354</td> <td>    0.150</td> <td>    2.904</td> <td> 0.004</td> <td>    0.142</td> <td>    0.729</td>\n",
       "</tr>\n",
       "<tr>\n",
       "  <th>Src_Direct Traffic</th>             <td>   -0.2646</td> <td>    0.086</td> <td>   -3.066</td> <td> 0.002</td> <td>   -0.434</td> <td>   -0.095</td>\n",
       "</tr>\n",
       "<tr>\n",
       "  <th>Src_Olark Chat</th>                 <td>    0.8941</td> <td>    0.115</td> <td>    7.779</td> <td> 0.000</td> <td>    0.669</td> <td>    1.119</td>\n",
       "</tr>\n",
       "</table>"
      ],
      "text/plain": [
       "<class 'statsmodels.iolib.summary.Summary'>\n",
       "\"\"\"\n",
       "                 Generalized Linear Model Regression Results                  \n",
       "==============================================================================\n",
       "Dep. Variable:              Converted   No. Observations:                 6351\n",
       "Model:                            GLM   Df Residuals:                     6335\n",
       "Model Family:                Binomial   Df Model:                           15\n",
       "Link Function:                  logit   Scale:                          1.0000\n",
       "Method:                          IRLS   Log-Likelihood:                -2820.7\n",
       "Date:                Sun, 25 Oct 2020   Deviance:                       5641.5\n",
       "Time:                        21:42:21   Pearson chi2:                 6.59e+03\n",
       "No. Iterations:                     6                                         \n",
       "Covariance Type:            nonrobust                                         \n",
       "==================================================================================================\n",
       "                                     coef    std err          z      P>|z|      [0.025      0.975]\n",
       "--------------------------------------------------------------------------------------------------\n",
       "const                             -0.7233      0.114     -6.359      0.000      -0.946      -0.500\n",
       "DNE                               -1.3146      0.169     -7.756      0.000      -1.647      -0.982\n",
       "TimeSpent                          1.1584      0.039     29.492      0.000       1.081       1.235\n",
       "Origin_Landing Page Submission    -0.3864      0.108     -3.590      0.000      -0.597      -0.175\n",
       "Origin_Lead Add Form               4.3240      0.219     19.737      0.000       3.895       4.753\n",
       "Origin_Others                      1.3830      0.444      3.118      0.002       0.514       2.252\n",
       "City_Other Cities                 -0.2810      0.085     -3.313      0.001      -0.447      -0.115\n",
       "Lst_Not_Act_Modified              -0.7528      0.084     -8.945      0.000      -0.918      -0.588\n",
       "Lst_Not_Act_Others                -0.2101      0.126     -1.662      0.096      -0.458       0.038\n",
       "Lst_Not_Act_SMS Sent               1.4306      0.087     16.433      0.000       1.260       1.601\n",
       "Spec_Finance Management            0.3533      0.117      3.019      0.003       0.124       0.583\n",
       "Spec_Human Resource Management     0.3444      0.117      2.934      0.003       0.114       0.574\n",
       "Spec_Marketing Management          0.5294      0.119      4.448      0.000       0.296       0.763\n",
       "Spec_Operations Management         0.4354      0.150      2.904      0.004       0.142       0.729\n",
       "Src_Direct Traffic                -0.2646      0.086     -3.066      0.002      -0.434      -0.095\n",
       "Src_Olark Chat                     0.8941      0.115      7.779      0.000       0.669       1.119\n",
       "==================================================================================================\n",
       "\"\"\""
      ]
     },
     "execution_count": 54,
     "metadata": {},
     "output_type": "execute_result"
    }
   ],
   "source": [
    "X_train_sm = sm.add_constant(X_train[col])\n",
    "logm2 = sm.GLM(y_train, X_train_sm, family = sm.families.Binomial())\n",
    "res = logm2.fit()\n",
    "res.summary()"
   ]
  },
  {
   "cell_type": "code",
   "execution_count": 55,
   "metadata": {},
   "outputs": [
    {
     "data": {
      "text/plain": [
       "3009    0.232335\n",
       "1012    0.028504\n",
       "9226    0.128874\n",
       "4750    0.908408\n",
       "7987    0.580393\n",
       "1281    0.857198\n",
       "2880    0.111387\n",
       "4971    0.953005\n",
       "7536    0.732027\n",
       "1248    0.547932\n",
       "dtype: float64"
      ]
     },
     "execution_count": 55,
     "metadata": {},
     "output_type": "execute_result"
    }
   ],
   "source": [
    "# Getting the predicted values on the train set\n",
    "\n",
    "y_train_pred = res.predict(X_train_sm)\n",
    "y_train_pred[:10]"
   ]
  },
  {
   "cell_type": "code",
   "execution_count": 56,
   "metadata": {},
   "outputs": [
    {
     "data": {
      "text/plain": [
       "array([0.23233482, 0.02850374, 0.12887436, 0.90840773, 0.58039346,\n",
       "       0.85719809, 0.11138731, 0.95300515, 0.7320267 , 0.54793173])"
      ]
     },
     "execution_count": 56,
     "metadata": {},
     "output_type": "execute_result"
    }
   ],
   "source": [
    "y_train_pred = y_train_pred.values.reshape(-1)\n",
    "y_train_pred[:10]"
   ]
  },
  {
   "cell_type": "markdown",
   "metadata": {},
   "source": [
    "##### Creating a dataframe with the actual converted flag and the predicted probabilities"
   ]
  },
  {
   "cell_type": "code",
   "execution_count": 57,
   "metadata": {},
   "outputs": [
    {
     "data": {
      "text/html": [
       "<div>\n",
       "<style scoped>\n",
       "    .dataframe tbody tr th:only-of-type {\n",
       "        vertical-align: middle;\n",
       "    }\n",
       "\n",
       "    .dataframe tbody tr th {\n",
       "        vertical-align: top;\n",
       "    }\n",
       "\n",
       "    .dataframe thead th {\n",
       "        text-align: right;\n",
       "    }\n",
       "</style>\n",
       "<table border=\"1\" class=\"dataframe\">\n",
       "  <thead>\n",
       "    <tr style=\"text-align: right;\">\n",
       "      <th></th>\n",
       "      <th>Converted</th>\n",
       "      <th>Converted_Prob</th>\n",
       "      <th>Prospect ID</th>\n",
       "    </tr>\n",
       "  </thead>\n",
       "  <tbody>\n",
       "    <tr>\n",
       "      <th>0</th>\n",
       "      <td>0</td>\n",
       "      <td>0.232335</td>\n",
       "      <td>3009</td>\n",
       "    </tr>\n",
       "    <tr>\n",
       "      <th>1</th>\n",
       "      <td>0</td>\n",
       "      <td>0.028504</td>\n",
       "      <td>1012</td>\n",
       "    </tr>\n",
       "    <tr>\n",
       "      <th>2</th>\n",
       "      <td>0</td>\n",
       "      <td>0.128874</td>\n",
       "      <td>9226</td>\n",
       "    </tr>\n",
       "    <tr>\n",
       "      <th>3</th>\n",
       "      <td>1</td>\n",
       "      <td>0.908408</td>\n",
       "      <td>4750</td>\n",
       "    </tr>\n",
       "    <tr>\n",
       "      <th>4</th>\n",
       "      <td>1</td>\n",
       "      <td>0.580393</td>\n",
       "      <td>7987</td>\n",
       "    </tr>\n",
       "  </tbody>\n",
       "</table>\n",
       "</div>"
      ],
      "text/plain": [
       "   Converted  Converted_Prob  Prospect ID\n",
       "0          0        0.232335         3009\n",
       "1          0        0.028504         1012\n",
       "2          0        0.128874         9226\n",
       "3          1        0.908408         4750\n",
       "4          1        0.580393         7987"
      ]
     },
     "execution_count": 57,
     "metadata": {},
     "output_type": "execute_result"
    }
   ],
   "source": [
    "y_train_pred_final = pd.DataFrame({'Converted':y_train.values, 'Converted_Prob':y_train_pred})\n",
    "y_train_pred_final['Prospect ID'] = y_train.index\n",
    "y_train_pred_final.head()"
   ]
  },
  {
   "cell_type": "markdown",
   "metadata": {},
   "source": [
    "##### Creating new column 'predicted' with 1 if Converted_Prob > 0.5 else 0"
   ]
  },
  {
   "cell_type": "code",
   "execution_count": 58,
   "metadata": {},
   "outputs": [
    {
     "data": {
      "text/html": [
       "<div>\n",
       "<style scoped>\n",
       "    .dataframe tbody tr th:only-of-type {\n",
       "        vertical-align: middle;\n",
       "    }\n",
       "\n",
       "    .dataframe tbody tr th {\n",
       "        vertical-align: top;\n",
       "    }\n",
       "\n",
       "    .dataframe thead th {\n",
       "        text-align: right;\n",
       "    }\n",
       "</style>\n",
       "<table border=\"1\" class=\"dataframe\">\n",
       "  <thead>\n",
       "    <tr style=\"text-align: right;\">\n",
       "      <th></th>\n",
       "      <th>Converted</th>\n",
       "      <th>Converted_Prob</th>\n",
       "      <th>Prospect ID</th>\n",
       "      <th>predicted</th>\n",
       "    </tr>\n",
       "  </thead>\n",
       "  <tbody>\n",
       "    <tr>\n",
       "      <th>0</th>\n",
       "      <td>0</td>\n",
       "      <td>0.232335</td>\n",
       "      <td>3009</td>\n",
       "      <td>0</td>\n",
       "    </tr>\n",
       "    <tr>\n",
       "      <th>1</th>\n",
       "      <td>0</td>\n",
       "      <td>0.028504</td>\n",
       "      <td>1012</td>\n",
       "      <td>0</td>\n",
       "    </tr>\n",
       "    <tr>\n",
       "      <th>2</th>\n",
       "      <td>0</td>\n",
       "      <td>0.128874</td>\n",
       "      <td>9226</td>\n",
       "      <td>0</td>\n",
       "    </tr>\n",
       "    <tr>\n",
       "      <th>3</th>\n",
       "      <td>1</td>\n",
       "      <td>0.908408</td>\n",
       "      <td>4750</td>\n",
       "      <td>1</td>\n",
       "    </tr>\n",
       "    <tr>\n",
       "      <th>4</th>\n",
       "      <td>1</td>\n",
       "      <td>0.580393</td>\n",
       "      <td>7987</td>\n",
       "      <td>1</td>\n",
       "    </tr>\n",
       "  </tbody>\n",
       "</table>\n",
       "</div>"
      ],
      "text/plain": [
       "   Converted  Converted_Prob  Prospect ID  predicted\n",
       "0          0        0.232335         3009          0\n",
       "1          0        0.028504         1012          0\n",
       "2          0        0.128874         9226          0\n",
       "3          1        0.908408         4750          1\n",
       "4          1        0.580393         7987          1"
      ]
     },
     "execution_count": 58,
     "metadata": {},
     "output_type": "execute_result"
    }
   ],
   "source": [
    "y_train_pred_final['predicted'] = y_train_pred_final.Converted_Prob.map(lambda x: 1 if x > 0.5 else 0)\n",
    "\n",
    "# Let's see the head\n",
    "y_train_pred_final.head()"
   ]
  },
  {
   "cell_type": "code",
   "execution_count": 59,
   "metadata": {},
   "outputs": [
    {
     "name": "stdout",
     "output_type": "stream",
     "text": [
      "[[3406  499]\n",
      " [ 769 1677]]\n"
     ]
    }
   ],
   "source": [
    "# Confusion matrix \n",
    "confusion = metrics.confusion_matrix(y_train_pred_final.Converted, y_train_pred_final.predicted )\n",
    "print(confusion)"
   ]
  },
  {
   "cell_type": "code",
   "execution_count": 60,
   "metadata": {},
   "outputs": [],
   "source": [
    "# Predicted     not_converted  converted\n",
    "# Actual\n",
    "# not_converted     3559           394\n",
    "# converted         846            1573 "
   ]
  },
  {
   "cell_type": "code",
   "execution_count": 61,
   "metadata": {},
   "outputs": [
    {
     "name": "stdout",
     "output_type": "stream",
     "text": [
      "Accuracy of our Model:  0.8003464021413951\n"
     ]
    }
   ],
   "source": [
    "# Let's check the overall accuracy.\n",
    "print(\"Accuracy of our Model: \", metrics.accuracy_score(y_train_pred_final.Converted, y_train_pred_final.predicted))"
   ]
  },
  {
   "cell_type": "markdown",
   "metadata": {},
   "source": [
    "#### Checking VIFs"
   ]
  },
  {
   "cell_type": "code",
   "execution_count": 62,
   "metadata": {},
   "outputs": [
    {
     "data": {
      "text/html": [
       "<div>\n",
       "<style scoped>\n",
       "    .dataframe tbody tr th:only-of-type {\n",
       "        vertical-align: middle;\n",
       "    }\n",
       "\n",
       "    .dataframe tbody tr th {\n",
       "        vertical-align: top;\n",
       "    }\n",
       "\n",
       "    .dataframe thead th {\n",
       "        text-align: right;\n",
       "    }\n",
       "</style>\n",
       "<table border=\"1\" class=\"dataframe\">\n",
       "  <thead>\n",
       "    <tr style=\"text-align: right;\">\n",
       "      <th></th>\n",
       "      <th>Features</th>\n",
       "      <th>VIF</th>\n",
       "    </tr>\n",
       "  </thead>\n",
       "  <tbody>\n",
       "    <tr>\n",
       "      <th>2</th>\n",
       "      <td>Origin_Landing Page Submission</td>\n",
       "      <td>3.32</td>\n",
       "    </tr>\n",
       "    <tr>\n",
       "      <th>5</th>\n",
       "      <td>City_Other Cities</td>\n",
       "      <td>2.24</td>\n",
       "    </tr>\n",
       "    <tr>\n",
       "      <th>6</th>\n",
       "      <td>Lst_Not_Act_Modified</td>\n",
       "      <td>1.94</td>\n",
       "    </tr>\n",
       "    <tr>\n",
       "      <th>13</th>\n",
       "      <td>Src_Direct Traffic</td>\n",
       "      <td>1.92</td>\n",
       "    </tr>\n",
       "    <tr>\n",
       "      <th>14</th>\n",
       "      <td>Src_Olark Chat</td>\n",
       "      <td>1.83</td>\n",
       "    </tr>\n",
       "    <tr>\n",
       "      <th>8</th>\n",
       "      <td>Lst_Not_Act_SMS Sent</td>\n",
       "      <td>1.71</td>\n",
       "    </tr>\n",
       "    <tr>\n",
       "      <th>3</th>\n",
       "      <td>Origin_Lead Add Form</td>\n",
       "      <td>1.32</td>\n",
       "    </tr>\n",
       "    <tr>\n",
       "      <th>1</th>\n",
       "      <td>TimeSpent</td>\n",
       "      <td>1.31</td>\n",
       "    </tr>\n",
       "    <tr>\n",
       "      <th>7</th>\n",
       "      <td>Lst_Not_Act_Others</td>\n",
       "      <td>1.28</td>\n",
       "    </tr>\n",
       "    <tr>\n",
       "      <th>9</th>\n",
       "      <td>Spec_Finance Management</td>\n",
       "      <td>1.27</td>\n",
       "    </tr>\n",
       "    <tr>\n",
       "      <th>10</th>\n",
       "      <td>Spec_Human Resource Management</td>\n",
       "      <td>1.22</td>\n",
       "    </tr>\n",
       "    <tr>\n",
       "      <th>11</th>\n",
       "      <td>Spec_Marketing Management</td>\n",
       "      <td>1.20</td>\n",
       "    </tr>\n",
       "    <tr>\n",
       "      <th>0</th>\n",
       "      <td>DNE</td>\n",
       "      <td>1.18</td>\n",
       "    </tr>\n",
       "    <tr>\n",
       "      <th>12</th>\n",
       "      <td>Spec_Operations Management</td>\n",
       "      <td>1.13</td>\n",
       "    </tr>\n",
       "    <tr>\n",
       "      <th>4</th>\n",
       "      <td>Origin_Others</td>\n",
       "      <td>1.01</td>\n",
       "    </tr>\n",
       "  </tbody>\n",
       "</table>\n",
       "</div>"
      ],
      "text/plain": [
       "                          Features   VIF\n",
       "2   Origin_Landing Page Submission  3.32\n",
       "5                City_Other Cities  2.24\n",
       "6             Lst_Not_Act_Modified  1.94\n",
       "13              Src_Direct Traffic  1.92\n",
       "14                  Src_Olark Chat  1.83\n",
       "8             Lst_Not_Act_SMS Sent  1.71\n",
       "3             Origin_Lead Add Form  1.32\n",
       "1                        TimeSpent  1.31\n",
       "7               Lst_Not_Act_Others  1.28\n",
       "9          Spec_Finance Management  1.27\n",
       "10  Spec_Human Resource Management  1.22\n",
       "11       Spec_Marketing Management  1.20\n",
       "0                              DNE  1.18\n",
       "12      Spec_Operations Management  1.13\n",
       "4                    Origin_Others  1.01"
      ]
     },
     "execution_count": 62,
     "metadata": {},
     "output_type": "execute_result"
    }
   ],
   "source": [
    "# Create a dataframe that will contain the names of all the feature variables and their respective VIFs\n",
    "vif = pd.DataFrame()\n",
    "vif['Features'] = X_train[col].columns\n",
    "vif['VIF'] = [variance_inflation_factor(X_train[col].values, i) for i in range(X_train[col].shape[1])]\n",
    "vif['VIF'] = round(vif['VIF'], 2)\n",
    "vif = vif.sort_values(by = \"VIF\", ascending = False)\n",
    "vif"
   ]
  },
  {
   "cell_type": "markdown",
   "metadata": {},
   "source": [
    "'Origin_Others'high VIF value. Lets drop it"
   ]
  },
  {
   "cell_type": "code",
   "execution_count": 63,
   "metadata": {},
   "outputs": [
    {
     "data": {
      "text/plain": [
       "Index(['DNE', 'TimeSpent', 'Origin_Lead Add Form', 'Origin_Others',\n",
       "       'City_Other Cities', 'Lst_Not_Act_Modified', 'Lst_Not_Act_Others',\n",
       "       'Lst_Not_Act_SMS Sent', 'Spec_Finance Management',\n",
       "       'Spec_Human Resource Management', 'Spec_Marketing Management',\n",
       "       'Spec_Operations Management', 'Src_Direct Traffic', 'Src_Olark Chat'],\n",
       "      dtype='object')"
      ]
     },
     "execution_count": 63,
     "metadata": {},
     "output_type": "execute_result"
    }
   ],
   "source": [
    "col = col.drop('Origin_Landing Page Submission', 1)\n",
    "col"
   ]
  },
  {
   "cell_type": "code",
   "execution_count": 64,
   "metadata": {},
   "outputs": [
    {
     "data": {
      "text/html": [
       "<table class=\"simpletable\">\n",
       "<caption>Generalized Linear Model Regression Results</caption>\n",
       "<tr>\n",
       "  <th>Dep. Variable:</th>       <td>Converted</td>    <th>  No. Observations:  </th>  <td>  6351</td> \n",
       "</tr>\n",
       "<tr>\n",
       "  <th>Model:</th>                  <td>GLM</td>       <th>  Df Residuals:      </th>  <td>  6336</td> \n",
       "</tr>\n",
       "<tr>\n",
       "  <th>Model Family:</th>        <td>Binomial</td>     <th>  Df Model:          </th>  <td>    14</td> \n",
       "</tr>\n",
       "<tr>\n",
       "  <th>Link Function:</th>         <td>logit</td>      <th>  Scale:             </th> <td>  1.0000</td>\n",
       "</tr>\n",
       "<tr>\n",
       "  <th>Method:</th>                <td>IRLS</td>       <th>  Log-Likelihood:    </th> <td> -2827.2</td>\n",
       "</tr>\n",
       "<tr>\n",
       "  <th>Date:</th>            <td>Sun, 25 Oct 2020</td> <th>  Deviance:          </th> <td>  5654.4</td>\n",
       "</tr>\n",
       "<tr>\n",
       "  <th>Time:</th>                <td>21:42:22</td>     <th>  Pearson chi2:      </th> <td>6.61e+03</td>\n",
       "</tr>\n",
       "<tr>\n",
       "  <th>No. Iterations:</th>          <td>6</td>        <th>                     </th>     <td> </td>   \n",
       "</tr>\n",
       "<tr>\n",
       "  <th>Covariance Type:</th>     <td>nonrobust</td>    <th>                     </th>     <td> </td>   \n",
       "</tr>\n",
       "</table>\n",
       "<table class=\"simpletable\">\n",
       "<tr>\n",
       "                 <td></td>                   <th>coef</th>     <th>std err</th>      <th>z</th>      <th>P>|z|</th>  <th>[0.025</th>    <th>0.975]</th>  \n",
       "</tr>\n",
       "<tr>\n",
       "  <th>const</th>                          <td>   -0.9935</td> <td>    0.086</td> <td>  -11.587</td> <td> 0.000</td> <td>   -1.162</td> <td>   -0.825</td>\n",
       "</tr>\n",
       "<tr>\n",
       "  <th>DNE</th>                            <td>   -1.3455</td> <td>    0.168</td> <td>   -7.990</td> <td> 0.000</td> <td>   -1.676</td> <td>   -1.015</td>\n",
       "</tr>\n",
       "<tr>\n",
       "  <th>TimeSpent</th>                      <td>    1.1603</td> <td>    0.039</td> <td>   29.577</td> <td> 0.000</td> <td>    1.083</td> <td>    1.237</td>\n",
       "</tr>\n",
       "<tr>\n",
       "  <th>Origin_Lead Add Form</th>           <td>    4.5185</td> <td>    0.212</td> <td>   21.264</td> <td> 0.000</td> <td>    4.102</td> <td>    4.935</td>\n",
       "</tr>\n",
       "<tr>\n",
       "  <th>Origin_Others</th>                  <td>    1.6146</td> <td>    0.438</td> <td>    3.683</td> <td> 0.000</td> <td>    0.755</td> <td>    2.474</td>\n",
       "</tr>\n",
       "<tr>\n",
       "  <th>City_Other Cities</th>              <td>   -0.1534</td> <td>    0.077</td> <td>   -2.002</td> <td> 0.045</td> <td>   -0.304</td> <td>   -0.003</td>\n",
       "</tr>\n",
       "<tr>\n",
       "  <th>Lst_Not_Act_Modified</th>           <td>   -0.7407</td> <td>    0.084</td> <td>   -8.823</td> <td> 0.000</td> <td>   -0.905</td> <td>   -0.576</td>\n",
       "</tr>\n",
       "<tr>\n",
       "  <th>Lst_Not_Act_Others</th>             <td>   -0.2030</td> <td>    0.126</td> <td>   -1.607</td> <td> 0.108</td> <td>   -0.451</td> <td>    0.045</td>\n",
       "</tr>\n",
       "<tr>\n",
       "  <th>Lst_Not_Act_SMS Sent</th>           <td>    1.4159</td> <td>    0.087</td> <td>   16.310</td> <td> 0.000</td> <td>    1.246</td> <td>    1.586</td>\n",
       "</tr>\n",
       "<tr>\n",
       "  <th>Spec_Finance Management</th>        <td>    0.2904</td> <td>    0.116</td> <td>    2.514</td> <td> 0.012</td> <td>    0.064</td> <td>    0.517</td>\n",
       "</tr>\n",
       "<tr>\n",
       "  <th>Spec_Human Resource Management</th> <td>    0.2859</td> <td>    0.116</td> <td>    2.469</td> <td> 0.014</td> <td>    0.059</td> <td>    0.513</td>\n",
       "</tr>\n",
       "<tr>\n",
       "  <th>Spec_Marketing Management</th>      <td>    0.4853</td> <td>    0.118</td> <td>    4.119</td> <td> 0.000</td> <td>    0.254</td> <td>    0.716</td>\n",
       "</tr>\n",
       "<tr>\n",
       "  <th>Spec_Operations Management</th>     <td>    0.3598</td> <td>    0.148</td> <td>    2.433</td> <td> 0.015</td> <td>    0.070</td> <td>    0.650</td>\n",
       "</tr>\n",
       "<tr>\n",
       "  <th>Src_Direct Traffic</th>             <td>   -0.3781</td> <td>    0.080</td> <td>   -4.714</td> <td> 0.000</td> <td>   -0.535</td> <td>   -0.221</td>\n",
       "</tr>\n",
       "<tr>\n",
       "  <th>Src_Olark Chat</th>                 <td>    1.0513</td> <td>    0.107</td> <td>    9.818</td> <td> 0.000</td> <td>    0.841</td> <td>    1.261</td>\n",
       "</tr>\n",
       "</table>"
      ],
      "text/plain": [
       "<class 'statsmodels.iolib.summary.Summary'>\n",
       "\"\"\"\n",
       "                 Generalized Linear Model Regression Results                  \n",
       "==============================================================================\n",
       "Dep. Variable:              Converted   No. Observations:                 6351\n",
       "Model:                            GLM   Df Residuals:                     6336\n",
       "Model Family:                Binomial   Df Model:                           14\n",
       "Link Function:                  logit   Scale:                          1.0000\n",
       "Method:                          IRLS   Log-Likelihood:                -2827.2\n",
       "Date:                Sun, 25 Oct 2020   Deviance:                       5654.4\n",
       "Time:                        21:42:22   Pearson chi2:                 6.61e+03\n",
       "No. Iterations:                     6                                         \n",
       "Covariance Type:            nonrobust                                         \n",
       "==================================================================================================\n",
       "                                     coef    std err          z      P>|z|      [0.025      0.975]\n",
       "--------------------------------------------------------------------------------------------------\n",
       "const                             -0.9935      0.086    -11.587      0.000      -1.162      -0.825\n",
       "DNE                               -1.3455      0.168     -7.990      0.000      -1.676      -1.015\n",
       "TimeSpent                          1.1603      0.039     29.577      0.000       1.083       1.237\n",
       "Origin_Lead Add Form               4.5185      0.212     21.264      0.000       4.102       4.935\n",
       "Origin_Others                      1.6146      0.438      3.683      0.000       0.755       2.474\n",
       "City_Other Cities                 -0.1534      0.077     -2.002      0.045      -0.304      -0.003\n",
       "Lst_Not_Act_Modified              -0.7407      0.084     -8.823      0.000      -0.905      -0.576\n",
       "Lst_Not_Act_Others                -0.2030      0.126     -1.607      0.108      -0.451       0.045\n",
       "Lst_Not_Act_SMS Sent               1.4159      0.087     16.310      0.000       1.246       1.586\n",
       "Spec_Finance Management            0.2904      0.116      2.514      0.012       0.064       0.517\n",
       "Spec_Human Resource Management     0.2859      0.116      2.469      0.014       0.059       0.513\n",
       "Spec_Marketing Management          0.4853      0.118      4.119      0.000       0.254       0.716\n",
       "Spec_Operations Management         0.3598      0.148      2.433      0.015       0.070       0.650\n",
       "Src_Direct Traffic                -0.3781      0.080     -4.714      0.000      -0.535      -0.221\n",
       "Src_Olark Chat                     1.0513      0.107      9.818      0.000       0.841       1.261\n",
       "==================================================================================================\n",
       "\"\"\""
      ]
     },
     "execution_count": 64,
     "metadata": {},
     "output_type": "execute_result"
    }
   ],
   "source": [
    "# Let's re-run the model using the selected variables\n",
    "X_train_sm = sm.add_constant(X_train[col])\n",
    "logm3 = sm.GLM(y_train,X_train_sm, family = sm.families.Binomial())\n",
    "res = logm3.fit()\n",
    "res.summary()"
   ]
  },
  {
   "cell_type": "code",
   "execution_count": 65,
   "metadata": {},
   "outputs": [],
   "source": [
    "y_train_pred = res.predict(X_train_sm).values.reshape(-1)"
   ]
  },
  {
   "cell_type": "code",
   "execution_count": 66,
   "metadata": {},
   "outputs": [
    {
     "data": {
      "text/plain": [
       "array([0.22173648, 0.02789836, 0.13170801, 0.91444639, 0.60059208,\n",
       "       0.86207465, 0.13041007, 0.93867999, 0.73332021, 0.56847852])"
      ]
     },
     "execution_count": 66,
     "metadata": {},
     "output_type": "execute_result"
    }
   ],
   "source": [
    "y_train_pred[:10]"
   ]
  },
  {
   "cell_type": "code",
   "execution_count": 67,
   "metadata": {},
   "outputs": [],
   "source": [
    "y_train_pred_final['Converted_Prob'] = y_train_pred"
   ]
  },
  {
   "cell_type": "code",
   "execution_count": 68,
   "metadata": {},
   "outputs": [
    {
     "data": {
      "text/html": [
       "<div>\n",
       "<style scoped>\n",
       "    .dataframe tbody tr th:only-of-type {\n",
       "        vertical-align: middle;\n",
       "    }\n",
       "\n",
       "    .dataframe tbody tr th {\n",
       "        vertical-align: top;\n",
       "    }\n",
       "\n",
       "    .dataframe thead th {\n",
       "        text-align: right;\n",
       "    }\n",
       "</style>\n",
       "<table border=\"1\" class=\"dataframe\">\n",
       "  <thead>\n",
       "    <tr style=\"text-align: right;\">\n",
       "      <th></th>\n",
       "      <th>Converted</th>\n",
       "      <th>Converted_Prob</th>\n",
       "      <th>Prospect ID</th>\n",
       "      <th>predicted</th>\n",
       "      <th>Predicted</th>\n",
       "    </tr>\n",
       "  </thead>\n",
       "  <tbody>\n",
       "    <tr>\n",
       "      <th>0</th>\n",
       "      <td>0</td>\n",
       "      <td>0.221736</td>\n",
       "      <td>3009</td>\n",
       "      <td>0</td>\n",
       "      <td>0</td>\n",
       "    </tr>\n",
       "    <tr>\n",
       "      <th>1</th>\n",
       "      <td>0</td>\n",
       "      <td>0.027898</td>\n",
       "      <td>1012</td>\n",
       "      <td>0</td>\n",
       "      <td>0</td>\n",
       "    </tr>\n",
       "    <tr>\n",
       "      <th>2</th>\n",
       "      <td>0</td>\n",
       "      <td>0.131708</td>\n",
       "      <td>9226</td>\n",
       "      <td>0</td>\n",
       "      <td>0</td>\n",
       "    </tr>\n",
       "    <tr>\n",
       "      <th>3</th>\n",
       "      <td>1</td>\n",
       "      <td>0.914446</td>\n",
       "      <td>4750</td>\n",
       "      <td>1</td>\n",
       "      <td>1</td>\n",
       "    </tr>\n",
       "    <tr>\n",
       "      <th>4</th>\n",
       "      <td>1</td>\n",
       "      <td>0.600592</td>\n",
       "      <td>7987</td>\n",
       "      <td>1</td>\n",
       "      <td>1</td>\n",
       "    </tr>\n",
       "  </tbody>\n",
       "</table>\n",
       "</div>"
      ],
      "text/plain": [
       "   Converted  Converted_Prob  Prospect ID  predicted  Predicted\n",
       "0          0        0.221736         3009          0          0\n",
       "1          0        0.027898         1012          0          0\n",
       "2          0        0.131708         9226          0          0\n",
       "3          1        0.914446         4750          1          1\n",
       "4          1        0.600592         7987          1          1"
      ]
     },
     "execution_count": 68,
     "metadata": {},
     "output_type": "execute_result"
    }
   ],
   "source": [
    "# Creating new column 'predicted' with 1 if Churn_Prob > 0.5 else 0\n",
    "y_train_pred_final['Predicted'] = y_train_pred_final.Converted_Prob.map(lambda x: 1 if x > 0.5 else 0)\n",
    "y_train_pred_final.head()"
   ]
  },
  {
   "cell_type": "code",
   "execution_count": 69,
   "metadata": {},
   "outputs": [
    {
     "name": "stdout",
     "output_type": "stream",
     "text": [
      "0.8003464021413951\n"
     ]
    }
   ],
   "source": [
    "# Let's check the overall accuracy.\n",
    "print(metrics.accuracy_score(y_train_pred_final.Converted, y_train_pred_final.predicted))"
   ]
  },
  {
   "cell_type": "markdown",
   "metadata": {},
   "source": [
    "So overall the accuracy hasn't dropped much."
   ]
  },
  {
   "cell_type": "markdown",
   "metadata": {},
   "source": [
    "##### Let's check the VIFs again"
   ]
  },
  {
   "cell_type": "code",
   "execution_count": 70,
   "metadata": {},
   "outputs": [
    {
     "data": {
      "text/html": [
       "<div>\n",
       "<style scoped>\n",
       "    .dataframe tbody tr th:only-of-type {\n",
       "        vertical-align: middle;\n",
       "    }\n",
       "\n",
       "    .dataframe tbody tr th {\n",
       "        vertical-align: top;\n",
       "    }\n",
       "\n",
       "    .dataframe thead th {\n",
       "        text-align: right;\n",
       "    }\n",
       "</style>\n",
       "<table border=\"1\" class=\"dataframe\">\n",
       "  <thead>\n",
       "    <tr style=\"text-align: right;\">\n",
       "      <th></th>\n",
       "      <th>Features</th>\n",
       "      <th>VIF</th>\n",
       "    </tr>\n",
       "  </thead>\n",
       "  <tbody>\n",
       "    <tr>\n",
       "      <th>4</th>\n",
       "      <td>City_Other Cities</td>\n",
       "      <td>2.24</td>\n",
       "    </tr>\n",
       "    <tr>\n",
       "      <th>13</th>\n",
       "      <td>Src_Olark Chat</td>\n",
       "      <td>1.77</td>\n",
       "    </tr>\n",
       "    <tr>\n",
       "      <th>5</th>\n",
       "      <td>Lst_Not_Act_Modified</td>\n",
       "      <td>1.74</td>\n",
       "    </tr>\n",
       "    <tr>\n",
       "      <th>7</th>\n",
       "      <td>Lst_Not_Act_SMS Sent</td>\n",
       "      <td>1.53</td>\n",
       "    </tr>\n",
       "    <tr>\n",
       "      <th>12</th>\n",
       "      <td>Src_Direct Traffic</td>\n",
       "      <td>1.44</td>\n",
       "    </tr>\n",
       "    <tr>\n",
       "      <th>1</th>\n",
       "      <td>TimeSpent</td>\n",
       "      <td>1.31</td>\n",
       "    </tr>\n",
       "    <tr>\n",
       "      <th>2</th>\n",
       "      <td>Origin_Lead Add Form</td>\n",
       "      <td>1.26</td>\n",
       "    </tr>\n",
       "    <tr>\n",
       "      <th>6</th>\n",
       "      <td>Lst_Not_Act_Others</td>\n",
       "      <td>1.24</td>\n",
       "    </tr>\n",
       "    <tr>\n",
       "      <th>0</th>\n",
       "      <td>DNE</td>\n",
       "      <td>1.18</td>\n",
       "    </tr>\n",
       "    <tr>\n",
       "      <th>8</th>\n",
       "      <td>Spec_Finance Management</td>\n",
       "      <td>1.14</td>\n",
       "    </tr>\n",
       "    <tr>\n",
       "      <th>9</th>\n",
       "      <td>Spec_Human Resource Management</td>\n",
       "      <td>1.12</td>\n",
       "    </tr>\n",
       "    <tr>\n",
       "      <th>10</th>\n",
       "      <td>Spec_Marketing Management</td>\n",
       "      <td>1.12</td>\n",
       "    </tr>\n",
       "    <tr>\n",
       "      <th>11</th>\n",
       "      <td>Spec_Operations Management</td>\n",
       "      <td>1.07</td>\n",
       "    </tr>\n",
       "    <tr>\n",
       "      <th>3</th>\n",
       "      <td>Origin_Others</td>\n",
       "      <td>1.01</td>\n",
       "    </tr>\n",
       "  </tbody>\n",
       "</table>\n",
       "</div>"
      ],
      "text/plain": [
       "                          Features   VIF\n",
       "4                City_Other Cities  2.24\n",
       "13                  Src_Olark Chat  1.77\n",
       "5             Lst_Not_Act_Modified  1.74\n",
       "7             Lst_Not_Act_SMS Sent  1.53\n",
       "12              Src_Direct Traffic  1.44\n",
       "1                        TimeSpent  1.31\n",
       "2             Origin_Lead Add Form  1.26\n",
       "6               Lst_Not_Act_Others  1.24\n",
       "0                              DNE  1.18\n",
       "8          Spec_Finance Management  1.14\n",
       "9   Spec_Human Resource Management  1.12\n",
       "10       Spec_Marketing Management  1.12\n",
       "11      Spec_Operations Management  1.07\n",
       "3                    Origin_Others  1.01"
      ]
     },
     "execution_count": 70,
     "metadata": {},
     "output_type": "execute_result"
    }
   ],
   "source": [
    "vif = pd.DataFrame()\n",
    "vif['Features'] = X_train[col].columns\n",
    "vif['VIF'] = [variance_inflation_factor(X_train[col].values, i) for i in range(X_train[col].shape[1])]\n",
    "vif['VIF'] = round(vif['VIF'], 2)\n",
    "vif = vif.sort_values(by = \"VIF\", ascending = False)\n",
    "vif"
   ]
  },
  {
   "cell_type": "markdown",
   "metadata": {},
   "source": [
    "Lst_Not_Act_Others has p-value. Lets drop it"
   ]
  },
  {
   "cell_type": "code",
   "execution_count": 71,
   "metadata": {
    "scrolled": true
   },
   "outputs": [
    {
     "data": {
      "text/plain": [
       "Index(['DNE', 'TimeSpent', 'Origin_Lead Add Form', 'Origin_Others',\n",
       "       'City_Other Cities', 'Lst_Not_Act_Modified', 'Lst_Not_Act_SMS Sent',\n",
       "       'Spec_Finance Management', 'Spec_Human Resource Management',\n",
       "       'Spec_Marketing Management', 'Spec_Operations Management',\n",
       "       'Src_Direct Traffic', 'Src_Olark Chat'],\n",
       "      dtype='object')"
      ]
     },
     "execution_count": 71,
     "metadata": {},
     "output_type": "execute_result"
    }
   ],
   "source": [
    "col = col.drop('Lst_Not_Act_Others', 1)\n",
    "col"
   ]
  },
  {
   "cell_type": "code",
   "execution_count": 72,
   "metadata": {},
   "outputs": [
    {
     "data": {
      "text/html": [
       "<table class=\"simpletable\">\n",
       "<caption>Generalized Linear Model Regression Results</caption>\n",
       "<tr>\n",
       "  <th>Dep. Variable:</th>       <td>Converted</td>    <th>  No. Observations:  </th>  <td>  6351</td> \n",
       "</tr>\n",
       "<tr>\n",
       "  <th>Model:</th>                  <td>GLM</td>       <th>  Df Residuals:      </th>  <td>  6337</td> \n",
       "</tr>\n",
       "<tr>\n",
       "  <th>Model Family:</th>        <td>Binomial</td>     <th>  Df Model:          </th>  <td>    13</td> \n",
       "</tr>\n",
       "<tr>\n",
       "  <th>Link Function:</th>         <td>logit</td>      <th>  Scale:             </th> <td>  1.0000</td>\n",
       "</tr>\n",
       "<tr>\n",
       "  <th>Method:</th>                <td>IRLS</td>       <th>  Log-Likelihood:    </th> <td> -2828.5</td>\n",
       "</tr>\n",
       "<tr>\n",
       "  <th>Date:</th>            <td>Sun, 25 Oct 2020</td> <th>  Deviance:          </th> <td>  5657.0</td>\n",
       "</tr>\n",
       "<tr>\n",
       "  <th>Time:</th>                <td>21:42:22</td>     <th>  Pearson chi2:      </th> <td>6.60e+03</td>\n",
       "</tr>\n",
       "<tr>\n",
       "  <th>No. Iterations:</th>          <td>6</td>        <th>                     </th>     <td> </td>   \n",
       "</tr>\n",
       "<tr>\n",
       "  <th>Covariance Type:</th>     <td>nonrobust</td>    <th>                     </th>     <td> </td>   \n",
       "</tr>\n",
       "</table>\n",
       "<table class=\"simpletable\">\n",
       "<tr>\n",
       "                 <td></td>                   <th>coef</th>     <th>std err</th>      <th>z</th>      <th>P>|z|</th>  <th>[0.025</th>    <th>0.975]</th>  \n",
       "</tr>\n",
       "<tr>\n",
       "  <th>const</th>                          <td>   -1.0326</td> <td>    0.082</td> <td>  -12.529</td> <td> 0.000</td> <td>   -1.194</td> <td>   -0.871</td>\n",
       "</tr>\n",
       "<tr>\n",
       "  <th>DNE</th>                            <td>   -1.3881</td> <td>    0.166</td> <td>   -8.353</td> <td> 0.000</td> <td>   -1.714</td> <td>   -1.062</td>\n",
       "</tr>\n",
       "<tr>\n",
       "  <th>TimeSpent</th>                      <td>    1.1589</td> <td>    0.039</td> <td>   29.558</td> <td> 0.000</td> <td>    1.082</td> <td>    1.236</td>\n",
       "</tr>\n",
       "<tr>\n",
       "  <th>Origin_Lead Add Form</th>           <td>    4.5227</td> <td>    0.212</td> <td>   21.288</td> <td> 0.000</td> <td>    4.106</td> <td>    4.939</td>\n",
       "</tr>\n",
       "<tr>\n",
       "  <th>Origin_Others</th>                  <td>    1.6418</td> <td>    0.438</td> <td>    3.750</td> <td> 0.000</td> <td>    0.784</td> <td>    2.500</td>\n",
       "</tr>\n",
       "<tr>\n",
       "  <th>City_Other Cities</th>              <td>   -0.1554</td> <td>    0.077</td> <td>   -2.029</td> <td> 0.042</td> <td>   -0.305</td> <td>   -0.005</td>\n",
       "</tr>\n",
       "<tr>\n",
       "  <th>Lst_Not_Act_Modified</th>           <td>   -0.6971</td> <td>    0.080</td> <td>   -8.760</td> <td> 0.000</td> <td>   -0.853</td> <td>   -0.541</td>\n",
       "</tr>\n",
       "<tr>\n",
       "  <th>Lst_Not_Act_SMS Sent</th>           <td>    1.4592</td> <td>    0.083</td> <td>   17.642</td> <td> 0.000</td> <td>    1.297</td> <td>    1.621</td>\n",
       "</tr>\n",
       "<tr>\n",
       "  <th>Spec_Finance Management</th>        <td>    0.2911</td> <td>    0.116</td> <td>    2.518</td> <td> 0.012</td> <td>    0.065</td> <td>    0.518</td>\n",
       "</tr>\n",
       "<tr>\n",
       "  <th>Spec_Human Resource Management</th> <td>    0.2886</td> <td>    0.116</td> <td>    2.493</td> <td> 0.013</td> <td>    0.062</td> <td>    0.516</td>\n",
       "</tr>\n",
       "<tr>\n",
       "  <th>Spec_Marketing Management</th>      <td>    0.4893</td> <td>    0.118</td> <td>    4.155</td> <td> 0.000</td> <td>    0.258</td> <td>    0.720</td>\n",
       "</tr>\n",
       "<tr>\n",
       "  <th>Spec_Operations Management</th>     <td>    0.3658</td> <td>    0.148</td> <td>    2.474</td> <td> 0.013</td> <td>    0.076</td> <td>    0.656</td>\n",
       "</tr>\n",
       "<tr>\n",
       "  <th>Src_Direct Traffic</th>             <td>   -0.3772</td> <td>    0.080</td> <td>   -4.704</td> <td> 0.000</td> <td>   -0.534</td> <td>   -0.220</td>\n",
       "</tr>\n",
       "<tr>\n",
       "  <th>Src_Olark Chat</th>                 <td>    1.0409</td> <td>    0.107</td> <td>    9.740</td> <td> 0.000</td> <td>    0.831</td> <td>    1.250</td>\n",
       "</tr>\n",
       "</table>"
      ],
      "text/plain": [
       "<class 'statsmodels.iolib.summary.Summary'>\n",
       "\"\"\"\n",
       "                 Generalized Linear Model Regression Results                  \n",
       "==============================================================================\n",
       "Dep. Variable:              Converted   No. Observations:                 6351\n",
       "Model:                            GLM   Df Residuals:                     6337\n",
       "Model Family:                Binomial   Df Model:                           13\n",
       "Link Function:                  logit   Scale:                          1.0000\n",
       "Method:                          IRLS   Log-Likelihood:                -2828.5\n",
       "Date:                Sun, 25 Oct 2020   Deviance:                       5657.0\n",
       "Time:                        21:42:22   Pearson chi2:                 6.60e+03\n",
       "No. Iterations:                     6                                         \n",
       "Covariance Type:            nonrobust                                         \n",
       "==================================================================================================\n",
       "                                     coef    std err          z      P>|z|      [0.025      0.975]\n",
       "--------------------------------------------------------------------------------------------------\n",
       "const                             -1.0326      0.082    -12.529      0.000      -1.194      -0.871\n",
       "DNE                               -1.3881      0.166     -8.353      0.000      -1.714      -1.062\n",
       "TimeSpent                          1.1589      0.039     29.558      0.000       1.082       1.236\n",
       "Origin_Lead Add Form               4.5227      0.212     21.288      0.000       4.106       4.939\n",
       "Origin_Others                      1.6418      0.438      3.750      0.000       0.784       2.500\n",
       "City_Other Cities                 -0.1554      0.077     -2.029      0.042      -0.305      -0.005\n",
       "Lst_Not_Act_Modified              -0.6971      0.080     -8.760      0.000      -0.853      -0.541\n",
       "Lst_Not_Act_SMS Sent               1.4592      0.083     17.642      0.000       1.297       1.621\n",
       "Spec_Finance Management            0.2911      0.116      2.518      0.012       0.065       0.518\n",
       "Spec_Human Resource Management     0.2886      0.116      2.493      0.013       0.062       0.516\n",
       "Spec_Marketing Management          0.4893      0.118      4.155      0.000       0.258       0.720\n",
       "Spec_Operations Management         0.3658      0.148      2.474      0.013       0.076       0.656\n",
       "Src_Direct Traffic                -0.3772      0.080     -4.704      0.000      -0.534      -0.220\n",
       "Src_Olark Chat                     1.0409      0.107      9.740      0.000       0.831       1.250\n",
       "==================================================================================================\n",
       "\"\"\""
      ]
     },
     "execution_count": 72,
     "metadata": {},
     "output_type": "execute_result"
    }
   ],
   "source": [
    "# Let's re-run the model using the selected variables\n",
    "X_train_sm = sm.add_constant(X_train[col])\n",
    "logm3 = sm.GLM(y_train,X_train_sm, family = sm.families.Binomial())\n",
    "res = logm3.fit()\n",
    "res.summary()"
   ]
  },
  {
   "cell_type": "code",
   "execution_count": 73,
   "metadata": {},
   "outputs": [],
   "source": [
    "y_train_pred = res.predict(X_train_sm).values.reshape(-1)"
   ]
  },
  {
   "cell_type": "code",
   "execution_count": 74,
   "metadata": {},
   "outputs": [
    {
     "data": {
      "text/plain": [
       "array([0.2153662 , 0.03143563, 0.13095296, 0.91481277, 0.60087423,\n",
       "       0.86250022, 0.12603896, 0.93876543, 0.72521473, 0.56880623])"
      ]
     },
     "execution_count": 74,
     "metadata": {},
     "output_type": "execute_result"
    }
   ],
   "source": [
    "y_train_pred[:10]"
   ]
  },
  {
   "cell_type": "code",
   "execution_count": 75,
   "metadata": {},
   "outputs": [],
   "source": [
    "y_train_pred_final['Converted_Prob'] = y_train_pred"
   ]
  },
  {
   "cell_type": "code",
   "execution_count": 76,
   "metadata": {},
   "outputs": [
    {
     "data": {
      "text/html": [
       "<div>\n",
       "<style scoped>\n",
       "    .dataframe tbody tr th:only-of-type {\n",
       "        vertical-align: middle;\n",
       "    }\n",
       "\n",
       "    .dataframe tbody tr th {\n",
       "        vertical-align: top;\n",
       "    }\n",
       "\n",
       "    .dataframe thead th {\n",
       "        text-align: right;\n",
       "    }\n",
       "</style>\n",
       "<table border=\"1\" class=\"dataframe\">\n",
       "  <thead>\n",
       "    <tr style=\"text-align: right;\">\n",
       "      <th></th>\n",
       "      <th>Converted</th>\n",
       "      <th>Converted_Prob</th>\n",
       "      <th>Prospect ID</th>\n",
       "      <th>predicted</th>\n",
       "      <th>Predicted</th>\n",
       "    </tr>\n",
       "  </thead>\n",
       "  <tbody>\n",
       "    <tr>\n",
       "      <th>0</th>\n",
       "      <td>0</td>\n",
       "      <td>0.215366</td>\n",
       "      <td>3009</td>\n",
       "      <td>0</td>\n",
       "      <td>0</td>\n",
       "    </tr>\n",
       "    <tr>\n",
       "      <th>1</th>\n",
       "      <td>0</td>\n",
       "      <td>0.031436</td>\n",
       "      <td>1012</td>\n",
       "      <td>0</td>\n",
       "      <td>0</td>\n",
       "    </tr>\n",
       "    <tr>\n",
       "      <th>2</th>\n",
       "      <td>0</td>\n",
       "      <td>0.130953</td>\n",
       "      <td>9226</td>\n",
       "      <td>0</td>\n",
       "      <td>0</td>\n",
       "    </tr>\n",
       "    <tr>\n",
       "      <th>3</th>\n",
       "      <td>1</td>\n",
       "      <td>0.914813</td>\n",
       "      <td>4750</td>\n",
       "      <td>1</td>\n",
       "      <td>1</td>\n",
       "    </tr>\n",
       "    <tr>\n",
       "      <th>4</th>\n",
       "      <td>1</td>\n",
       "      <td>0.600874</td>\n",
       "      <td>7987</td>\n",
       "      <td>1</td>\n",
       "      <td>1</td>\n",
       "    </tr>\n",
       "  </tbody>\n",
       "</table>\n",
       "</div>"
      ],
      "text/plain": [
       "   Converted  Converted_Prob  Prospect ID  predicted  Predicted\n",
       "0          0        0.215366         3009          0          0\n",
       "1          0        0.031436         1012          0          0\n",
       "2          0        0.130953         9226          0          0\n",
       "3          1        0.914813         4750          1          1\n",
       "4          1        0.600874         7987          1          1"
      ]
     },
     "execution_count": 76,
     "metadata": {},
     "output_type": "execute_result"
    }
   ],
   "source": [
    "# Creating new column 'predicted' with 1 if Churn_Prob > 0.5 else 0\n",
    "y_train_pred_final['Predicted'] = y_train_pred_final.Converted_Prob.map(lambda x: 1 if x > 0.5 else 0)\n",
    "y_train_pred_final.head()"
   ]
  },
  {
   "cell_type": "code",
   "execution_count": 77,
   "metadata": {},
   "outputs": [
    {
     "name": "stdout",
     "output_type": "stream",
     "text": [
      "0.8003464021413951\n"
     ]
    }
   ],
   "source": [
    "# Let's check the overall accuracy.\n",
    "print(metrics.accuracy_score(y_train_pred_final.Converted, y_train_pred_final.predicted))"
   ]
  },
  {
   "cell_type": "markdown",
   "metadata": {},
   "source": [
    "So overall the accuracy hasn't dropped much."
   ]
  },
  {
   "cell_type": "markdown",
   "metadata": {},
   "source": [
    "##### Let's check the VIFs again"
   ]
  },
  {
   "cell_type": "code",
   "execution_count": 78,
   "metadata": {},
   "outputs": [
    {
     "data": {
      "text/html": [
       "<div>\n",
       "<style scoped>\n",
       "    .dataframe tbody tr th:only-of-type {\n",
       "        vertical-align: middle;\n",
       "    }\n",
       "\n",
       "    .dataframe tbody tr th {\n",
       "        vertical-align: top;\n",
       "    }\n",
       "\n",
       "    .dataframe thead th {\n",
       "        text-align: right;\n",
       "    }\n",
       "</style>\n",
       "<table border=\"1\" class=\"dataframe\">\n",
       "  <thead>\n",
       "    <tr style=\"text-align: right;\">\n",
       "      <th></th>\n",
       "      <th>Features</th>\n",
       "      <th>VIF</th>\n",
       "    </tr>\n",
       "  </thead>\n",
       "  <tbody>\n",
       "    <tr>\n",
       "      <th>4</th>\n",
       "      <td>City_Other Cities</td>\n",
       "      <td>2.13</td>\n",
       "    </tr>\n",
       "    <tr>\n",
       "      <th>12</th>\n",
       "      <td>Src_Olark Chat</td>\n",
       "      <td>1.74</td>\n",
       "    </tr>\n",
       "    <tr>\n",
       "      <th>5</th>\n",
       "      <td>Lst_Not_Act_Modified</td>\n",
       "      <td>1.61</td>\n",
       "    </tr>\n",
       "    <tr>\n",
       "      <th>6</th>\n",
       "      <td>Lst_Not_Act_SMS Sent</td>\n",
       "      <td>1.45</td>\n",
       "    </tr>\n",
       "    <tr>\n",
       "      <th>11</th>\n",
       "      <td>Src_Direct Traffic</td>\n",
       "      <td>1.42</td>\n",
       "    </tr>\n",
       "    <tr>\n",
       "      <th>1</th>\n",
       "      <td>TimeSpent</td>\n",
       "      <td>1.30</td>\n",
       "    </tr>\n",
       "    <tr>\n",
       "      <th>2</th>\n",
       "      <td>Origin_Lead Add Form</td>\n",
       "      <td>1.26</td>\n",
       "    </tr>\n",
       "    <tr>\n",
       "      <th>7</th>\n",
       "      <td>Spec_Finance Management</td>\n",
       "      <td>1.13</td>\n",
       "    </tr>\n",
       "    <tr>\n",
       "      <th>0</th>\n",
       "      <td>DNE</td>\n",
       "      <td>1.12</td>\n",
       "    </tr>\n",
       "    <tr>\n",
       "      <th>8</th>\n",
       "      <td>Spec_Human Resource Management</td>\n",
       "      <td>1.11</td>\n",
       "    </tr>\n",
       "    <tr>\n",
       "      <th>9</th>\n",
       "      <td>Spec_Marketing Management</td>\n",
       "      <td>1.11</td>\n",
       "    </tr>\n",
       "    <tr>\n",
       "      <th>10</th>\n",
       "      <td>Spec_Operations Management</td>\n",
       "      <td>1.06</td>\n",
       "    </tr>\n",
       "    <tr>\n",
       "      <th>3</th>\n",
       "      <td>Origin_Others</td>\n",
       "      <td>1.01</td>\n",
       "    </tr>\n",
       "  </tbody>\n",
       "</table>\n",
       "</div>"
      ],
      "text/plain": [
       "                          Features   VIF\n",
       "4                City_Other Cities  2.13\n",
       "12                  Src_Olark Chat  1.74\n",
       "5             Lst_Not_Act_Modified  1.61\n",
       "6             Lst_Not_Act_SMS Sent  1.45\n",
       "11              Src_Direct Traffic  1.42\n",
       "1                        TimeSpent  1.30\n",
       "2             Origin_Lead Add Form  1.26\n",
       "7          Spec_Finance Management  1.13\n",
       "0                              DNE  1.12\n",
       "8   Spec_Human Resource Management  1.11\n",
       "9        Spec_Marketing Management  1.11\n",
       "10      Spec_Operations Management  1.06\n",
       "3                    Origin_Others  1.01"
      ]
     },
     "execution_count": 78,
     "metadata": {},
     "output_type": "execute_result"
    }
   ],
   "source": [
    "vif = pd.DataFrame()\n",
    "vif['Features'] = X_train[col].columns\n",
    "vif['VIF'] = [variance_inflation_factor(X_train[col].values, i) for i in range(X_train[col].shape[1])]\n",
    "vif['VIF'] = round(vif['VIF'], 2)\n",
    "vif = vif.sort_values(by = \"VIF\", ascending = False)\n",
    "vif"
   ]
  },
  {
   "cell_type": "markdown",
   "metadata": {},
   "source": [
    "City_Other Cities has high VIF. So, Lets drop it"
   ]
  },
  {
   "cell_type": "code",
   "execution_count": 79,
   "metadata": {
    "scrolled": true
   },
   "outputs": [
    {
     "data": {
      "text/plain": [
       "Index(['DNE', 'TimeSpent', 'Origin_Lead Add Form', 'Origin_Others',\n",
       "       'Lst_Not_Act_Modified', 'Lst_Not_Act_SMS Sent',\n",
       "       'Spec_Finance Management', 'Spec_Human Resource Management',\n",
       "       'Spec_Marketing Management', 'Spec_Operations Management',\n",
       "       'Src_Direct Traffic', 'Src_Olark Chat'],\n",
       "      dtype='object')"
      ]
     },
     "execution_count": 79,
     "metadata": {},
     "output_type": "execute_result"
    }
   ],
   "source": [
    "col = col.drop('City_Other Cities', 1)\n",
    "col"
   ]
  },
  {
   "cell_type": "markdown",
   "metadata": {},
   "source": [
    "#### Final Model"
   ]
  },
  {
   "cell_type": "code",
   "execution_count": 80,
   "metadata": {},
   "outputs": [
    {
     "data": {
      "text/html": [
       "<table class=\"simpletable\">\n",
       "<caption>Generalized Linear Model Regression Results</caption>\n",
       "<tr>\n",
       "  <th>Dep. Variable:</th>       <td>Converted</td>    <th>  No. Observations:  </th>  <td>  6351</td> \n",
       "</tr>\n",
       "<tr>\n",
       "  <th>Model:</th>                  <td>GLM</td>       <th>  Df Residuals:      </th>  <td>  6338</td> \n",
       "</tr>\n",
       "<tr>\n",
       "  <th>Model Family:</th>        <td>Binomial</td>     <th>  Df Model:          </th>  <td>    12</td> \n",
       "</tr>\n",
       "<tr>\n",
       "  <th>Link Function:</th>         <td>logit</td>      <th>  Scale:             </th> <td>  1.0000</td>\n",
       "</tr>\n",
       "<tr>\n",
       "  <th>Method:</th>                <td>IRLS</td>       <th>  Log-Likelihood:    </th> <td> -2830.6</td>\n",
       "</tr>\n",
       "<tr>\n",
       "  <th>Date:</th>            <td>Sun, 25 Oct 2020</td> <th>  Deviance:          </th> <td>  5661.1</td>\n",
       "</tr>\n",
       "<tr>\n",
       "  <th>Time:</th>                <td>21:42:22</td>     <th>  Pearson chi2:      </th> <td>6.59e+03</td>\n",
       "</tr>\n",
       "<tr>\n",
       "  <th>No. Iterations:</th>          <td>6</td>        <th>                     </th>     <td> </td>   \n",
       "</tr>\n",
       "<tr>\n",
       "  <th>Covariance Type:</th>     <td>nonrobust</td>    <th>                     </th>     <td> </td>   \n",
       "</tr>\n",
       "</table>\n",
       "<table class=\"simpletable\">\n",
       "<tr>\n",
       "                 <td></td>                   <th>coef</th>     <th>std err</th>      <th>z</th>      <th>P>|z|</th>  <th>[0.025</th>    <th>0.975]</th>  \n",
       "</tr>\n",
       "<tr>\n",
       "  <th>const</th>                          <td>   -1.1234</td> <td>    0.069</td> <td>  -16.177</td> <td> 0.000</td> <td>   -1.260</td> <td>   -0.987</td>\n",
       "</tr>\n",
       "<tr>\n",
       "  <th>DNE</th>                            <td>   -1.3916</td> <td>    0.166</td> <td>   -8.367</td> <td> 0.000</td> <td>   -1.718</td> <td>   -1.066</td>\n",
       "</tr>\n",
       "<tr>\n",
       "  <th>TimeSpent</th>                      <td>    1.1593</td> <td>    0.039</td> <td>   29.593</td> <td> 0.000</td> <td>    1.083</td> <td>    1.236</td>\n",
       "</tr>\n",
       "<tr>\n",
       "  <th>Origin_Lead Add Form</th>           <td>    4.4890</td> <td>    0.212</td> <td>   21.222</td> <td> 0.000</td> <td>    4.074</td> <td>    4.904</td>\n",
       "</tr>\n",
       "<tr>\n",
       "  <th>Origin_Others</th>                  <td>    1.6488</td> <td>    0.438</td> <td>    3.762</td> <td> 0.000</td> <td>    0.790</td> <td>    2.508</td>\n",
       "</tr>\n",
       "<tr>\n",
       "  <th>Lst_Not_Act_Modified</th>           <td>   -0.7011</td> <td>    0.080</td> <td>   -8.818</td> <td> 0.000</td> <td>   -0.857</td> <td>   -0.545</td>\n",
       "</tr>\n",
       "<tr>\n",
       "  <th>Lst_Not_Act_SMS Sent</th>           <td>    1.4561</td> <td>    0.083</td> <td>   17.612</td> <td> 0.000</td> <td>    1.294</td> <td>    1.618</td>\n",
       "</tr>\n",
       "<tr>\n",
       "  <th>Spec_Finance Management</th>        <td>    0.3462</td> <td>    0.112</td> <td>    3.078</td> <td> 0.002</td> <td>    0.126</td> <td>    0.567</td>\n",
       "</tr>\n",
       "<tr>\n",
       "  <th>Spec_Human Resource Management</th> <td>    0.3325</td> <td>    0.114</td> <td>    2.920</td> <td> 0.004</td> <td>    0.109</td> <td>    0.556</td>\n",
       "</tr>\n",
       "<tr>\n",
       "  <th>Spec_Marketing Management</th>      <td>    0.5282</td> <td>    0.116</td> <td>    4.547</td> <td> 0.000</td> <td>    0.301</td> <td>    0.756</td>\n",
       "</tr>\n",
       "<tr>\n",
       "  <th>Spec_Operations Management</th>     <td>    0.3904</td> <td>    0.147</td> <td>    2.648</td> <td> 0.008</td> <td>    0.101</td> <td>    0.679</td>\n",
       "</tr>\n",
       "<tr>\n",
       "  <th>Src_Direct Traffic</th>             <td>   -0.3633</td> <td>    0.080</td> <td>   -4.547</td> <td> 0.000</td> <td>   -0.520</td> <td>   -0.207</td>\n",
       "</tr>\n",
       "<tr>\n",
       "  <th>Src_Olark Chat</th>                 <td>    0.9854</td> <td>    0.103</td> <td>    9.573</td> <td> 0.000</td> <td>    0.784</td> <td>    1.187</td>\n",
       "</tr>\n",
       "</table>"
      ],
      "text/plain": [
       "<class 'statsmodels.iolib.summary.Summary'>\n",
       "\"\"\"\n",
       "                 Generalized Linear Model Regression Results                  \n",
       "==============================================================================\n",
       "Dep. Variable:              Converted   No. Observations:                 6351\n",
       "Model:                            GLM   Df Residuals:                     6338\n",
       "Model Family:                Binomial   Df Model:                           12\n",
       "Link Function:                  logit   Scale:                          1.0000\n",
       "Method:                          IRLS   Log-Likelihood:                -2830.6\n",
       "Date:                Sun, 25 Oct 2020   Deviance:                       5661.1\n",
       "Time:                        21:42:22   Pearson chi2:                 6.59e+03\n",
       "No. Iterations:                     6                                         \n",
       "Covariance Type:            nonrobust                                         \n",
       "==================================================================================================\n",
       "                                     coef    std err          z      P>|z|      [0.025      0.975]\n",
       "--------------------------------------------------------------------------------------------------\n",
       "const                             -1.1234      0.069    -16.177      0.000      -1.260      -0.987\n",
       "DNE                               -1.3916      0.166     -8.367      0.000      -1.718      -1.066\n",
       "TimeSpent                          1.1593      0.039     29.593      0.000       1.083       1.236\n",
       "Origin_Lead Add Form               4.4890      0.212     21.222      0.000       4.074       4.904\n",
       "Origin_Others                      1.6488      0.438      3.762      0.000       0.790       2.508\n",
       "Lst_Not_Act_Modified              -0.7011      0.080     -8.818      0.000      -0.857      -0.545\n",
       "Lst_Not_Act_SMS Sent               1.4561      0.083     17.612      0.000       1.294       1.618\n",
       "Spec_Finance Management            0.3462      0.112      3.078      0.002       0.126       0.567\n",
       "Spec_Human Resource Management     0.3325      0.114      2.920      0.004       0.109       0.556\n",
       "Spec_Marketing Management          0.5282      0.116      4.547      0.000       0.301       0.756\n",
       "Spec_Operations Management         0.3904      0.147      2.648      0.008       0.101       0.679\n",
       "Src_Direct Traffic                -0.3633      0.080     -4.547      0.000      -0.520      -0.207\n",
       "Src_Olark Chat                     0.9854      0.103      9.573      0.000       0.784       1.187\n",
       "==================================================================================================\n",
       "\"\"\""
      ]
     },
     "execution_count": 80,
     "metadata": {},
     "output_type": "execute_result"
    }
   ],
   "source": [
    "# Let's re-run the model using the selected variables\n",
    "X_train_sm = sm.add_constant(X_train[col])\n",
    "logm3 = sm.GLM(y_train,X_train_sm, family = sm.families.Binomial())\n",
    "res = logm3.fit()\n",
    "res.summary()"
   ]
  },
  {
   "cell_type": "code",
   "execution_count": 81,
   "metadata": {},
   "outputs": [],
   "source": [
    "y_train_pred = res.predict(X_train_sm).values.reshape(-1)"
   ]
  },
  {
   "cell_type": "code",
   "execution_count": 82,
   "metadata": {},
   "outputs": [
    {
     "data": {
      "text/plain": [
       "array([0.21169564, 0.02906809, 0.13148161, 0.9233539 , 0.63170863,\n",
       "       0.85787977, 0.13977277, 0.9331898 , 0.70981062, 0.60045869])"
      ]
     },
     "execution_count": 82,
     "metadata": {},
     "output_type": "execute_result"
    }
   ],
   "source": [
    "y_train_pred[:10]"
   ]
  },
  {
   "cell_type": "code",
   "execution_count": 83,
   "metadata": {},
   "outputs": [],
   "source": [
    "y_train_pred_final['Converted_Prob'] = y_train_pred"
   ]
  },
  {
   "cell_type": "code",
   "execution_count": 84,
   "metadata": {},
   "outputs": [
    {
     "data": {
      "text/html": [
       "<div>\n",
       "<style scoped>\n",
       "    .dataframe tbody tr th:only-of-type {\n",
       "        vertical-align: middle;\n",
       "    }\n",
       "\n",
       "    .dataframe tbody tr th {\n",
       "        vertical-align: top;\n",
       "    }\n",
       "\n",
       "    .dataframe thead th {\n",
       "        text-align: right;\n",
       "    }\n",
       "</style>\n",
       "<table border=\"1\" class=\"dataframe\">\n",
       "  <thead>\n",
       "    <tr style=\"text-align: right;\">\n",
       "      <th></th>\n",
       "      <th>Converted</th>\n",
       "      <th>Converted_Prob</th>\n",
       "      <th>Prospect ID</th>\n",
       "      <th>predicted</th>\n",
       "      <th>Predicted</th>\n",
       "    </tr>\n",
       "  </thead>\n",
       "  <tbody>\n",
       "    <tr>\n",
       "      <th>0</th>\n",
       "      <td>0</td>\n",
       "      <td>0.211696</td>\n",
       "      <td>3009</td>\n",
       "      <td>0</td>\n",
       "      <td>0</td>\n",
       "    </tr>\n",
       "    <tr>\n",
       "      <th>1</th>\n",
       "      <td>0</td>\n",
       "      <td>0.029068</td>\n",
       "      <td>1012</td>\n",
       "      <td>0</td>\n",
       "      <td>0</td>\n",
       "    </tr>\n",
       "    <tr>\n",
       "      <th>2</th>\n",
       "      <td>0</td>\n",
       "      <td>0.131482</td>\n",
       "      <td>9226</td>\n",
       "      <td>0</td>\n",
       "      <td>0</td>\n",
       "    </tr>\n",
       "    <tr>\n",
       "      <th>3</th>\n",
       "      <td>1</td>\n",
       "      <td>0.923354</td>\n",
       "      <td>4750</td>\n",
       "      <td>1</td>\n",
       "      <td>1</td>\n",
       "    </tr>\n",
       "    <tr>\n",
       "      <th>4</th>\n",
       "      <td>1</td>\n",
       "      <td>0.631709</td>\n",
       "      <td>7987</td>\n",
       "      <td>1</td>\n",
       "      <td>1</td>\n",
       "    </tr>\n",
       "  </tbody>\n",
       "</table>\n",
       "</div>"
      ],
      "text/plain": [
       "   Converted  Converted_Prob  Prospect ID  predicted  Predicted\n",
       "0          0        0.211696         3009          0          0\n",
       "1          0        0.029068         1012          0          0\n",
       "2          0        0.131482         9226          0          0\n",
       "3          1        0.923354         4750          1          1\n",
       "4          1        0.631709         7987          1          1"
      ]
     },
     "execution_count": 84,
     "metadata": {},
     "output_type": "execute_result"
    }
   ],
   "source": [
    "# Creating new column 'predicted' with 1 if Churn_Prob > 0.5 else 0\n",
    "y_train_pred_final['Predicted'] = y_train_pred_final.Converted_Prob.map(lambda x: 1 if x > 0.5 else 0)\n",
    "y_train_pred_final.head()"
   ]
  },
  {
   "cell_type": "code",
   "execution_count": 85,
   "metadata": {},
   "outputs": [
    {
     "name": "stdout",
     "output_type": "stream",
     "text": [
      "0.8003464021413951\n"
     ]
    }
   ],
   "source": [
    "# Let's check the overall accuracy.\n",
    "print(metrics.accuracy_score(y_train_pred_final.Converted, y_train_pred_final.predicted))"
   ]
  },
  {
   "cell_type": "markdown",
   "metadata": {},
   "source": [
    "So overall the accuracy hasn't dropped much."
   ]
  },
  {
   "cell_type": "markdown",
   "metadata": {},
   "source": [
    "##### Let's check the VIFs again"
   ]
  },
  {
   "cell_type": "code",
   "execution_count": 86,
   "metadata": {},
   "outputs": [
    {
     "data": {
      "text/html": [
       "<div>\n",
       "<style scoped>\n",
       "    .dataframe tbody tr th:only-of-type {\n",
       "        vertical-align: middle;\n",
       "    }\n",
       "\n",
       "    .dataframe tbody tr th {\n",
       "        vertical-align: top;\n",
       "    }\n",
       "\n",
       "    .dataframe thead th {\n",
       "        text-align: right;\n",
       "    }\n",
       "</style>\n",
       "<table border=\"1\" class=\"dataframe\">\n",
       "  <thead>\n",
       "    <tr style=\"text-align: right;\">\n",
       "      <th></th>\n",
       "      <th>Features</th>\n",
       "      <th>VIF</th>\n",
       "    </tr>\n",
       "  </thead>\n",
       "  <tbody>\n",
       "    <tr>\n",
       "      <th>4</th>\n",
       "      <td>Lst_Not_Act_Modified</td>\n",
       "      <td>1.42</td>\n",
       "    </tr>\n",
       "    <tr>\n",
       "      <th>10</th>\n",
       "      <td>Src_Direct Traffic</td>\n",
       "      <td>1.40</td>\n",
       "    </tr>\n",
       "    <tr>\n",
       "      <th>11</th>\n",
       "      <td>Src_Olark Chat</td>\n",
       "      <td>1.37</td>\n",
       "    </tr>\n",
       "    <tr>\n",
       "      <th>5</th>\n",
       "      <td>Lst_Not_Act_SMS Sent</td>\n",
       "      <td>1.33</td>\n",
       "    </tr>\n",
       "    <tr>\n",
       "      <th>1</th>\n",
       "      <td>TimeSpent</td>\n",
       "      <td>1.30</td>\n",
       "    </tr>\n",
       "    <tr>\n",
       "      <th>2</th>\n",
       "      <td>Origin_Lead Add Form</td>\n",
       "      <td>1.20</td>\n",
       "    </tr>\n",
       "    <tr>\n",
       "      <th>0</th>\n",
       "      <td>DNE</td>\n",
       "      <td>1.12</td>\n",
       "    </tr>\n",
       "    <tr>\n",
       "      <th>6</th>\n",
       "      <td>Spec_Finance Management</td>\n",
       "      <td>1.12</td>\n",
       "    </tr>\n",
       "    <tr>\n",
       "      <th>7</th>\n",
       "      <td>Spec_Human Resource Management</td>\n",
       "      <td>1.11</td>\n",
       "    </tr>\n",
       "    <tr>\n",
       "      <th>8</th>\n",
       "      <td>Spec_Marketing Management</td>\n",
       "      <td>1.11</td>\n",
       "    </tr>\n",
       "    <tr>\n",
       "      <th>9</th>\n",
       "      <td>Spec_Operations Management</td>\n",
       "      <td>1.06</td>\n",
       "    </tr>\n",
       "    <tr>\n",
       "      <th>3</th>\n",
       "      <td>Origin_Others</td>\n",
       "      <td>1.01</td>\n",
       "    </tr>\n",
       "  </tbody>\n",
       "</table>\n",
       "</div>"
      ],
      "text/plain": [
       "                          Features   VIF\n",
       "4             Lst_Not_Act_Modified  1.42\n",
       "10              Src_Direct Traffic  1.40\n",
       "11                  Src_Olark Chat  1.37\n",
       "5             Lst_Not_Act_SMS Sent  1.33\n",
       "1                        TimeSpent  1.30\n",
       "2             Origin_Lead Add Form  1.20\n",
       "0                              DNE  1.12\n",
       "6          Spec_Finance Management  1.12\n",
       "7   Spec_Human Resource Management  1.11\n",
       "8        Spec_Marketing Management  1.11\n",
       "9       Spec_Operations Management  1.06\n",
       "3                    Origin_Others  1.01"
      ]
     },
     "execution_count": 86,
     "metadata": {},
     "output_type": "execute_result"
    }
   ],
   "source": [
    "vif = pd.DataFrame()\n",
    "vif['Features'] = X_train[col].columns\n",
    "vif['VIF'] = [variance_inflation_factor(X_train[col].values, i) for i in range(X_train[col].shape[1])]\n",
    "vif['VIF'] = round(vif['VIF'], 2)\n",
    "vif = vif.sort_values(by = \"VIF\", ascending = False)\n",
    "vif"
   ]
  },
  {
   "cell_type": "markdown",
   "metadata": {},
   "source": [
    "All variables have a good value of VIF. So we need not drop any more variables and we can proceed with making predictions using this model only"
   ]
  },
  {
   "cell_type": "code",
   "execution_count": 87,
   "metadata": {},
   "outputs": [
    {
     "data": {
      "text/plain": [
       "array([[3406,  499],\n",
       "       [ 769, 1677]], dtype=int64)"
      ]
     },
     "execution_count": 87,
     "metadata": {},
     "output_type": "execute_result"
    }
   ],
   "source": [
    "# Let's take a look at the confusion matrix again \n",
    "confusion = metrics.confusion_matrix(y_train_pred_final.Converted, y_train_pred_final.predicted )\n",
    "confusion"
   ]
  },
  {
   "cell_type": "code",
   "execution_count": 88,
   "metadata": {},
   "outputs": [],
   "source": [
    "# Actual/Predicted     not_churn    churn\n",
    "        # not_churn        3269      366\n",
    "        # churn            595       692  "
   ]
  },
  {
   "cell_type": "code",
   "execution_count": 89,
   "metadata": {},
   "outputs": [
    {
     "data": {
      "text/plain": [
       "0.8003464021413951"
      ]
     },
     "execution_count": 89,
     "metadata": {},
     "output_type": "execute_result"
    }
   ],
   "source": [
    "# Let's check the overall accuracy.\n",
    "metrics.accuracy_score(y_train_pred_final.Converted, y_train_pred_final.predicted)"
   ]
  },
  {
   "cell_type": "markdown",
   "metadata": {},
   "source": [
    "## Metrics beyond simply accuracy"
   ]
  },
  {
   "cell_type": "code",
   "execution_count": 90,
   "metadata": {},
   "outputs": [],
   "source": [
    "TP = confusion[1,1] # true positive \n",
    "TN = confusion[0,0] # true negatives\n",
    "FP = confusion[0,1] # false positives\n",
    "FN = confusion[1,0] # false negatives"
   ]
  },
  {
   "cell_type": "markdown",
   "metadata": {},
   "source": [
    "#### Sensitivity"
   ]
  },
  {
   "cell_type": "code",
   "execution_count": 91,
   "metadata": {},
   "outputs": [
    {
     "data": {
      "text/plain": [
       "0.6856091578086672"
      ]
     },
     "execution_count": 91,
     "metadata": {},
     "output_type": "execute_result"
    }
   ],
   "source": [
    "# Let's see the sensitivity of our logistic regression model\n",
    "TP / float(TP+FN)"
   ]
  },
  {
   "cell_type": "markdown",
   "metadata": {},
   "source": [
    "#### Specificity"
   ]
  },
  {
   "cell_type": "code",
   "execution_count": 92,
   "metadata": {},
   "outputs": [
    {
     "data": {
      "text/plain": [
       "0.8722151088348271"
      ]
     },
     "execution_count": 92,
     "metadata": {},
     "output_type": "execute_result"
    }
   ],
   "source": [
    "# Let us calculate specificity\n",
    "TN / float(TN+FP)"
   ]
  },
  {
   "cell_type": "code",
   "execution_count": 93,
   "metadata": {},
   "outputs": [
    {
     "name": "stdout",
     "output_type": "stream",
     "text": [
      "0.12778489116517286\n"
     ]
    }
   ],
   "source": [
    "# Calculate false postive rate - predicting churn when customer does not have churned\n",
    "print(FP/ float(TN+FP))"
   ]
  },
  {
   "cell_type": "code",
   "execution_count": 94,
   "metadata": {},
   "outputs": [
    {
     "name": "stdout",
     "output_type": "stream",
     "text": [
      "0.7706801470588235\n"
     ]
    }
   ],
   "source": [
    "# positive predictive value \n",
    "print (TP / float(TP+FP))"
   ]
  },
  {
   "cell_type": "code",
   "execution_count": 95,
   "metadata": {},
   "outputs": [
    {
     "name": "stdout",
     "output_type": "stream",
     "text": [
      "0.8158083832335329\n"
     ]
    }
   ],
   "source": [
    "# Negative predictive value\n",
    "print (TN / float(TN+ FN))"
   ]
  },
  {
   "cell_type": "markdown",
   "metadata": {
    "collapsed": true
   },
   "source": [
    "### Step 9: Plotting the ROC Curve"
   ]
  },
  {
   "cell_type": "markdown",
   "metadata": {},
   "source": [
    "An ROC curve demonstrates several things:\n",
    "\n",
    "- It shows the tradeoff between sensitivity and specificity (any increase in sensitivity will be accompanied by a decrease in specificity).\n",
    "- The closer the curve follows the left-hand border and then the top border of the ROC space, the more accurate the test.\n",
    "- The closer the curve comes to the 45-degree diagonal of the ROC space, the less accurate the test."
   ]
  },
  {
   "cell_type": "code",
   "execution_count": 96,
   "metadata": {},
   "outputs": [],
   "source": [
    "def draw_roc( actual, probs ):\n",
    "    fpr, tpr, thresholds = metrics.roc_curve( actual, probs,\n",
    "                                              drop_intermediate = False )\n",
    "    auc_score = metrics.roc_auc_score( actual, probs )\n",
    "    plt.figure(figsize=(5, 5))\n",
    "    plt.plot( fpr, tpr, label='ROC curve (area = %0.2f)' % auc_score )\n",
    "    plt.plot([0, 1], [0, 1], 'k--')\n",
    "    plt.xlim([0.0, 1.0])\n",
    "    plt.ylim([0.0, 1.05])\n",
    "    plt.xlabel('False Positive Rate or [1 - True Negative Rate]')\n",
    "    plt.ylabel('True Positive Rate')\n",
    "    plt.title('Receiver operating characteristic example')\n",
    "    plt.legend(loc = \"lower right\")\n",
    "    plt.show()\n",
    "\n",
    "    return None"
   ]
  },
  {
   "cell_type": "code",
   "execution_count": 97,
   "metadata": {},
   "outputs": [
    {
     "data": {
      "image/png": "[encoded data removed]",
      "text/plain": [
       "<Figure size 360x360 with 1 Axes>"
      ]
     },
     "metadata": {
      "needs_background": "light"
     },
     "output_type": "display_data"
    }
   ],
   "source": [
    "fpr, tpr, thresholds = metrics.roc_curve( y_train_pred_final.Converted, \n",
    "                                         y_train_pred_final.Converted_Prob, drop_intermediate = False )\n",
    "draw_roc(y_train_pred_final.Converted, y_train_pred_final.Converted_Prob)"
   ]
  },
  {
   "cell_type": "markdown",
   "metadata": {},
   "source": [
    "#### ROC Curve Area : 0.86"
   ]
  },
  {
   "cell_type": "markdown",
   "metadata": {},
   "source": [
    "### Step 10: Finding Optimal Cutoff Point"
   ]
  },
  {
   "cell_type": "markdown",
   "metadata": {},
   "source": [
    "Optimal cutoff probability is that prob where we get balanced sensitivity and specificity"
   ]
  },
  {
   "cell_type": "code",
   "execution_count": 98,
   "metadata": {
    "scrolled": true
   },
   "outputs": [
    {
     "data": {
      "text/html": [
       "<div>\n",
       "<style scoped>\n",
       "    .dataframe tbody tr th:only-of-type {\n",
       "        vertical-align: middle;\n",
       "    }\n",
       "\n",
       "    .dataframe tbody tr th {\n",
       "        vertical-align: top;\n",
       "    }\n",
       "\n",
       "    .dataframe thead th {\n",
       "        text-align: right;\n",
       "    }\n",
       "</style>\n",
       "<table border=\"1\" class=\"dataframe\">\n",
       "  <thead>\n",
       "    <tr style=\"text-align: right;\">\n",
       "      <th></th>\n",
       "      <th>Converted</th>\n",
       "      <th>Converted_Prob</th>\n",
       "      <th>Prospect ID</th>\n",
       "      <th>predicted</th>\n",
       "      <th>Predicted</th>\n",
       "      <th>0.0</th>\n",
       "      <th>0.1</th>\n",
       "      <th>0.2</th>\n",
       "      <th>0.3</th>\n",
       "      <th>0.4</th>\n",
       "      <th>0.5</th>\n",
       "      <th>0.6</th>\n",
       "      <th>0.7</th>\n",
       "      <th>0.8</th>\n",
       "      <th>0.9</th>\n",
       "    </tr>\n",
       "  </thead>\n",
       "  <tbody>\n",
       "    <tr>\n",
       "      <th>0</th>\n",
       "      <td>0</td>\n",
       "      <td>0.211696</td>\n",
       "      <td>3009</td>\n",
       "      <td>0</td>\n",
       "      <td>0</td>\n",
       "      <td>1</td>\n",
       "      <td>1</td>\n",
       "      <td>1</td>\n",
       "      <td>0</td>\n",
       "      <td>0</td>\n",
       "      <td>0</td>\n",
       "      <td>0</td>\n",
       "      <td>0</td>\n",
       "      <td>0</td>\n",
       "      <td>0</td>\n",
       "    </tr>\n",
       "    <tr>\n",
       "      <th>1</th>\n",
       "      <td>0</td>\n",
       "      <td>0.029068</td>\n",
       "      <td>1012</td>\n",
       "      <td>0</td>\n",
       "      <td>0</td>\n",
       "      <td>1</td>\n",
       "      <td>0</td>\n",
       "      <td>0</td>\n",
       "      <td>0</td>\n",
       "      <td>0</td>\n",
       "      <td>0</td>\n",
       "      <td>0</td>\n",
       "      <td>0</td>\n",
       "      <td>0</td>\n",
       "      <td>0</td>\n",
       "    </tr>\n",
       "    <tr>\n",
       "      <th>2</th>\n",
       "      <td>0</td>\n",
       "      <td>0.131482</td>\n",
       "      <td>9226</td>\n",
       "      <td>0</td>\n",
       "      <td>0</td>\n",
       "      <td>1</td>\n",
       "      <td>1</td>\n",
       "      <td>0</td>\n",
       "      <td>0</td>\n",
       "      <td>0</td>\n",
       "      <td>0</td>\n",
       "      <td>0</td>\n",
       "      <td>0</td>\n",
       "      <td>0</td>\n",
       "      <td>0</td>\n",
       "    </tr>\n",
       "    <tr>\n",
       "      <th>3</th>\n",
       "      <td>1</td>\n",
       "      <td>0.923354</td>\n",
       "      <td>4750</td>\n",
       "      <td>1</td>\n",
       "      <td>1</td>\n",
       "      <td>1</td>\n",
       "      <td>1</td>\n",
       "      <td>1</td>\n",
       "      <td>1</td>\n",
       "      <td>1</td>\n",
       "      <td>1</td>\n",
       "      <td>1</td>\n",
       "      <td>1</td>\n",
       "      <td>1</td>\n",
       "      <td>1</td>\n",
       "    </tr>\n",
       "    <tr>\n",
       "      <th>4</th>\n",
       "      <td>1</td>\n",
       "      <td>0.631709</td>\n",
       "      <td>7987</td>\n",
       "      <td>1</td>\n",
       "      <td>1</td>\n",
       "      <td>1</td>\n",
       "      <td>1</td>\n",
       "      <td>1</td>\n",
       "      <td>1</td>\n",
       "      <td>1</td>\n",
       "      <td>1</td>\n",
       "      <td>1</td>\n",
       "      <td>0</td>\n",
       "      <td>0</td>\n",
       "      <td>0</td>\n",
       "    </tr>\n",
       "  </tbody>\n",
       "</table>\n",
       "</div>"
      ],
      "text/plain": [
       "   Converted  Converted_Prob  Prospect ID  predicted  Predicted  0.0  0.1  \\\n",
       "0          0        0.211696         3009          0          0    1    1   \n",
       "1          0        0.029068         1012          0          0    1    0   \n",
       "2          0        0.131482         9226          0          0    1    1   \n",
       "3          1        0.923354         4750          1          1    1    1   \n",
       "4          1        0.631709         7987          1          1    1    1   \n",
       "\n",
       "   0.2  0.3  0.4  0.5  0.6  0.7  0.8  0.9  \n",
       "0    1    0    0    0    0    0    0    0  \n",
       "1    0    0    0    0    0    0    0    0  \n",
       "2    0    0    0    0    0    0    0    0  \n",
       "3    1    1    1    1    1    1    1    1  \n",
       "4    1    1    1    1    1    0    0    0  "
      ]
     },
     "execution_count": 98,
     "metadata": {},
     "output_type": "execute_result"
    }
   ],
   "source": [
    "# Let's create columns with different probability cutoffs \n",
    "\n",
    "numbers = [float(x)/10 for x in range(10)]\n",
    "for i in numbers:\n",
    "    y_train_pred_final[i]= y_train_pred_final.Converted_Prob.map(lambda x: 1 if x > i else 0)\n",
    "y_train_pred_final.head()"
   ]
  },
  {
   "cell_type": "code",
   "execution_count": 99,
   "metadata": {},
   "outputs": [
    {
     "name": "stdout",
     "output_type": "stream",
     "text": [
      "     prob  accuracy     sensi     speci\n",
      "0.0   0.0  0.385136  1.000000  0.000000\n",
      "0.1   0.1  0.528421  0.974652  0.248912\n",
      "0.2   0.2  0.722878  0.903925  0.609475\n",
      "0.3   0.3  0.797040  0.833197  0.774392\n",
      "0.4   0.4  0.803023  0.764105  0.827401\n",
      "0.5   0.5  0.799087  0.682339  0.872215\n",
      "0.6   0.6  0.779090  0.564595  0.913444\n",
      "0.7   0.7  0.760668  0.468520  0.943662\n",
      "0.8   0.8  0.736262  0.366721  0.967734\n",
      "0.9   0.9  0.696426  0.236713  0.984379\n"
     ]
    }
   ],
   "source": [
    "# Now let's calculate accuracy sensitivity and specificity for various probability cutoffs.\n",
    "\n",
    "cutoff_df = pd.DataFrame( columns = ['prob','accuracy','sensi','speci'])\n",
    "\n",
    "# TP = confusion[1,1] # true positive \n",
    "# TN = confusion[0,0] # true negatives\n",
    "# FP = confusion[0,1] # false positives\n",
    "# FN = confusion[1,0] # false negatives\n",
    "\n",
    "num = [0.0,0.1,0.2,0.3,0.4,0.5,0.6,0.7,0.8,0.9]\n",
    "for i in num:\n",
    "    cm1 = metrics.confusion_matrix(y_train_pred_final.Converted, y_train_pred_final[i] )\n",
    "    total1=sum(sum(cm1))\n",
    "    accuracy = (cm1[0,0] + cm1[1,1]) / total1\n",
    "    \n",
    "    speci = cm1[0,0] / (cm1[0,0] + cm1[0,1])\n",
    "    sensi = cm1[1,1] / (cm1[1,0] + cm1[1,1])\n",
    "    cutoff_df.loc[i] = [i, accuracy,sensi,speci]\n",
    "    \n",
    "print(cutoff_df)"
   ]
  },
  {
   "cell_type": "code",
   "execution_count": 100,
   "metadata": {},
   "outputs": [
    {
     "data": {
      "image/png": "[encoded data removed]",
      "text/plain": [
       "<Figure size 432x288 with 1 Axes>"
      ]
     },
     "metadata": {
      "needs_background": "light"
     },
     "output_type": "display_data"
    }
   ],
   "source": [
    "# Let's plot accuracy sensitivity and specificity for various probabilities.\n",
    "\n",
    "cutoff_df.plot.line(x = 'prob', y = ['accuracy','sensi','speci'])\n",
    "plt.show()"
   ]
  },
  {
   "cell_type": "markdown",
   "metadata": {},
   "source": [
    "#### From the curve above, 0.35 is the optimum point to take it as a cutoff probability."
   ]
  },
  {
   "cell_type": "code",
   "execution_count": 101,
   "metadata": {},
   "outputs": [
    {
     "data": {
      "text/html": [
       "<div>\n",
       "<style scoped>\n",
       "    .dataframe tbody tr th:only-of-type {\n",
       "        vertical-align: middle;\n",
       "    }\n",
       "\n",
       "    .dataframe tbody tr th {\n",
       "        vertical-align: top;\n",
       "    }\n",
       "\n",
       "    .dataframe thead th {\n",
       "        text-align: right;\n",
       "    }\n",
       "</style>\n",
       "<table border=\"1\" class=\"dataframe\">\n",
       "  <thead>\n",
       "    <tr style=\"text-align: right;\">\n",
       "      <th></th>\n",
       "      <th>Converted</th>\n",
       "      <th>Converted_Prob</th>\n",
       "      <th>Prospect ID</th>\n",
       "      <th>predicted</th>\n",
       "      <th>Predicted</th>\n",
       "      <th>0.0</th>\n",
       "      <th>0.1</th>\n",
       "      <th>0.2</th>\n",
       "      <th>0.3</th>\n",
       "      <th>0.4</th>\n",
       "      <th>0.5</th>\n",
       "      <th>0.6</th>\n",
       "      <th>0.7</th>\n",
       "      <th>0.8</th>\n",
       "      <th>0.9</th>\n",
       "      <th>Final_Predicted</th>\n",
       "    </tr>\n",
       "  </thead>\n",
       "  <tbody>\n",
       "    <tr>\n",
       "      <th>0</th>\n",
       "      <td>0</td>\n",
       "      <td>0.211696</td>\n",
       "      <td>3009</td>\n",
       "      <td>0</td>\n",
       "      <td>0</td>\n",
       "      <td>1</td>\n",
       "      <td>1</td>\n",
       "      <td>1</td>\n",
       "      <td>0</td>\n",
       "      <td>0</td>\n",
       "      <td>0</td>\n",
       "      <td>0</td>\n",
       "      <td>0</td>\n",
       "      <td>0</td>\n",
       "      <td>0</td>\n",
       "      <td>0</td>\n",
       "    </tr>\n",
       "    <tr>\n",
       "      <th>1</th>\n",
       "      <td>0</td>\n",
       "      <td>0.029068</td>\n",
       "      <td>1012</td>\n",
       "      <td>0</td>\n",
       "      <td>0</td>\n",
       "      <td>1</td>\n",
       "      <td>0</td>\n",
       "      <td>0</td>\n",
       "      <td>0</td>\n",
       "      <td>0</td>\n",
       "      <td>0</td>\n",
       "      <td>0</td>\n",
       "      <td>0</td>\n",
       "      <td>0</td>\n",
       "      <td>0</td>\n",
       "      <td>0</td>\n",
       "    </tr>\n",
       "    <tr>\n",
       "      <th>2</th>\n",
       "      <td>0</td>\n",
       "      <td>0.131482</td>\n",
       "      <td>9226</td>\n",
       "      <td>0</td>\n",
       "      <td>0</td>\n",
       "      <td>1</td>\n",
       "      <td>1</td>\n",
       "      <td>0</td>\n",
       "      <td>0</td>\n",
       "      <td>0</td>\n",
       "      <td>0</td>\n",
       "      <td>0</td>\n",
       "      <td>0</td>\n",
       "      <td>0</td>\n",
       "      <td>0</td>\n",
       "      <td>0</td>\n",
       "    </tr>\n",
       "    <tr>\n",
       "      <th>3</th>\n",
       "      <td>1</td>\n",
       "      <td>0.923354</td>\n",
       "      <td>4750</td>\n",
       "      <td>1</td>\n",
       "      <td>1</td>\n",
       "      <td>1</td>\n",
       "      <td>1</td>\n",
       "      <td>1</td>\n",
       "      <td>1</td>\n",
       "      <td>1</td>\n",
       "      <td>1</td>\n",
       "      <td>1</td>\n",
       "      <td>1</td>\n",
       "      <td>1</td>\n",
       "      <td>1</td>\n",
       "      <td>1</td>\n",
       "    </tr>\n",
       "    <tr>\n",
       "      <th>4</th>\n",
       "      <td>1</td>\n",
       "      <td>0.631709</td>\n",
       "      <td>7987</td>\n",
       "      <td>1</td>\n",
       "      <td>1</td>\n",
       "      <td>1</td>\n",
       "      <td>1</td>\n",
       "      <td>1</td>\n",
       "      <td>1</td>\n",
       "      <td>1</td>\n",
       "      <td>1</td>\n",
       "      <td>1</td>\n",
       "      <td>0</td>\n",
       "      <td>0</td>\n",
       "      <td>0</td>\n",
       "      <td>1</td>\n",
       "    </tr>\n",
       "  </tbody>\n",
       "</table>\n",
       "</div>"
      ],
      "text/plain": [
       "   Converted  Converted_Prob  Prospect ID  predicted  Predicted  0.0  0.1  \\\n",
       "0          0        0.211696         3009          0          0    1    1   \n",
       "1          0        0.029068         1012          0          0    1    0   \n",
       "2          0        0.131482         9226          0          0    1    1   \n",
       "3          1        0.923354         4750          1          1    1    1   \n",
       "4          1        0.631709         7987          1          1    1    1   \n",
       "\n",
       "   0.2  0.3  0.4  0.5  0.6  0.7  0.8  0.9  Final_Predicted  \n",
       "0    1    0    0    0    0    0    0    0                0  \n",
       "1    0    0    0    0    0    0    0    0                0  \n",
       "2    0    0    0    0    0    0    0    0                0  \n",
       "3    1    1    1    1    1    1    1    1                1  \n",
       "4    1    1    1    1    1    0    0    0                1  "
      ]
     },
     "execution_count": 101,
     "metadata": {},
     "output_type": "execute_result"
    }
   ],
   "source": [
    "y_train_pred_final['Final_Predicted'] = y_train_pred_final.Converted_Prob.map( lambda x: 1 if x > 0.35 else 0)\n",
    "\n",
    "y_train_pred_final.head()"
   ]
  },
  {
   "cell_type": "markdown",
   "metadata": {},
   "source": [
    "#### Final Accuracy - Training Data"
   ]
  },
  {
   "cell_type": "code",
   "execution_count": 102,
   "metadata": {},
   "outputs": [
    {
     "data": {
      "text/plain": [
       "0.8000314911037631"
      ]
     },
     "execution_count": 102,
     "metadata": {},
     "output_type": "execute_result"
    }
   ],
   "source": [
    "# Let's check the overall accuracy.\n",
    "metrics.accuracy_score(y_train_pred_final.Converted, y_train_pred_final.Final_Predicted)"
   ]
  },
  {
   "cell_type": "code",
   "execution_count": 103,
   "metadata": {},
   "outputs": [
    {
     "data": {
      "text/plain": [
       "array([[3122,  783],\n",
       "       [ 487, 1959]], dtype=int64)"
      ]
     },
     "execution_count": 103,
     "metadata": {},
     "output_type": "execute_result"
    }
   ],
   "source": [
    "confusion2 = metrics.confusion_matrix(y_train_pred_final.Converted, y_train_pred_final.Final_Predicted )\n",
    "confusion2"
   ]
  },
  {
   "cell_type": "code",
   "execution_count": 104,
   "metadata": {},
   "outputs": [],
   "source": [
    "TP = confusion2[1,1] # true positive \n",
    "TN = confusion2[0,0] # true negatives\n",
    "FP = confusion2[0,1] # false positives\n",
    "FN = confusion2[1,0] # false negatives"
   ]
  },
  {
   "cell_type": "markdown",
   "metadata": {},
   "source": [
    "#### Final Sensitivity  - Training Data"
   ]
  },
  {
   "cell_type": "code",
   "execution_count": 105,
   "metadata": {},
   "outputs": [
    {
     "data": {
      "text/plain": [
       "0.8008994276369583"
      ]
     },
     "execution_count": 105,
     "metadata": {},
     "output_type": "execute_result"
    }
   ],
   "source": [
    "# Let's see the sensitivity of our logistic regression model\n",
    "TP / float(TP+FN)"
   ]
  },
  {
   "cell_type": "markdown",
   "metadata": {},
   "source": [
    "#### Final Specificity  - Training Data"
   ]
  },
  {
   "cell_type": "code",
   "execution_count": 106,
   "metadata": {},
   "outputs": [
    {
     "data": {
      "text/plain": [
       "0.7994878361075545"
      ]
     },
     "execution_count": 106,
     "metadata": {},
     "output_type": "execute_result"
    }
   ],
   "source": [
    "# Let us calculate specificity\n",
    "TN / float(TN+FP)"
   ]
  },
  {
   "cell_type": "code",
   "execution_count": 107,
   "metadata": {},
   "outputs": [
    {
     "name": "stdout",
     "output_type": "stream",
     "text": [
      "0.20051216389244558\n"
     ]
    }
   ],
   "source": [
    "# Calculate false postive rate - predicting churn when customer does not have churned\n",
    "print(FP/ float(TN+FP))"
   ]
  },
  {
   "cell_type": "code",
   "execution_count": 108,
   "metadata": {},
   "outputs": [
    {
     "name": "stdout",
     "output_type": "stream",
     "text": [
      "0.7144420131291028\n"
     ]
    }
   ],
   "source": [
    "# Positive predictive value \n",
    "print (TP / float(TP+FP))"
   ]
  },
  {
   "cell_type": "code",
   "execution_count": 109,
   "metadata": {},
   "outputs": [
    {
     "name": "stdout",
     "output_type": "stream",
     "text": [
      "0.8650595732889997\n"
     ]
    }
   ],
   "source": [
    "# Negative predictive value\n",
    "print (TN / float(TN+ FN))"
   ]
  },
  {
   "cell_type": "markdown",
   "metadata": {},
   "source": [
    "## Precision and Recall"
   ]
  },
  {
   "cell_type": "code",
   "execution_count": 110,
   "metadata": {},
   "outputs": [
    {
     "data": {
      "text/plain": [
       "array([[3406,  499],\n",
       "       [ 769, 1677]], dtype=int64)"
      ]
     },
     "execution_count": 110,
     "metadata": {},
     "output_type": "execute_result"
    }
   ],
   "source": [
    "#Looking at the confusion matrix again\n",
    "confusion = metrics.confusion_matrix(y_train_pred_final.Converted, y_train_pred_final.predicted )\n",
    "confusion"
   ]
  },
  {
   "cell_type": "markdown",
   "metadata": {},
   "source": [
    "##### Precision\n",
    "TP / TP + FP"
   ]
  },
  {
   "cell_type": "code",
   "execution_count": 111,
   "metadata": {},
   "outputs": [
    {
     "data": {
      "text/plain": [
       "0.7706801470588235"
      ]
     },
     "execution_count": 111,
     "metadata": {},
     "output_type": "execute_result"
    }
   ],
   "source": [
    "confusion[1,1]/(confusion[0,1]+confusion[1,1])"
   ]
  },
  {
   "cell_type": "markdown",
   "metadata": {},
   "source": [
    "##### Recall\n",
    "TP / TP + FN"
   ]
  },
  {
   "cell_type": "code",
   "execution_count": 112,
   "metadata": {},
   "outputs": [
    {
     "data": {
      "text/plain": [
       "0.6856091578086672"
      ]
     },
     "execution_count": 112,
     "metadata": {},
     "output_type": "execute_result"
    }
   ],
   "source": [
    "confusion[1,1]/(confusion[1,0]+confusion[1,1])"
   ]
  },
  {
   "cell_type": "code",
   "execution_count": 113,
   "metadata": {},
   "outputs": [
    {
     "data": {
      "text/plain": [
       "0.7706801470588235"
      ]
     },
     "execution_count": 113,
     "metadata": {},
     "output_type": "execute_result"
    }
   ],
   "source": [
    "precision = precision_score(y_train_pred_final.Converted, y_train_pred_final.predicted)\n",
    "precision"
   ]
  },
  {
   "cell_type": "code",
   "execution_count": 114,
   "metadata": {},
   "outputs": [
    {
     "data": {
      "text/plain": [
       "0.6856091578086672"
      ]
     },
     "execution_count": 114,
     "metadata": {},
     "output_type": "execute_result"
    }
   ],
   "source": [
    "recall = recall_score(y_train_pred_final.Converted, y_train_pred_final.predicted)\n",
    "recall"
   ]
  },
  {
   "cell_type": "markdown",
   "metadata": {},
   "source": [
    "### Precision and recall tradeoff"
   ]
  },
  {
   "cell_type": "code",
   "execution_count": 115,
   "metadata": {},
   "outputs": [
    {
     "data": {
      "text/plain": [
       "(0       0\n",
       " 1       0\n",
       " 2       0\n",
       " 3       1\n",
       " 4       1\n",
       "        ..\n",
       " 6346    0\n",
       " 6347    1\n",
       " 6348    0\n",
       " 6349    0\n",
       " 6350    0\n",
       " Name: Converted, Length: 6351, dtype: int64,\n",
       " 0       0\n",
       " 1       0\n",
       " 2       0\n",
       " 3       1\n",
       " 4       1\n",
       "        ..\n",
       " 6346    0\n",
       " 6347    0\n",
       " 6348    1\n",
       " 6349    0\n",
       " 6350    1\n",
       " Name: predicted, Length: 6351, dtype: int64)"
      ]
     },
     "execution_count": 115,
     "metadata": {},
     "output_type": "execute_result"
    }
   ],
   "source": [
    "y_train_pred_final.Converted, y_train_pred_final.predicted"
   ]
  },
  {
   "cell_type": "code",
   "execution_count": 116,
   "metadata": {},
   "outputs": [],
   "source": [
    "p, r, thresholds = precision_recall_curve(y_train_pred_final.Converted, y_train_pred_final.Converted_Prob)"
   ]
  },
  {
   "cell_type": "code",
   "execution_count": 117,
   "metadata": {
    "scrolled": true
   },
   "outputs": [
    {
     "data": {
      "image/png": "[encoded data removed]",
      "text/plain": [
       "<Figure size 432x288 with 1 Axes>"
      ]
     },
     "metadata": {
      "needs_background": "light"
     },
     "output_type": "display_data"
    }
   ],
   "source": [
    "plt.plot(thresholds, p[:-1], \"g-\")\n",
    "plt.plot(thresholds, r[:-1], \"r-\")\n",
    "plt.show()"
   ]
  },
  {
   "cell_type": "markdown",
   "metadata": {},
   "source": [
    "#### F1 Score"
   ]
  },
  {
   "cell_type": "code",
   "execution_count": 118,
   "metadata": {},
   "outputs": [
    {
     "name": "stdout",
     "output_type": "stream",
     "text": [
      "F1 Score:  0.7256598874945909\n"
     ]
    }
   ],
   "source": [
    "f1_score = 2*(recall * precision) / (recall + precision)\n",
    "print('F1 Score: ' , f1_score)"
   ]
  },
  {
   "cell_type": "markdown",
   "metadata": {},
   "source": [
    "### Step 11: Making predictions on the test set"
   ]
  },
  {
   "cell_type": "code",
   "execution_count": 119,
   "metadata": {},
   "outputs": [
    {
     "name": "stdout",
     "output_type": "stream",
     "text": [
      "['TotalVisits', 'TimeSpent', 'PageViews']\n"
     ]
    },
    {
     "data": {
      "text/html": [
       "<div>\n",
       "<style scoped>\n",
       "    .dataframe tbody tr th:only-of-type {\n",
       "        vertical-align: middle;\n",
       "    }\n",
       "\n",
       "    .dataframe tbody tr th {\n",
       "        vertical-align: top;\n",
       "    }\n",
       "\n",
       "    .dataframe thead th {\n",
       "        text-align: right;\n",
       "    }\n",
       "</style>\n",
       "<table border=\"1\" class=\"dataframe\">\n",
       "  <thead>\n",
       "    <tr style=\"text-align: right;\">\n",
       "      <th></th>\n",
       "      <th>DNE</th>\n",
       "      <th>TotalVisits</th>\n",
       "      <th>TimeSpent</th>\n",
       "      <th>PageViews</th>\n",
       "      <th>FreeCopy</th>\n",
       "      <th>Origin_Landing Page Submission</th>\n",
       "      <th>Origin_Lead Add Form</th>\n",
       "      <th>Origin_Others</th>\n",
       "      <th>City_Other Cities</th>\n",
       "      <th>City_Thane &amp; Outskirts</th>\n",
       "      <th>...</th>\n",
       "      <th>Lst_Not_Act_SMS Sent</th>\n",
       "      <th>Spec_Finance Management</th>\n",
       "      <th>Spec_Human Resource Management</th>\n",
       "      <th>Spec_Marketing Management</th>\n",
       "      <th>Spec_Operations Management</th>\n",
       "      <th>Src_Direct Traffic</th>\n",
       "      <th>Src_Google</th>\n",
       "      <th>Src_Olark Chat</th>\n",
       "      <th>Src_Organic Search</th>\n",
       "      <th>Src_Reference</th>\n",
       "    </tr>\n",
       "  </thead>\n",
       "  <tbody>\n",
       "    <tr>\n",
       "      <th>3271</th>\n",
       "      <td>0</td>\n",
       "      <td>0.304501</td>\n",
       "      <td>-0.596974</td>\n",
       "      <td>0.998931</td>\n",
       "      <td>0</td>\n",
       "      <td>0</td>\n",
       "      <td>0</td>\n",
       "      <td>0</td>\n",
       "      <td>1</td>\n",
       "      <td>0</td>\n",
       "      <td>...</td>\n",
       "      <td>0</td>\n",
       "      <td>0</td>\n",
       "      <td>0</td>\n",
       "      <td>0</td>\n",
       "      <td>0</td>\n",
       "      <td>0</td>\n",
       "      <td>1</td>\n",
       "      <td>0</td>\n",
       "      <td>0</td>\n",
       "      <td>0</td>\n",
       "    </tr>\n",
       "    <tr>\n",
       "      <th>1490</th>\n",
       "      <td>0</td>\n",
       "      <td>0.666261</td>\n",
       "      <td>1.983614</td>\n",
       "      <td>1.564920</td>\n",
       "      <td>1</td>\n",
       "      <td>1</td>\n",
       "      <td>0</td>\n",
       "      <td>0</td>\n",
       "      <td>0</td>\n",
       "      <td>0</td>\n",
       "      <td>...</td>\n",
       "      <td>0</td>\n",
       "      <td>0</td>\n",
       "      <td>0</td>\n",
       "      <td>0</td>\n",
       "      <td>0</td>\n",
       "      <td>1</td>\n",
       "      <td>0</td>\n",
       "      <td>0</td>\n",
       "      <td>0</td>\n",
       "      <td>0</td>\n",
       "    </tr>\n",
       "    <tr>\n",
       "      <th>7936</th>\n",
       "      <td>0</td>\n",
       "      <td>-0.419021</td>\n",
       "      <td>-0.754931</td>\n",
       "      <td>-0.133048</td>\n",
       "      <td>0</td>\n",
       "      <td>0</td>\n",
       "      <td>0</td>\n",
       "      <td>0</td>\n",
       "      <td>1</td>\n",
       "      <td>0</td>\n",
       "      <td>...</td>\n",
       "      <td>0</td>\n",
       "      <td>0</td>\n",
       "      <td>0</td>\n",
       "      <td>0</td>\n",
       "      <td>0</td>\n",
       "      <td>0</td>\n",
       "      <td>1</td>\n",
       "      <td>0</td>\n",
       "      <td>0</td>\n",
       "      <td>0</td>\n",
       "    </tr>\n",
       "    <tr>\n",
       "      <th>4216</th>\n",
       "      <td>0</td>\n",
       "      <td>-1.142542</td>\n",
       "      <td>-0.895759</td>\n",
       "      <td>-1.265027</td>\n",
       "      <td>0</td>\n",
       "      <td>0</td>\n",
       "      <td>1</td>\n",
       "      <td>0</td>\n",
       "      <td>0</td>\n",
       "      <td>0</td>\n",
       "      <td>...</td>\n",
       "      <td>0</td>\n",
       "      <td>0</td>\n",
       "      <td>0</td>\n",
       "      <td>0</td>\n",
       "      <td>0</td>\n",
       "      <td>0</td>\n",
       "      <td>0</td>\n",
       "      <td>0</td>\n",
       "      <td>0</td>\n",
       "      <td>1</td>\n",
       "    </tr>\n",
       "    <tr>\n",
       "      <th>3830</th>\n",
       "      <td>0</td>\n",
       "      <td>1.751544</td>\n",
       "      <td>-0.583653</td>\n",
       "      <td>2.130909</td>\n",
       "      <td>1</td>\n",
       "      <td>1</td>\n",
       "      <td>0</td>\n",
       "      <td>0</td>\n",
       "      <td>1</td>\n",
       "      <td>0</td>\n",
       "      <td>...</td>\n",
       "      <td>0</td>\n",
       "      <td>0</td>\n",
       "      <td>0</td>\n",
       "      <td>0</td>\n",
       "      <td>0</td>\n",
       "      <td>0</td>\n",
       "      <td>0</td>\n",
       "      <td>0</td>\n",
       "      <td>1</td>\n",
       "      <td>0</td>\n",
       "    </tr>\n",
       "  </tbody>\n",
       "</table>\n",
       "<p>5 rows × 22 columns</p>\n",
       "</div>"
      ],
      "text/plain": [
       "      DNE  TotalVisits  TimeSpent  PageViews  FreeCopy  \\\n",
       "3271    0     0.304501  -0.596974   0.998931         0   \n",
       "1490    0     0.666261   1.983614   1.564920         1   \n",
       "7936    0    -0.419021  -0.754931  -0.133048         0   \n",
       "4216    0    -1.142542  -0.895759  -1.265027         0   \n",
       "3830    0     1.751544  -0.583653   2.130909         1   \n",
       "\n",
       "      Origin_Landing Page Submission  Origin_Lead Add Form  Origin_Others  \\\n",
       "3271                               0                     0              0   \n",
       "1490                               1                     0              0   \n",
       "7936                               0                     0              0   \n",
       "4216                               0                     1              0   \n",
       "3830                               1                     0              0   \n",
       "\n",
       "      City_Other Cities  City_Thane & Outskirts  ...  Lst_Not_Act_SMS Sent  \\\n",
       "3271                  1                       0  ...                     0   \n",
       "1490                  0                       0  ...                     0   \n",
       "7936                  1                       0  ...                     0   \n",
       "4216                  0                       0  ...                     0   \n",
       "3830                  1                       0  ...                     0   \n",
       "\n",
       "      Spec_Finance Management  Spec_Human Resource Management  \\\n",
       "3271                        0                               0   \n",
       "1490                        0                               0   \n",
       "7936                        0                               0   \n",
       "4216                        0                               0   \n",
       "3830                        0                               0   \n",
       "\n",
       "      Spec_Marketing Management  Spec_Operations Management  \\\n",
       "3271                          0                           0   \n",
       "1490                          0                           0   \n",
       "7936                          0                           0   \n",
       "4216                          0                           0   \n",
       "3830                          0                           0   \n",
       "\n",
       "      Src_Direct Traffic  Src_Google  Src_Olark Chat  Src_Organic Search  \\\n",
       "3271                   0           1               0                   0   \n",
       "1490                   1           0               0                   0   \n",
       "7936                   0           1               0                   0   \n",
       "4216                   0           0               0                   0   \n",
       "3830                   0           0               0                   1   \n",
       "\n",
       "      Src_Reference  \n",
       "3271              0  \n",
       "1490              0  \n",
       "7936              0  \n",
       "4216              1  \n",
       "3830              0  \n",
       "\n",
       "[5 rows x 22 columns]"
      ]
     },
     "execution_count": 119,
     "metadata": {},
     "output_type": "execute_result"
    }
   ],
   "source": [
    "print(continuos_vars)\n",
    "\n",
    "X_test[continuos_vars] = scaler.fit_transform(X_test[continuos_vars])\n",
    "X_test.head()"
   ]
  },
  {
   "cell_type": "code",
   "execution_count": 120,
   "metadata": {},
   "outputs": [
    {
     "data": {
      "text/html": [
       "<div>\n",
       "<style scoped>\n",
       "    .dataframe tbody tr th:only-of-type {\n",
       "        vertical-align: middle;\n",
       "    }\n",
       "\n",
       "    .dataframe tbody tr th {\n",
       "        vertical-align: top;\n",
       "    }\n",
       "\n",
       "    .dataframe thead th {\n",
       "        text-align: right;\n",
       "    }\n",
       "</style>\n",
       "<table border=\"1\" class=\"dataframe\">\n",
       "  <thead>\n",
       "    <tr style=\"text-align: right;\">\n",
       "      <th></th>\n",
       "      <th>DNE</th>\n",
       "      <th>TimeSpent</th>\n",
       "      <th>Origin_Lead Add Form</th>\n",
       "      <th>Origin_Others</th>\n",
       "      <th>Lst_Not_Act_Modified</th>\n",
       "      <th>Lst_Not_Act_SMS Sent</th>\n",
       "      <th>Spec_Finance Management</th>\n",
       "      <th>Spec_Human Resource Management</th>\n",
       "      <th>Spec_Marketing Management</th>\n",
       "      <th>Spec_Operations Management</th>\n",
       "      <th>Src_Direct Traffic</th>\n",
       "      <th>Src_Olark Chat</th>\n",
       "    </tr>\n",
       "  </thead>\n",
       "  <tbody>\n",
       "    <tr>\n",
       "      <th>3271</th>\n",
       "      <td>0</td>\n",
       "      <td>-0.596974</td>\n",
       "      <td>0</td>\n",
       "      <td>0</td>\n",
       "      <td>0</td>\n",
       "      <td>0</td>\n",
       "      <td>0</td>\n",
       "      <td>0</td>\n",
       "      <td>0</td>\n",
       "      <td>0</td>\n",
       "      <td>0</td>\n",
       "      <td>0</td>\n",
       "    </tr>\n",
       "    <tr>\n",
       "      <th>1490</th>\n",
       "      <td>0</td>\n",
       "      <td>1.983614</td>\n",
       "      <td>0</td>\n",
       "      <td>0</td>\n",
       "      <td>0</td>\n",
       "      <td>0</td>\n",
       "      <td>0</td>\n",
       "      <td>0</td>\n",
       "      <td>0</td>\n",
       "      <td>0</td>\n",
       "      <td>1</td>\n",
       "      <td>0</td>\n",
       "    </tr>\n",
       "    <tr>\n",
       "      <th>7936</th>\n",
       "      <td>0</td>\n",
       "      <td>-0.754931</td>\n",
       "      <td>0</td>\n",
       "      <td>0</td>\n",
       "      <td>0</td>\n",
       "      <td>0</td>\n",
       "      <td>0</td>\n",
       "      <td>0</td>\n",
       "      <td>0</td>\n",
       "      <td>0</td>\n",
       "      <td>0</td>\n",
       "      <td>0</td>\n",
       "    </tr>\n",
       "    <tr>\n",
       "      <th>4216</th>\n",
       "      <td>0</td>\n",
       "      <td>-0.895759</td>\n",
       "      <td>1</td>\n",
       "      <td>0</td>\n",
       "      <td>1</td>\n",
       "      <td>0</td>\n",
       "      <td>0</td>\n",
       "      <td>0</td>\n",
       "      <td>0</td>\n",
       "      <td>0</td>\n",
       "      <td>0</td>\n",
       "      <td>0</td>\n",
       "    </tr>\n",
       "    <tr>\n",
       "      <th>3830</th>\n",
       "      <td>0</td>\n",
       "      <td>-0.583653</td>\n",
       "      <td>0</td>\n",
       "      <td>0</td>\n",
       "      <td>0</td>\n",
       "      <td>0</td>\n",
       "      <td>0</td>\n",
       "      <td>0</td>\n",
       "      <td>0</td>\n",
       "      <td>0</td>\n",
       "      <td>0</td>\n",
       "      <td>0</td>\n",
       "    </tr>\n",
       "  </tbody>\n",
       "</table>\n",
       "</div>"
      ],
      "text/plain": [
       "      DNE  TimeSpent  Origin_Lead Add Form  Origin_Others  \\\n",
       "3271    0  -0.596974                     0              0   \n",
       "1490    0   1.983614                     0              0   \n",
       "7936    0  -0.754931                     0              0   \n",
       "4216    0  -0.895759                     1              0   \n",
       "3830    0  -0.583653                     0              0   \n",
       "\n",
       "      Lst_Not_Act_Modified  Lst_Not_Act_SMS Sent  Spec_Finance Management  \\\n",
       "3271                     0                     0                        0   \n",
       "1490                     0                     0                        0   \n",
       "7936                     0                     0                        0   \n",
       "4216                     1                     0                        0   \n",
       "3830                     0                     0                        0   \n",
       "\n",
       "      Spec_Human Resource Management  Spec_Marketing Management  \\\n",
       "3271                               0                          0   \n",
       "1490                               0                          0   \n",
       "7936                               0                          0   \n",
       "4216                               0                          0   \n",
       "3830                               0                          0   \n",
       "\n",
       "      Spec_Operations Management  Src_Direct Traffic  Src_Olark Chat  \n",
       "3271                           0                   0               0  \n",
       "1490                           0                   1               0  \n",
       "7936                           0                   0               0  \n",
       "4216                           0                   0               0  \n",
       "3830                           0                   0               0  "
      ]
     },
     "execution_count": 120,
     "metadata": {},
     "output_type": "execute_result"
    }
   ],
   "source": [
    "X_test = X_test[col]\n",
    "X_test.head()"
   ]
  },
  {
   "cell_type": "code",
   "execution_count": 121,
   "metadata": {},
   "outputs": [],
   "source": [
    "X_test_sm = sm.add_constant(X_test)"
   ]
  },
  {
   "cell_type": "markdown",
   "metadata": {},
   "source": [
    "Making predictions on the test set"
   ]
  },
  {
   "cell_type": "code",
   "execution_count": 122,
   "metadata": {},
   "outputs": [],
   "source": [
    "y_test_pred = res.predict(X_test_sm)"
   ]
  },
  {
   "cell_type": "code",
   "execution_count": 123,
   "metadata": {},
   "outputs": [
    {
     "data": {
      "text/plain": [
       "3271    0.139975\n",
       "1490    0.692742\n",
       "7936    0.119348\n",
       "4216    0.835614\n",
       "3830    0.141845\n",
       "1800    0.167444\n",
       "6507    0.477836\n",
       "4821    0.337542\n",
       "4223    0.977755\n",
       "4714    0.132665\n",
       "dtype: float64"
      ]
     },
     "execution_count": 123,
     "metadata": {},
     "output_type": "execute_result"
    }
   ],
   "source": [
    "y_test_pred[:10]"
   ]
  },
  {
   "cell_type": "code",
   "execution_count": 124,
   "metadata": {},
   "outputs": [],
   "source": [
    "# Converting y_pred to a dataframe which is an array\n",
    "y_pred_1 = pd.DataFrame(y_test_pred)"
   ]
  },
  {
   "cell_type": "code",
   "execution_count": 125,
   "metadata": {},
   "outputs": [
    {
     "data": {
      "text/html": [
       "<div>\n",
       "<style scoped>\n",
       "    .dataframe tbody tr th:only-of-type {\n",
       "        vertical-align: middle;\n",
       "    }\n",
       "\n",
       "    .dataframe tbody tr th {\n",
       "        vertical-align: top;\n",
       "    }\n",
       "\n",
       "    .dataframe thead th {\n",
       "        text-align: right;\n",
       "    }\n",
       "</style>\n",
       "<table border=\"1\" class=\"dataframe\">\n",
       "  <thead>\n",
       "    <tr style=\"text-align: right;\">\n",
       "      <th></th>\n",
       "      <th>0</th>\n",
       "    </tr>\n",
       "  </thead>\n",
       "  <tbody>\n",
       "    <tr>\n",
       "      <th>3271</th>\n",
       "      <td>0.139975</td>\n",
       "    </tr>\n",
       "    <tr>\n",
       "      <th>1490</th>\n",
       "      <td>0.692742</td>\n",
       "    </tr>\n",
       "    <tr>\n",
       "      <th>7936</th>\n",
       "      <td>0.119348</td>\n",
       "    </tr>\n",
       "    <tr>\n",
       "      <th>4216</th>\n",
       "      <td>0.835614</td>\n",
       "    </tr>\n",
       "    <tr>\n",
       "      <th>3830</th>\n",
       "      <td>0.141845</td>\n",
       "    </tr>\n",
       "  </tbody>\n",
       "</table>\n",
       "</div>"
      ],
      "text/plain": [
       "             0\n",
       "3271  0.139975\n",
       "1490  0.692742\n",
       "7936  0.119348\n",
       "4216  0.835614\n",
       "3830  0.141845"
      ]
     },
     "execution_count": 125,
     "metadata": {},
     "output_type": "execute_result"
    }
   ],
   "source": [
    "# Let's see the head\n",
    "y_pred_1.head()"
   ]
  },
  {
   "cell_type": "code",
   "execution_count": 126,
   "metadata": {},
   "outputs": [],
   "source": [
    "# Converting y_test to dataframe\n",
    "y_test_df = pd.DataFrame(y_test)"
   ]
  },
  {
   "cell_type": "code",
   "execution_count": 127,
   "metadata": {},
   "outputs": [],
   "source": [
    "# Putting Prospect ID to index\n",
    "y_test_df['Prospect ID'] = y_test_df.index"
   ]
  },
  {
   "cell_type": "code",
   "execution_count": 128,
   "metadata": {},
   "outputs": [],
   "source": [
    "# Removing index for both dataframes to append them side by side \n",
    "y_pred_1.reset_index(drop=True, inplace=True)\n",
    "y_test_df.reset_index(drop=True, inplace=True)"
   ]
  },
  {
   "cell_type": "code",
   "execution_count": 129,
   "metadata": {},
   "outputs": [],
   "source": [
    "# Appending y_test_df and y_pred_1\n",
    "y_pred_final = pd.concat([y_test_df, y_pred_1],axis=1)"
   ]
  },
  {
   "cell_type": "code",
   "execution_count": 130,
   "metadata": {},
   "outputs": [
    {
     "data": {
      "text/html": [
       "<div>\n",
       "<style scoped>\n",
       "    .dataframe tbody tr th:only-of-type {\n",
       "        vertical-align: middle;\n",
       "    }\n",
       "\n",
       "    .dataframe tbody tr th {\n",
       "        vertical-align: top;\n",
       "    }\n",
       "\n",
       "    .dataframe thead th {\n",
       "        text-align: right;\n",
       "    }\n",
       "</style>\n",
       "<table border=\"1\" class=\"dataframe\">\n",
       "  <thead>\n",
       "    <tr style=\"text-align: right;\">\n",
       "      <th></th>\n",
       "      <th>Converted</th>\n",
       "      <th>Prospect ID</th>\n",
       "      <th>0</th>\n",
       "    </tr>\n",
       "  </thead>\n",
       "  <tbody>\n",
       "    <tr>\n",
       "      <th>0</th>\n",
       "      <td>0</td>\n",
       "      <td>3271</td>\n",
       "      <td>0.139975</td>\n",
       "    </tr>\n",
       "    <tr>\n",
       "      <th>1</th>\n",
       "      <td>1</td>\n",
       "      <td>1490</td>\n",
       "      <td>0.692742</td>\n",
       "    </tr>\n",
       "    <tr>\n",
       "      <th>2</th>\n",
       "      <td>0</td>\n",
       "      <td>7936</td>\n",
       "      <td>0.119348</td>\n",
       "    </tr>\n",
       "    <tr>\n",
       "      <th>3</th>\n",
       "      <td>1</td>\n",
       "      <td>4216</td>\n",
       "      <td>0.835614</td>\n",
       "    </tr>\n",
       "    <tr>\n",
       "      <th>4</th>\n",
       "      <td>0</td>\n",
       "      <td>3830</td>\n",
       "      <td>0.141845</td>\n",
       "    </tr>\n",
       "  </tbody>\n",
       "</table>\n",
       "</div>"
      ],
      "text/plain": [
       "   Converted  Prospect ID         0\n",
       "0          0         3271  0.139975\n",
       "1          1         1490  0.692742\n",
       "2          0         7936  0.119348\n",
       "3          1         4216  0.835614\n",
       "4          0         3830  0.141845"
      ]
     },
     "execution_count": 130,
     "metadata": {},
     "output_type": "execute_result"
    }
   ],
   "source": [
    "y_pred_final.head()"
   ]
  },
  {
   "cell_type": "code",
   "execution_count": 131,
   "metadata": {},
   "outputs": [],
   "source": [
    "# Renaming the column \n",
    "y_pred_final= y_pred_final.rename(columns={ 0 : 'Converted_Prob'})"
   ]
  },
  {
   "cell_type": "code",
   "execution_count": 132,
   "metadata": {},
   "outputs": [
    {
     "data": {
      "text/html": [
       "<div>\n",
       "<style scoped>\n",
       "    .dataframe tbody tr th:only-of-type {\n",
       "        vertical-align: middle;\n",
       "    }\n",
       "\n",
       "    .dataframe tbody tr th {\n",
       "        vertical-align: top;\n",
       "    }\n",
       "\n",
       "    .dataframe thead th {\n",
       "        text-align: right;\n",
       "    }\n",
       "</style>\n",
       "<table border=\"1\" class=\"dataframe\">\n",
       "  <thead>\n",
       "    <tr style=\"text-align: right;\">\n",
       "      <th></th>\n",
       "      <th>Prospect ID</th>\n",
       "      <th>Converted</th>\n",
       "      <th>Converted_Prob</th>\n",
       "      <th>Lead_Score</th>\n",
       "    </tr>\n",
       "  </thead>\n",
       "  <tbody>\n",
       "    <tr>\n",
       "      <th>0</th>\n",
       "      <td>3271</td>\n",
       "      <td>0</td>\n",
       "      <td>0.139975</td>\n",
       "      <td>14</td>\n",
       "    </tr>\n",
       "    <tr>\n",
       "      <th>1</th>\n",
       "      <td>1490</td>\n",
       "      <td>1</td>\n",
       "      <td>0.692742</td>\n",
       "      <td>69</td>\n",
       "    </tr>\n",
       "    <tr>\n",
       "      <th>2</th>\n",
       "      <td>7936</td>\n",
       "      <td>0</td>\n",
       "      <td>0.119348</td>\n",
       "      <td>12</td>\n",
       "    </tr>\n",
       "    <tr>\n",
       "      <th>3</th>\n",
       "      <td>4216</td>\n",
       "      <td>1</td>\n",
       "      <td>0.835614</td>\n",
       "      <td>84</td>\n",
       "    </tr>\n",
       "    <tr>\n",
       "      <th>4</th>\n",
       "      <td>3830</td>\n",
       "      <td>0</td>\n",
       "      <td>0.141845</td>\n",
       "      <td>14</td>\n",
       "    </tr>\n",
       "  </tbody>\n",
       "</table>\n",
       "</div>"
      ],
      "text/plain": [
       "   Prospect ID  Converted  Converted_Prob  Lead_Score\n",
       "0         3271          0        0.139975          14\n",
       "1         1490          1        0.692742          69\n",
       "2         7936          0        0.119348          12\n",
       "3         4216          1        0.835614          84\n",
       "4         3830          0        0.141845          14"
      ]
     },
     "execution_count": 132,
     "metadata": {},
     "output_type": "execute_result"
    }
   ],
   "source": [
    "# Rearranging the columns\n",
    "\n",
    "y_pred_final = y_pred_final[['Prospect ID','Converted','Converted_Prob']]\n",
    "y_pred_final['Lead_Score'] = y_pred_final.Converted_Prob.map( lambda x: round(x*100))\n",
    "\n",
    "# Let's see the head of y_pred_final\n",
    "y_pred_final.head()"
   ]
  },
  {
   "cell_type": "code",
   "execution_count": 133,
   "metadata": {},
   "outputs": [],
   "source": [
    "y_pred_final['Final_Predicted'] = y_pred_final.Converted_Prob.map(lambda x: 1 if x > 0.35 else 0)"
   ]
  },
  {
   "cell_type": "code",
   "execution_count": 134,
   "metadata": {},
   "outputs": [
    {
     "data": {
      "text/html": [
       "<div>\n",
       "<style scoped>\n",
       "    .dataframe tbody tr th:only-of-type {\n",
       "        vertical-align: middle;\n",
       "    }\n",
       "\n",
       "    .dataframe tbody tr th {\n",
       "        vertical-align: top;\n",
       "    }\n",
       "\n",
       "    .dataframe thead th {\n",
       "        text-align: right;\n",
       "    }\n",
       "</style>\n",
       "<table border=\"1\" class=\"dataframe\">\n",
       "  <thead>\n",
       "    <tr style=\"text-align: right;\">\n",
       "      <th></th>\n",
       "      <th>Prospect ID</th>\n",
       "      <th>Converted</th>\n",
       "      <th>Converted_Prob</th>\n",
       "      <th>Lead_Score</th>\n",
       "      <th>Final_Predicted</th>\n",
       "    </tr>\n",
       "  </thead>\n",
       "  <tbody>\n",
       "    <tr>\n",
       "      <th>0</th>\n",
       "      <td>3271</td>\n",
       "      <td>0</td>\n",
       "      <td>0.139975</td>\n",
       "      <td>14</td>\n",
       "      <td>0</td>\n",
       "    </tr>\n",
       "    <tr>\n",
       "      <th>1</th>\n",
       "      <td>1490</td>\n",
       "      <td>1</td>\n",
       "      <td>0.692742</td>\n",
       "      <td>69</td>\n",
       "      <td>1</td>\n",
       "    </tr>\n",
       "    <tr>\n",
       "      <th>2</th>\n",
       "      <td>7936</td>\n",
       "      <td>0</td>\n",
       "      <td>0.119348</td>\n",
       "      <td>12</td>\n",
       "      <td>0</td>\n",
       "    </tr>\n",
       "    <tr>\n",
       "      <th>3</th>\n",
       "      <td>4216</td>\n",
       "      <td>1</td>\n",
       "      <td>0.835614</td>\n",
       "      <td>84</td>\n",
       "      <td>1</td>\n",
       "    </tr>\n",
       "    <tr>\n",
       "      <th>4</th>\n",
       "      <td>3830</td>\n",
       "      <td>0</td>\n",
       "      <td>0.141845</td>\n",
       "      <td>14</td>\n",
       "      <td>0</td>\n",
       "    </tr>\n",
       "  </tbody>\n",
       "</table>\n",
       "</div>"
      ],
      "text/plain": [
       "   Prospect ID  Converted  Converted_Prob  Lead_Score  Final_Predicted\n",
       "0         3271          0        0.139975          14                0\n",
       "1         1490          1        0.692742          69                1\n",
       "2         7936          0        0.119348          12                0\n",
       "3         4216          1        0.835614          84                1\n",
       "4         3830          0        0.141845          14                0"
      ]
     },
     "execution_count": 134,
     "metadata": {},
     "output_type": "execute_result"
    }
   ],
   "source": [
    "y_pred_final.head()"
   ]
  },
  {
   "cell_type": "markdown",
   "metadata": {},
   "source": [
    "####  Accuracy - Test Data"
   ]
  },
  {
   "cell_type": "code",
   "execution_count": 135,
   "metadata": {
    "scrolled": true
   },
   "outputs": [
    {
     "data": {
      "text/plain": [
       "0.7888358428204186"
      ]
     },
     "execution_count": 135,
     "metadata": {},
     "output_type": "execute_result"
    }
   ],
   "source": [
    "# Let's check the overall accuracy.\n",
    "metrics.accuracy_score(y_pred_final.Converted, y_pred_final.Final_Predicted)"
   ]
  },
  {
   "cell_type": "code",
   "execution_count": 136,
   "metadata": {
    "scrolled": true
   },
   "outputs": [
    {
     "data": {
      "text/plain": [
       "array([[1382,  352],\n",
       "       [ 223,  766]], dtype=int64)"
      ]
     },
     "execution_count": 136,
     "metadata": {},
     "output_type": "execute_result"
    }
   ],
   "source": [
    "confusion2 = metrics.confusion_matrix(y_pred_final.Converted, y_pred_final.Final_Predicted )\n",
    "confusion2"
   ]
  },
  {
   "cell_type": "code",
   "execution_count": 137,
   "metadata": {},
   "outputs": [],
   "source": [
    "TP = confusion2[1,1] # true positive \n",
    "TN = confusion2[0,0] # true negatives\n",
    "FP = confusion2[0,1] # false positives\n",
    "FN = confusion2[1,0] # false negatives"
   ]
  },
  {
   "cell_type": "markdown",
   "metadata": {},
   "source": [
    "####  Sensitivity - Test Data"
   ]
  },
  {
   "cell_type": "code",
   "execution_count": 138,
   "metadata": {},
   "outputs": [
    {
     "data": {
      "text/plain": [
       "0.7745197168857432"
      ]
     },
     "execution_count": 138,
     "metadata": {},
     "output_type": "execute_result"
    }
   ],
   "source": [
    "# Let's see the sensitivity of our logistic regression model\n",
    "TP / float(TP+FN)"
   ]
  },
  {
   "cell_type": "markdown",
   "metadata": {},
   "source": [
    "####  Specificity - Test Data"
   ]
  },
  {
   "cell_type": "code",
   "execution_count": 139,
   "metadata": {},
   "outputs": [
    {
     "data": {
      "text/plain": [
       "0.7970011534025375"
      ]
     },
     "execution_count": 139,
     "metadata": {},
     "output_type": "execute_result"
    }
   ],
   "source": [
    "# Let us calculate specificity\n",
    "TN / float(TN+FP)"
   ]
  },
  {
   "cell_type": "markdown",
   "metadata": {},
   "source": [
    "## Final Observations:\n",
    "Let us compare the metrics for Train & Test:\n",
    " - Train Data: \n",
    "        Accuracy    : 80.03%\n",
    "        Sensitivity : 80.08%\n",
    "        Specificity : 79.94%\n",
    "        \n",
    " - Test Data: \n",
    "        Accuracy    : 78.73%\n",
    "        Sensitivity : 77.75%\n",
    "        Specificity : 79.70%\n"
   ]
  },
  {
   "cell_type": "markdown",
   "metadata": {},
   "source": [
    "The Model looks good and seems to predict the Conversion Rate very well which CEO confidence in making good calls based on this model"
   ]
  }
 ],
 "metadata": {
  "kernelspec": {
   "display_name": "Python 3",
   "language": "python",
   "name": "python3"
  },
  "language_info": {
   "codemirror_mode": {
    "name": "ipython",
    "version": 3
   },
   "file_extension": ".py",
   "mimetype": "text/x-python",
   "name": "python",
   "nbconvert_exporter": "python",
   "pygments_lexer": "ipython3",
   "version": "3.7.6"
  }
 },
 "nbformat": 4,
 "nbformat_minor": 2
}
